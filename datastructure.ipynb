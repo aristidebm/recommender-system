{
 "cells": [
  {
   "metadata": {
    "collapsed": true,
    "ExecuteTime": {
     "end_time": "2024-10-28T13:15:00.600057Z",
     "start_time": "2024-10-28T13:15:00.100576Z"
    }
   },
   "cell_type": "code",
   "source": [
    "import contextlib\n",
    "import math\n",
    "import random\n",
    "import numpy as np\n",
    "from csv import DictReader\n",
    "from functools import cached_property\n",
    "from typing import Iterable, Callable, Sequence\n",
    "\n",
    "from matplotlib import pyplot as plt\n",
    "\n",
    "\n",
    "class logger:  # noqa\n",
    "    # Fake logger\n",
    "    log = staticmethod(print)"
   ],
   "id": "initial_id",
   "outputs": [],
   "execution_count": 1
  },
  {
   "metadata": {
    "ExecuteTime": {
     "end_time": "2024-10-28T13:15:00.698467Z",
     "start_time": "2024-10-28T13:15:00.631030Z"
    }
   },
   "cell_type": "code",
   "source": [
    "import doctest\n",
    "from abc import ABC, abstractmethod\n",
    "from collections import defaultdict, Counter\n",
    "\n",
    "\n",
    "class AbstractSerialMapper(ABC):\n",
    "\n",
    "    NOTHING = object()\n",
    "\n",
    "    def __init__(self):\n",
    "        self._data = []\n",
    "\n",
    "    @abstractmethod\n",
    "    def add(self, value, *args, **kwargs):\n",
    "        pass\n",
    "\n",
    "    def __len__(self):\n",
    "        return len(self._data)\n",
    "\n",
    "    def __getitem__(self, key):\n",
    "        with contextlib.suppress(IndexError):\n",
    "            return self._data[key]\n",
    "\n",
    "    def __iter__(self):\n",
    "        \"\"\"Iterates through the indices from 0 to len(self._data)\"\"\"\n",
    "        return iter(range(self.__len__()))\n",
    "\n",
    "\n",
    "class SerialUnidirectionalMapper(AbstractSerialMapper):\n",
    "    def __init__(self):\n",
    "        super().__init__()\n",
    "\n",
    "    def add(self, data, *args, key=None, **kwargs):\n",
    "        if key is None:\n",
    "            self._data.append([] if data is self.NOTHING else [data])\n",
    "        else:\n",
    "            self._data[key].append(data)\n",
    "\n",
    "\n",
    "class SerialBidirectionalMapper(AbstractSerialMapper):\n",
    "\n",
    "    def __init__(self):\n",
    "        super().__init__()\n",
    "        self._data = []\n",
    "        self._inverse_data = defaultdict(lambda: None)\n",
    "\n",
    "    def __getitem__(self, key):\n",
    "        return self._data[key]\n",
    "\n",
    "    def add(self, data, *args, **kwargs):\n",
    "        self._inverse_data[data] = len(self._data)\n",
    "        self._data.append(data)\n",
    "\n",
    "    @property\n",
    "    def inverse(self):\n",
    "        \"\"\"\n",
    "        Data to index mapping\n",
    "        \"\"\"\n",
    "        return self._inverse_data\n",
    "\n",
    "\n",
    "class InMemory2DIndexer(object):\n",
    "    \"\"\"\n",
    "    An in-memory 2D indexer for efficiently store users, items and their related data from a CSV file.\n",
    "\n",
    "    This class provides an efficient mechanism to map and store large datasets\n",
    "    using bijective mappings between user/item names and their corresponding IDs.\n",
    "\n",
    "    Example usage:\n",
    "        >>> # Testing the creation of an in-memory 2D indexer\n",
    "        >>> InMemory2DIndexer.create_from_csv(\n",
    "        ...     file_path=\"./ml-32m/ratings.csv\",\n",
    "        ...     user_header=\"userId\",\n",
    "        ...     item_header=\"movieId\",\n",
    "        ...     limit=10\n",
    "        ... )  # doctest:+ELLIPSIS\n",
    "        Limit of entries (.i.e 10) to load has been reached. Exiting without loading the rest...\n",
    "        <__main__.InMemory2DIndexer object at ...\n",
    "        >>> # Testing that we can load data effectively\n",
    "        >>> indexed_data = InMemory2DIndexer.create_from_csv(\n",
    "        ...     file_path=\"./ml-32m/ratings.csv\",\n",
    "        ...     user_header=\"userId\",\n",
    "        ...     item_header=\"movieId\",\n",
    "        ...     limit=400\n",
    "        ... )  # doctest:+ELLIPSIS\n",
    "        Limit of entries (.i.e 400) to load has been reached. Exiting without loading the rest...\n",
    "        >>> # Testing the content of the indexed_data\n",
    "        >>> # Expect `users_count` to be 5 for the 400th lines indexed\n",
    "        >>> indexed_data.users_count == 5\n",
    "        True\n",
    "        >>> # Expect `items_count` to be 327 for the 400th lines indexed\n",
    "        >>> indexed_data.items_count == 327\n",
    "        True\n",
    "        >>> indexed_data.id_to_user_bmap._data\n",
    "        ['1', '2', '3', '4', '5']\n",
    "    \"\"\"\n",
    "\n",
    "    LIMIT_TO_LOAD_IN_MEMORY = 1_000_000_000_000\n",
    "\n",
    "    def __init__(self):\n",
    "        self.id_to_item_bmap = SerialBidirectionalMapper()  # bijective mapping\n",
    "        self.id_to_user_bmap = SerialBidirectionalMapper()\n",
    "        self.data_by_user_id = SerialUnidirectionalMapper()  # subjective mapping\n",
    "        self.data_by_item_id = SerialUnidirectionalMapper()\n",
    "\n",
    "    def _construct_data(self, data, items):  # noqa\n",
    "        return (\n",
    "            self._data_constructor(data, items)\n",
    "            if self._data_constructor is not None\n",
    "            else data\n",
    "        )\n",
    "\n",
    "    def _initialize_extra_attributes(\n",
    "        self,\n",
    "        *,\n",
    "        user_header: str,\n",
    "        item_header: str,\n",
    "        file_path: str,\n",
    "        data_headers: Iterable = None,\n",
    "        data_constructor: Callable = None,\n",
    "        limit: int = None,\n",
    "        verbose: bool = False,\n",
    "    ):\n",
    "        self._user_header = user_header\n",
    "        self._item_header = item_header\n",
    "        self._file_path = file_path\n",
    "        self._verbose = verbose\n",
    "        self._data_headers = data_headers\n",
    "        self._data_constructor = data_constructor\n",
    "        self._limit = limit or self.LIMIT_TO_LOAD_IN_MEMORY\n",
    "\n",
    "    @classmethod\n",
    "    def create_from_csv(\n",
    "        cls,\n",
    "        *,\n",
    "        file_path: str,\n",
    "        user_header: str,\n",
    "        item_header: str,\n",
    "        data_headers: Iterable = None,\n",
    "        data_constructor: Callable = None,\n",
    "        limit: int = None,\n",
    "        verbose: bool = False,\n",
    "    ) -> \"InMemory2DIndexer\":\n",
    "\n",
    "        self = cls()\n",
    "        self._initialize_extra_attributes(\n",
    "            user_header=user_header,\n",
    "            item_header=item_header,\n",
    "            file_path=file_path,\n",
    "            data_headers=data_headers,\n",
    "            data_constructor=data_constructor,\n",
    "            limit=limit,\n",
    "            verbose=verbose,\n",
    "        )\n",
    "\n",
    "        indexed_count = 0\n",
    "\n",
    "        try:\n",
    "            with open(file_path, mode=\"r\", newline=\"\") as csvfile:\n",
    "                for line_count, line in enumerate(DictReader(csvfile)):\n",
    "                    user, item = line[self._user_header], line[self._item_header]\n",
    "                    # Unlikely in this dataset but better have this guard\n",
    "                    if not all([user, item]):\n",
    "                        logger.log(\n",
    "                            f\"Cannot process the line {line_count}, cause expects `user` and `item` to be defined but got {user} and {item} for them respectively, skipping...\"\n",
    "                        )\n",
    "                        continue\n",
    "\n",
    "                    user_id = self.id_to_user_bmap.inverse[user]\n",
    "                    item_id = self.id_to_item_bmap.inverse[item]\n",
    "\n",
    "                    if user_id is None:\n",
    "                        # This user is a new one, so add it\n",
    "                        self.id_to_user_bmap.add(user)\n",
    "\n",
    "                    if item_id is None:\n",
    "                        # This item is a new one, so add it\n",
    "                        self.id_to_item_bmap.add(item)\n",
    "\n",
    "                    # Add the data without the useless items for indexing\n",
    "                    data = self._construct_data(line, data_headers)\n",
    "\n",
    "                    self.data_by_user_id.add(data=data, key=user_id)\n",
    "                    self.data_by_item_id.add(data=data, key=item_id)\n",
    "\n",
    "                    if verbose:\n",
    "                        logger.log(\n",
    "                            f\"Indexed the line {indexed_count} of {file_path} successfully\"\n",
    "                        )\n",
    "\n",
    "                    indexed_count += 1\n",
    "                    if indexed_count == self._limit:\n",
    "                        logger.log(\n",
    "                            f\"Limit of entries (.i.e {limit}) to load has been reached. Exiting without loading the rest... \"\n",
    "                        )\n",
    "                        break\n",
    "\n",
    "            # Return the created instance\n",
    "            return self\n",
    "        except (FileNotFoundError, KeyError) as exc:\n",
    "            logger.log(\n",
    "                f\"Cannot create `InMemory2DIndexer` instance from the given `file_path` .i.e {file_path}. Attempt failed with exception {exc}\"\n",
    "            )\n",
    "            raise\n",
    "\n",
    "    @property\n",
    "    def users_count(self) -> int:\n",
    "        return len(self.id_to_user_bmap)\n",
    "\n",
    "    @property\n",
    "    def items_count(self) -> int:\n",
    "        return len(self.id_to_item_bmap)\n",
    "\n",
    "    @cached_property\n",
    "    def user_id_degree_map(self):\n",
    "        return {\n",
    "            user_id: len(self.data_by_user_id[user_id])\n",
    "            for user_id in self.id_to_user_bmap\n",
    "        }\n",
    "\n",
    "    @cached_property\n",
    "    def item_id_degree_map(self):\n",
    "        return {\n",
    "            item_id: len(self.data_by_item_id[item_id])\n",
    "            for item_id in self.id_to_item_bmap\n",
    "        }\n",
    "\n",
    "    def getdata_by_user_id(self, user_id):\n",
    "        return self.data_by_user_id[user_id]\n",
    "\n",
    "    def getdata_by_item_id(self, item_id):\n",
    "        return self.data_by_item_id[item_id]\n",
    "\n",
    "    def plot_data_item_distribution_as_hist(\n",
    "        self,\n",
    "        data_item: str,\n",
    "        plot_title: str = \"Distribution of Data item\",\n",
    "        plot_xlabel: str = \"Data item\",\n",
    "        plot_ylabel: str = \"Count\",\n",
    "    ):\n",
    "\n",
    "        data_to_plot = []\n",
    "        for user_id in self.id_to_user_bmap:\n",
    "            for data in self.data_by_user_id[user_id]:\n",
    "                data_to_plot.append(data[data_item])\n",
    "\n",
    "        plt.figure(figsize=(10, 6))\n",
    "        plt.hist(data_to_plot, bins=10, edgecolor=\"black\")\n",
    "        plt.title(plot_title)\n",
    "        plt.xlabel(plot_xlabel)\n",
    "        plt.ylabel(plot_ylabel)\n",
    "        plt.show()\n",
    "\n",
    "    def plot_power_low_distribution(self):  # noqa\n",
    "\n",
    "        user_degrees_occurrences = self.user_id_degree_map\n",
    "        movie_degrees_occurrences = self.item_id_degree_map\n",
    "        user_degrees_occurrences_counter = Counter(user_degrees_occurrences.values())\n",
    "        movie_degrees_occurrences_counter = Counter(movie_degrees_occurrences.values())\n",
    "\n",
    "        fig, ax = plt.subplots(figsize=(6, 4))\n",
    "\n",
    "        ax.scatter(\n",
    "            user_degrees_occurrences_counter.keys(),\n",
    "            user_degrees_occurrences_counter.values(),\n",
    "            label=\"Users\",\n",
    "        )\n",
    "        ax.scatter(\n",
    "            movie_degrees_occurrences_counter.keys(),\n",
    "            movie_degrees_occurrences_counter.values(),\n",
    "            label=\"Movies\",\n",
    "        )\n",
    "        ax.set_title(\"Degree distribution\")\n",
    "        ax.set_xlabel(\"Degree\")\n",
    "        ax.set_ylabel(\"Frequency\")\n",
    "        ax.legend()\n",
    "\n",
    "        plt.yscale(\"log\")\n",
    "        plt.xscale(\"log\")\n",
    "\n",
    "        plt.show()\n",
    "\n",
    "\n",
    "# Test that the indexer works well before proceeding\n",
    "doctest.testmod(report=True, verbose=True)"
   ],
   "id": "871f50e90a230ae8",
   "outputs": [
    {
     "name": "stdout",
     "output_type": "stream",
     "text": [
      "Trying:\n",
      "    InMemory2DIndexer.create_from_csv(\n",
      "        file_path=\"./ml-32m/ratings.csv\",\n",
      "        user_header=\"userId\",\n",
      "        item_header=\"movieId\",\n",
      "        limit=10\n",
      "    )  # doctest:+ELLIPSIS\n",
      "Expecting:\n",
      "    Limit of entries (.i.e 10) to load has been reached. Exiting without loading the rest...\n",
      "    <__main__.InMemory2DIndexer object at ...\n",
      "ok\n",
      "Trying:\n",
      "    indexed_data = InMemory2DIndexer.create_from_csv(\n",
      "        file_path=\"./ml-32m/ratings.csv\",\n",
      "        user_header=\"userId\",\n",
      "        item_header=\"movieId\",\n",
      "        limit=400\n",
      "    )  # doctest:+ELLIPSIS\n",
      "Expecting:\n",
      "    Limit of entries (.i.e 400) to load has been reached. Exiting without loading the rest...\n",
      "ok\n",
      "Trying:\n",
      "    indexed_data.users_count == 5\n",
      "Expecting:\n",
      "    True\n",
      "ok\n",
      "Trying:\n",
      "    indexed_data.items_count == 327\n",
      "Expecting:\n",
      "    True\n",
      "ok\n",
      "Trying:\n",
      "    indexed_data.id_to_user_bmap._data\n",
      "Expecting:\n",
      "    ['1', '2', '3', '4', '5']\n",
      "ok\n",
      "26 items had no tests:\n",
      "    __main__\n",
      "    __main__.AbstractSerialMapper\n",
      "    __main__.AbstractSerialMapper.__getitem__\n",
      "    __main__.AbstractSerialMapper.__init__\n",
      "    __main__.AbstractSerialMapper.__iter__\n",
      "    __main__.AbstractSerialMapper.__len__\n",
      "    __main__.AbstractSerialMapper.add\n",
      "    __main__.InMemory2DIndexer.__init__\n",
      "    __main__.InMemory2DIndexer._construct_data\n",
      "    __main__.InMemory2DIndexer._initialize_extra_attributes\n",
      "    __main__.InMemory2DIndexer.create_from_csv\n",
      "    __main__.InMemory2DIndexer.getdata_by_item_id\n",
      "    __main__.InMemory2DIndexer.getdata_by_user_id\n",
      "    __main__.InMemory2DIndexer.items_count\n",
      "    __main__.InMemory2DIndexer.plot_data_item_distribution_as_hist\n",
      "    __main__.InMemory2DIndexer.plot_power_low_distribution\n",
      "    __main__.InMemory2DIndexer.users_count\n",
      "    __main__.SerialBidirectionalMapper\n",
      "    __main__.SerialBidirectionalMapper.__getitem__\n",
      "    __main__.SerialBidirectionalMapper.__init__\n",
      "    __main__.SerialBidirectionalMapper.add\n",
      "    __main__.SerialBidirectionalMapper.inverse\n",
      "    __main__.SerialUnidirectionalMapper\n",
      "    __main__.SerialUnidirectionalMapper.__init__\n",
      "    __main__.SerialUnidirectionalMapper.add\n",
      "    __main__.logger\n",
      "1 items passed all tests:\n",
      "   5 tests in __main__.InMemory2DIndexer\n",
      "5 tests in 27 items.\n",
      "5 passed and 0 failed.\n",
      "Test passed.\n"
     ]
    },
    {
     "data": {
      "text/plain": [
       "TestResults(failed=0, attempted=5)"
      ]
     },
     "execution_count": 2,
     "metadata": {},
     "output_type": "execute_result"
    }
   ],
   "execution_count": 2
  },
  {
   "metadata": {
    "ExecuteTime": {
     "end_time": "2024-10-28T13:15:01.377860Z",
     "start_time": "2024-10-28T13:15:00.901127Z"
    }
   },
   "cell_type": "code",
   "source": [
    "# From here, we will use the domain vocabulary\n",
    "LINES_COUNT_TO_READ = 100_000\n",
    "\n",
    "indexed_data = InMemory2DIndexer.create_from_csv(\n",
    "    file_path=\"./ml-32m/ratings.csv\",\n",
    "    user_header=\"userId\",\n",
    "    item_header=\"movieId\",\n",
    "    data_headers=(\"rating\",),\n",
    "    limit=LINES_COUNT_TO_READ,\n",
    ")"
   ],
   "id": "f5ff076d8bb0e95f",
   "outputs": [
    {
     "name": "stdout",
     "output_type": "stream",
     "text": [
      "Limit of entries (.i.e 100000) to load has been reached. Exiting without loading the rest... \n"
     ]
    }
   ],
   "execution_count": 3
  },
  {
   "metadata": {
    "ExecuteTime": {
     "end_time": "2024-10-28T13:15:01.881799Z",
     "start_time": "2024-10-28T13:15:01.438593Z"
    }
   },
   "cell_type": "code",
   "source": "indexed_data.plot_data_item_distribution_as_hist(data_item=\"rating\")",
   "id": "e1d05f45c4222908",
   "outputs": [
    {
     "data": {
      "text/plain": [
       "<Figure size 1000x600 with 1 Axes>"
      ],
      "image/png": "[encoded data removed]"
     },
     "metadata": {},
     "output_type": "display_data"
    }
   ],
   "execution_count": 4
  },
  {
   "metadata": {
    "ExecuteTime": {
     "end_time": "2024-10-28T13:15:02.413066Z",
     "start_time": "2024-10-28T13:15:01.903108Z"
    }
   },
   "cell_type": "code",
   "source": "indexed_data.plot_power_low_distribution()",
   "id": "aa8c33677a0bc0c2",
   "outputs": [
    {
     "data": {
      "text/plain": [
       "<Figure size 600x400 with 1 Axes>"
      ],
      "image/png": "[encoded data removed]"
     },
     "metadata": {},
     "output_type": "display_data"
    }
   ],
   "execution_count": 5
  },
  {
   "metadata": {},
   "cell_type": "markdown",
   "source": "## Practical 2: biases only",
   "id": "6f4949a7e76cee9e"
  },
  {
   "metadata": {
    "ExecuteTime": {
     "end_time": "2024-10-28T13:15:02.477870Z",
     "start_time": "2024-10-28T13:15:02.428595Z"
    }
   },
   "cell_type": "code",
   "source": [
    "data_by_user_id__train = SerialUnidirectionalMapper()\n",
    "data_by_item_id__train = SerialUnidirectionalMapper()\n",
    "data_by_user_id__test = SerialUnidirectionalMapper()\n",
    "data_by_item_id__test = SerialUnidirectionalMapper()\n",
    "\n",
    "visited_user_ids = set()\n",
    "visited_movie_ids = set()\n",
    "\n",
    "RATIO = 0.2\n",
    "dataset_indices_based_representation = [\n",
    "    (user_id, user_movie_id)\n",
    "    for user_id in range(indexed_data.users_count)\n",
    "    for user_movie_id in range(indexed_data.user_id_degree_map[user_id])\n",
    "]\n",
    "\n",
    "sample = random.sample(\n",
    "    dataset_indices_based_representation,\n",
    "    math.floor(len(dataset_indices_based_representation) * RATIO),\n",
    ")\n",
    "\n",
    "# TODO: List should be fine here\n",
    "test_dataset_indices_based_representation = set(sample)"
   ],
   "id": "e7f355a0a05edae",
   "outputs": [],
   "execution_count": 6
  },
  {
   "metadata": {
    "ExecuteTime": {
     "end_time": "2024-10-28T13:15:02.945250Z",
     "start_time": "2024-10-28T13:15:02.544795Z"
    }
   },
   "cell_type": "code",
   "source": [
    "for user_id, user_movie_id in dataset_indices_based_representation:\n",
    "    # Get the movie using the `user_movie_id`\n",
    "    data = indexed_data.data_by_user_id[user_id][user_movie_id]\n",
    "    rating, movie = data[\"rating\"], data[\"movieId\"]\n",
    "    movie_id = indexed_data.id_to_item_bmap.inverse[movie]\n",
    "\n",
    "    if (\n",
    "        user_id,\n",
    "        user_movie_id,\n",
    "    ) in test_dataset_indices_based_representation:\n",
    "\n",
    "        # We are having this user for the first time\n",
    "        if user_id not in visited_user_ids:\n",
    "            # Add the user and its first rating data\n",
    "            data_by_user_id__test.add(\n",
    "                indexed_data.data_by_user_id[user_id][user_movie_id]\n",
    "            )\n",
    "            # Add the user_id but with an empty array; this helps to ensure that\n",
    "            # the test set and the training set will have the same dimension\n",
    "            data_by_user_id__train.add(SerialUnidirectionalMapper.NOTHING)\n",
    "            visited_user_ids.add(user_id)\n",
    "        else:\n",
    "            # The user has already been added\n",
    "            data_by_user_id__test.add(\n",
    "                indexed_data.data_by_user_id[user_id][user_movie_id], key=user_id\n",
    "            )\n",
    "\n",
    "        # DEAL WITH MOVIES\n",
    "\n",
    "        if movie_id not in visited_movie_ids:\n",
    "            data_by_item_id__test.add(\n",
    "                {\"userId\": indexed_data.id_to_user_bmap[user_id], \"rating\": rating}\n",
    "            )\n",
    "            data_by_item_id__train.add(SerialUnidirectionalMapper.NOTHING)\n",
    "            visited_movie_ids.add(movie_id)\n",
    "        else:\n",
    "            # The movie has already been added both in the training and the test dataset\n",
    "            data_by_item_id__test.add(\n",
    "                {\"userId\": indexed_data.id_to_user_bmap[user_id], \"rating\": rating},\n",
    "                key=movie_id,\n",
    "            )\n",
    "    else:\n",
    "        # We've got an occurrence that should be used as a training dataset\n",
    "        if user_id not in visited_user_ids:\n",
    "\n",
    "            data_by_user_id__train.add(\n",
    "                indexed_data.data_by_user_id[user_id][user_movie_id]\n",
    "            )\n",
    "            # Add the user entry, but with an empty array\n",
    "            data_by_user_id__test.add(SerialUnidirectionalMapper.NOTHING)\n",
    "            visited_user_ids.add(user_id)\n",
    "        else:\n",
    "            data_by_user_id__train.add(\n",
    "                indexed_data.data_by_user_id[user_id][user_movie_id], key=user_id\n",
    "            )\n",
    "\n",
    "        # DEAL WITH MOVIES\n",
    "\n",
    "        if movie_id not in visited_movie_ids:\n",
    "            data_by_item_id__test.add(SerialUnidirectionalMapper.NOTHING)\n",
    "\n",
    "            data_by_item_id__train.add(\n",
    "                {\"userId\": indexed_data.id_to_user_bmap[user_id], \"rating\": rating}\n",
    "            )\n",
    "\n",
    "            visited_movie_ids.add(movie_id)\n",
    "\n",
    "        else:\n",
    "            # The movie has already been added both in the training and the testing dataset\n",
    "            data_by_item_id__train.add(\n",
    "                {\"userId\": indexed_data.id_to_user_bmap[user_id], \"rating\": rating},\n",
    "                key=movie_id,\n",
    "            )\n",
    "\n",
    "assert (\n",
    "    len(visited_user_ids) == len(data_by_user_id__train) == len(data_by_user_id__test)\n",
    "), \"The user based matrix should have the save dimension both for the training dataset and the testing dataset. And that dimension should correspond to the visited users' count.\"\n",
    "\n",
    "assert (\n",
    "    len(visited_movie_ids) == len(data_by_item_id__train) == len(data_by_item_id__test)\n",
    "), \"The movie based matrix should have the save dimension both for the training dataset and the testing dataset. And that dimension should correspond to the visited movies' count.\"\n",
    "\n",
    "assert sum(len(data_by_user_id__test[i]) for i in data_by_user_id__test) == math.floor(\n",
    "    RATIO * LINES_COUNT_TO_READ\n",
    ")\n",
    "\n",
    "assert sum(\n",
    "    len(data_by_user_id__train[i]) for i in data_by_user_id__train\n",
    ") == math.floor((1 - RATIO) * LINES_COUNT_TO_READ)"
   ],
   "id": "e05233df5f066eda",
   "outputs": [],
   "execution_count": 7
  },
  {
   "metadata": {
    "ExecuteTime": {
     "end_time": "2024-10-28T13:15:02.969870Z",
     "start_time": "2024-10-28T13:15:02.964174Z"
    }
   },
   "cell_type": "code",
   "source": [
    "N_EPOCH = 20\n",
    "N_FACTOR = 10\n",
    "NORMAL_DIST_MEAN = 0.0\n",
    "NORMAL_DIST_STD = 1 / math.sqrt(N_FACTOR)\n",
    "USER_FACTOR_SHAPE = (indexed_data.users_count, N_FACTOR)\n",
    "ITEM_FACTOR_SHAPE = (indexed_data.items_count, N_FACTOR)\n",
    "GAMMA = None\n",
    "\n",
    "user_biases = np.zeros(len(data_by_user_id__train))\n",
    "movie_biases = np.zeros(len(data_by_item_id__train))"
   ],
   "id": "ae382bc531d6810f",
   "outputs": [],
   "execution_count": 8
  },
  {
   "metadata": {
    "ExecuteTime": {
     "end_time": "2024-10-28T13:15:03.088278Z",
     "start_time": "2024-10-28T13:15:03.073582Z"
    }
   },
   "cell_type": "code",
   "source": [
    "mean_squared_errors_train = []\n",
    "losses_train = []\n",
    "\n",
    "mean_squared_errors_test = []\n",
    "losses_test = []\n",
    "\n",
    "\n",
    "def compute_iterative_losses_and_mse(\n",
    "    lambda_hyper: float,\n",
    "    gamma_hyper: float,\n",
    "):\n",
    "    n_users = len(data_by_user_id__train)\n",
    "    n_movies = len(data_by_item_id__train)\n",
    "    USER_FACTOR_SHAPE = (n_users, N_FACTOR)\n",
    "    ITEM_FACTOR_SHAPE = (n_movies, N_FACTOR)\n",
    "    TAU = 0.3\n",
    "    user_factors = np.random.normal(\n",
    "        loc=NORMAL_DIST_MEAN, scale=NORMAL_DIST_STD, size=USER_FACTOR_SHAPE\n",
    "    )\n",
    "    movie_factors = np.random.normal(\n",
    "        loc=NORMAL_DIST_MEAN, scale=NORMAL_DIST_STD, size=ITEM_FACTOR_SHAPE\n",
    "    )\n",
    "\n",
    "    print(\"user_biases, item_biases, loss, rmse\")\n",
    "\n",
    "    \"\"\"\n",
    "    Consider this system of linear equations A * x = B.\n",
    "    \n",
    "    - A: Coefficient/System matrix.\n",
    "    - x: Unknown vector (solution).\n",
    "    - B: System constant or Constant vector (right-hand side).\n",
    "    \n",
    "    To solve the system, we use a numerical solver like np.linalg.solve(A, B),\n",
    "    which returns the solution vector x.\n",
    "    \n",
    "    We will named A {something}_system_matrix and b {something}_system_constant.\n",
    "    \"\"\"\n",
    "\n",
    "    # Learn the biases (the model) and compute the metrics at each iteration\n",
    "\n",
    "    for iteration in range(N_EPOCH):\n",
    "\n",
    "        for user_id in range(n_users):  # noqa\n",
    "            bias = 0\n",
    "            movies_count = 0\n",
    "\n",
    "            for data in data_by_user_id__train[user_id]:\n",
    "                movie, user_rating = data[\"movieId\"], data[\"rating\"]\n",
    "                user_rating = float(user_rating)\n",
    "                movie_id = indexed_data.id_to_item_bmap.inverse[movie]\n",
    "                bias += lambda_hyper * (\n",
    "                    user_rating\n",
    "                    - movie_biases[movie_id]\n",
    "                    - np.dot(user_factors[user_id], movie_factors[movie_id])\n",
    "                )\n",
    "                movies_count += 1\n",
    "            bias /= (lambda_hyper * movies_count) + gamma_hyper\n",
    "\n",
    "            user_biases[user_id] = bias\n",
    "            # Compute the outer product\n",
    "            user_system_matrix = np.zeros(\n",
    "                (N_FACTOR, N_FACTOR)\n",
    "            )  # Sum of user_factors' outer products\n",
    "            user_system_constant = np.zeros(\n",
    "                N_FACTOR\n",
    "            )  # Sum of (r_ui - biases) * user_factors\n",
    "\n",
    "            for data in data_by_user_id__train[user_id]:\n",
    "                movie, user_rating = data[\"movieId\"], data[\"rating\"]\n",
    "                user_rating = float(user_rating)\n",
    "                movie_id = indexed_data.id_to_item_bmap.inverse[movie]\n",
    "                item_factor = movie_factors[movie_id]\n",
    "                user_system_matrix += np.outer(item_factor, item_factor)\n",
    "                user_system_constant += (\n",
    "                    user_rating - user_biases[user_id] - movie_biases[movie_id]\n",
    "                ) * item_factor\n",
    "            user_factors[user_id] = np.linalg.solve(\n",
    "                lambda_hyper * user_system_matrix + TAU * np.eye(N_FACTOR),\n",
    "                user_system_constant,\n",
    "            )\n",
    "\n",
    "        for movie_id in range(n_movies):  # noqa\n",
    "            bias = 0\n",
    "            users_count = 0\n",
    "            movie_system_matrix = np.zeros(\n",
    "                (N_FACTOR, N_FACTOR)\n",
    "            )  # Sum of user_factors' outer products\n",
    "            movie_system_constant = np.zeros(\n",
    "                N_FACTOR\n",
    "            )  # Sum of (r_ui - biases) * user_factors\n",
    "\n",
    "            for data in data_by_item_id__train[movie_id]:\n",
    "                user, movie_rating = data[\"userId\"], data[\"rating\"]  # noqa\n",
    "                movie_rating = float(movie_rating)\n",
    "                user_id = indexed_data.id_to_user_bmap.inverse[user]\n",
    "                bias += lambda_hyper * (\n",
    "                    movie_rating\n",
    "                    - user_biases[user_id]\n",
    "                    - np.dot(user_factors[user_id], movie_factors[movie_id])\n",
    "                )\n",
    "                users_count += 1\n",
    "            bias /= (lambda_hyper * users_count) + gamma_hyper\n",
    "            movie_biases[movie_id] = bias\n",
    "\n",
    "            for data in data_by_item_id__train[movie_id]:\n",
    "                user, movie_rating = data[\"userId\"], data[\"rating\"]\n",
    "                movie_rating = float(movie_rating)\n",
    "                user_idx = indexed_data.id_to_user_bmap.inverse[user]\n",
    "                user_factor = user_factors[user_idx]\n",
    "                movie_system_matrix += np.outer(user_factor, user_factor)\n",
    "                movie_system_constant += (\n",
    "                    movie_rating - user_biases[user_idx] - movie_biases[movie_id]\n",
    "                ) * user_factor\n",
    "            movie_factors[movie_id] = np.linalg.solve(\n",
    "                lambda_hyper * movie_system_matrix + TAU * np.eye(N_FACTOR),\n",
    "                movie_system_constant,\n",
    "            )\n",
    "\n",
    "        # Time to compute the metrics\n",
    "\n",
    "        accumulated_residuals_train = 0\n",
    "        residuals_count_train = 0\n",
    "\n",
    "        # The metrics computation for the training dataset\n",
    "        for user_id in range(n_users):  # noqa\n",
    "            for data in data_by_user_id__train[user_id]:\n",
    "                movie, movie_rating = data[\"movieId\"], data[\"rating\"]\n",
    "                movie_rating = float(movie_rating)\n",
    "                movie_id = indexed_data.id_to_user_bmap.inverse[movie]\n",
    "                accumulated_residuals_train += (\n",
    "                    movie_rating\n",
    "                    - (\n",
    "                        np.dot(user_factors[user_id], movie_factors[movie_id])\n",
    "                        + movie_biases[indexed_data.id_to_item_bmap.inverse[movie]]\n",
    "                        + user_biases[user_id]\n",
    "                    )\n",
    "                ) ** 2\n",
    "                residuals_count_train += 1\n",
    "\n",
    "        accumulated_residuals_test = 0\n",
    "        residuals_count_test = 0\n",
    "\n",
    "        # The metrics computation for the test dataset\n",
    "        for user_id in range(n_users):  # noqa\n",
    "            for data in data_by_user_id__test[user_id]:\n",
    "                movie, movie_rating = data[\"movieId\"], data[\"rating\"]\n",
    "                movie_rating = float(movie_rating)\n",
    "                movie_id = indexed_data.id_to_item_bmap.inverse[movie]\n",
    "                accumulated_residuals_test += (\n",
    "                    movie_rating\n",
    "                    - (\n",
    "                        np.dot(user_factors[user_id], movie_factors[movie_id])\n",
    "                        + movie_biases[movie_id]\n",
    "                        + user_biases[user_id]\n",
    "                    )\n",
    "                ) ** 2\n",
    "                residuals_count_test += 1\n",
    "\n",
    "        loss_train = (-1 / 2 * (accumulated_residuals_train * lambda_hyper)) - TAU / 2\n",
    "        losses_train.append((accumulated_residuals_train * lambda_hyper) / -2)\n",
    "        mean_squared_errors_train.append(\n",
    "            math.sqrt(accumulated_residuals_train / residuals_count_train)\n",
    "        )\n",
    "\n",
    "        losses_test.append((accumulated_residuals_test * lambda_hyper) / -2)\n",
    "        mean_squared_errors_test.append(\n",
    "            math.sqrt(accumulated_residuals_test / residuals_count_test)\n",
    "        )\n",
    "\n",
    "        print(\n",
    "            f\"Iteration Train {iteration} => MSE: \",\n",
    "            math.sqrt(accumulated_residuals_train / residuals_count_train),\n",
    "            \"User bias: \",\n",
    "            user_biases[0],\n",
    "            \"Movie bias: \",\n",
    "            movie_biases[0],\n",
    "            \"Loss: \",\n",
    "            accumulated_residuals_train * lambda_hyper / -2,\n",
    "        )"
   ],
   "id": "d87e2b6c0f82d3f9",
   "outputs": [],
   "execution_count": 9
  },
  {
   "metadata": {
    "ExecuteTime": {
     "end_time": "2024-10-28T13:15:03.268478Z",
     "start_time": "2024-10-28T13:15:03.259795Z"
    }
   },
   "cell_type": "code",
   "source": "indexed_data.id_to_item_bmap.inverse[\"17\"]",
   "id": "be2776b7b75181eb",
   "outputs": [
    {
     "data": {
      "text/plain": [
       "0"
      ]
     },
     "execution_count": 10,
     "metadata": {},
     "output_type": "execute_result"
    }
   ],
   "execution_count": 10
  },
  {
   "metadata": {
    "ExecuteTime": {
     "end_time": "2024-10-28T13:15:03.552335Z",
     "start_time": "2024-10-28T13:15:03.542420Z"
    }
   },
   "cell_type": "code",
   "source": [
    "# compute_iterative_losses_and_mse(\n",
    "#    0.1, 0.01, indexed_data.data_by_user_id, indexed_data.data_by_item_id\n",
    "# )"
   ],
   "id": "c4ae2cfec5a5f84",
   "outputs": [],
   "execution_count": 11
  },
  {
   "metadata": {
    "ExecuteTime": {
     "end_time": "2024-10-28T13:15:05.898549Z",
     "start_time": "2024-10-28T13:15:03.782120Z"
    }
   },
   "cell_type": "code",
   "source": [
    "lambda_param = 0.1\n",
    "gamma_param = 0.01\n",
    "compute_iterative_losses_and_mse(lambda_param, gamma_param)"
   ],
   "id": "3a1a33c96b245974",
   "outputs": [
    {
     "name": "stdout",
     "output_type": "stream",
     "text": [
      "user_biases, item_biases, loss, rmse\n"
     ]
    },
    {
     "ename": "ValueError",
     "evalue": "shapes (10,) and (1,10225,10) not aligned: 10 (dim 0) != 10225 (dim 1)",
     "output_type": "error",
     "traceback": [
      "\u001B[0;31m---------------------------------------------------------------------------\u001B[0m",
      "\u001B[0;31mValueError\u001B[0m                                Traceback (most recent call last)",
      "Cell \u001B[0;32mIn[12], line 3\u001B[0m\n\u001B[1;32m      1\u001B[0m lambda_param \u001B[38;5;241m=\u001B[39m \u001B[38;5;241m0.1\u001B[39m\n\u001B[1;32m      2\u001B[0m gamma_param \u001B[38;5;241m=\u001B[39m \u001B[38;5;241m0.01\u001B[39m\n\u001B[0;32m----> 3\u001B[0m \u001B[43mcompute_iterative_losses_and_mse\u001B[49m\u001B[43m(\u001B[49m\u001B[43mlambda_param\u001B[49m\u001B[43m,\u001B[49m\u001B[43m \u001B[49m\u001B[43mgamma_param\u001B[49m\u001B[43m)\u001B[49m\n",
      "Cell \u001B[0;32mIn[9], line 133\u001B[0m, in \u001B[0;36mcompute_iterative_losses_and_mse\u001B[0;34m(lambda_hyper, gamma_hyper)\u001B[0m\n\u001B[1;32m    128\u001B[0m         movie_rating \u001B[38;5;241m=\u001B[39m \u001B[38;5;28mfloat\u001B[39m(movie_rating)\n\u001B[1;32m    129\u001B[0m         movie_id \u001B[38;5;241m=\u001B[39m indexed_data\u001B[38;5;241m.\u001B[39mid_to_user_bmap\u001B[38;5;241m.\u001B[39minverse[movie]\n\u001B[1;32m    130\u001B[0m         accumulated_residuals_train \u001B[38;5;241m+\u001B[39m\u001B[38;5;241m=\u001B[39m (\n\u001B[1;32m    131\u001B[0m             movie_rating\n\u001B[1;32m    132\u001B[0m             \u001B[38;5;241m-\u001B[39m (\n\u001B[0;32m--> 133\u001B[0m                 \u001B[43mnp\u001B[49m\u001B[38;5;241;43m.\u001B[39;49m\u001B[43mdot\u001B[49m\u001B[43m(\u001B[49m\u001B[43muser_factors\u001B[49m\u001B[43m[\u001B[49m\u001B[43muser_id\u001B[49m\u001B[43m]\u001B[49m\u001B[43m,\u001B[49m\u001B[43m \u001B[49m\u001B[43mmovie_factors\u001B[49m\u001B[43m[\u001B[49m\u001B[43mmovie_id\u001B[49m\u001B[43m]\u001B[49m\u001B[43m)\u001B[49m\n\u001B[1;32m    134\u001B[0m                 \u001B[38;5;241m+\u001B[39m movie_biases[indexed_data\u001B[38;5;241m.\u001B[39mid_to_item_bmap\u001B[38;5;241m.\u001B[39minverse[movie]]\n\u001B[1;32m    135\u001B[0m                 \u001B[38;5;241m+\u001B[39m user_biases[user_id]\n\u001B[1;32m    136\u001B[0m             )\n\u001B[1;32m    137\u001B[0m         ) \u001B[38;5;241m*\u001B[39m\u001B[38;5;241m*\u001B[39m \u001B[38;5;241m2\u001B[39m\n\u001B[1;32m    138\u001B[0m         residuals_count_train \u001B[38;5;241m+\u001B[39m\u001B[38;5;241m=\u001B[39m \u001B[38;5;241m1\u001B[39m\n\u001B[1;32m    140\u001B[0m accumulated_residuals_test \u001B[38;5;241m=\u001B[39m \u001B[38;5;241m0\u001B[39m\n",
      "\u001B[0;31mValueError\u001B[0m: shapes (10,) and (1,10225,10) not aligned: 10 (dim 0) != 10225 (dim 1)"
     ]
    }
   ],
   "execution_count": 12
  },
  {
   "metadata": {
    "ExecuteTime": {
     "end_time": "2024-10-28T13:15:05.923901693Z",
     "start_time": "2024-10-23T23:13:23.928809Z"
    }
   },
   "cell_type": "code",
   "source": [
    "###############################################################\n",
    "\n",
    "iterations = range(1, N_EPOCH + 1)\n",
    "\n",
    "# Plotting mean squared error and alternating squared error\n",
    "\n",
    "plt.plot(iterations, mean_squared_errors_test, label=\"Test MSE\", color=\"red\")\n",
    "\n",
    "# Adding titles and labels\n",
    "plt.title(\"Error Evolution Over Iterations\")\n",
    "plt.xlabel(\"Iteration\")\n",
    "plt.ylabel(\"Error\")\n",
    "\n",
    "# Show legend\n",
    "plt.legend()\n",
    "\n",
    "# Display the plot\n",
    "plt.show()"
   ],
   "id": "a917856d45fa1a51",
   "outputs": [
    {
     "data": {
      "text/plain": [
       "<Figure size 640x480 with 1 Axes>"
      ],
      "image/png": "[encoded data removed]"
     },
     "metadata": {},
     "output_type": "display_data"
    }
   ],
   "execution_count": 224
  },
  {
   "metadata": {
    "ExecuteTime": {
     "end_time": "2024-10-28T13:15:05.925524586Z",
     "start_time": "2024-10-23T23:13:24.111992Z"
    }
   },
   "cell_type": "code",
   "source": [
    "iterations = range(1, N_EPOCH + 1)\n",
    "\n",
    "# Plotting mean squared error and alternating squared error\n",
    "\n",
    "plt.plot(iterations, losses_test, label=\"Test Loss\", color=\"red\")\n",
    "\n",
    "# Adding titles and labels\n",
    "plt.title(\"Loss Evolution Over Iterations\")\n",
    "plt.xlabel(\"Iteration\")\n",
    "plt.ylabel(\"Loss\")\n",
    "\n",
    "# Show legend\n",
    "plt.legend()\n",
    "\n",
    "# Display the plot\n",
    "plt.show()"
   ],
   "id": "7bd7620ab884011d",
   "outputs": [
    {
     "data": {
      "text/plain": [
       "<Figure size 640x480 with 1 Axes>"
      ],
      "image/png": "[encoded data removed]"
     },
     "metadata": {},
     "output_type": "display_data"
    }
   ],
   "execution_count": 225
  },
  {
   "metadata": {
    "ExecuteTime": {
     "end_time": "2024-10-28T13:15:05.926152624Z",
     "start_time": "2024-10-23T23:13:24.286712Z"
    }
   },
   "cell_type": "code",
   "source": [
    "import numpy as np\n",
    "from matplotlib import pyplot as plt\n",
    "\n",
    "u = np.arange(-5, 5, 0.25)"
   ],
   "id": "24ed0e22dedc8ff6",
   "outputs": [],
   "execution_count": 226
  },
  {
   "metadata": {
    "ExecuteTime": {
     "end_time": "2024-10-28T13:15:05.926565785Z",
     "start_time": "2024-10-23T23:13:24.328793Z"
    }
   },
   "cell_type": "code",
   "source": "v = np.arange(-5, 5, 0.25)",
   "id": "d4c4cab8e85d9f3d",
   "outputs": [],
   "execution_count": 227
  },
  {
   "metadata": {
    "ExecuteTime": {
     "end_time": "2024-10-28T13:15:05.927028667Z",
     "start_time": "2024-10-23T23:13:24.396419Z"
    }
   },
   "cell_type": "code",
   "source": [
    "tau = 0.1\n",
    "lambda_param = 1\n",
    "r = 2\n",
    "U, V = np.meshgrid(u, v)\n",
    "P = (\n",
    "    np.exp(-0.5 * lambda_param * ((r - (U * V)) ** 2))\n",
    "    * np.exp(-0.5 * tau * (U**2))\n",
    "    * np.exp(-0.5 * tau * (V**2))\n",
    ")\n",
    "\n",
    "surf = plt.contourf(U, V, P)"
   ],
   "id": "74b98184aa1f5ef6",
   "outputs": [
    {
     "data": {
      "text/plain": [
       "<Figure size 640x480 with 1 Axes>"
      ],
      "image/png": "[encoded data removed]"
     },
     "metadata": {},
     "output_type": "display_data"
    }
   ],
   "execution_count": 228
  },
  {
   "metadata": {
    "ExecuteTime": {
     "end_time": "2024-10-28T13:15:05.927375871Z",
     "start_time": "2024-10-23T23:13:24.604115Z"
    }
   },
   "cell_type": "code",
   "source": "",
   "id": "116fcfe03f610321",
   "outputs": [],
   "execution_count": null
  }
 ],
 "metadata": {
  "kernelspec": {
   "display_name": "Python 3",
   "language": "python",
   "name": "python3"
  },
  "language_info": {
   "codemirror_mode": {
    "name": "ipython",
    "version": 2
   },
   "file_extension": ".py",
   "mimetype": "text/x-python",
   "name": "python",
   "nbconvert_exporter": "python",
   "pygments_lexer": "ipython2",
   "version": "2.7.6"
  }
 },
 "nbformat": 4,
 "nbformat_minor": 5
}
