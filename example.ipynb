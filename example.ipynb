{
 "cells": [
  {
   "cell_type": "code",
   "id": "initial_id",
   "metadata": {
    "collapsed": true,
    "ExecuteTime": {
     "end_time": "2024-12-30T15:52:48.066006Z",
     "start_time": "2024-12-30T15:52:48.056949Z"
    }
   },
   "source": [
    "from src.algorithms.alternating_least_squares import AlternatingLeastSquares\n",
    "from src.helpers.dataset_indexer import DatasetIndexer\n",
    "from src.helpers.checkpoint_manager import CheckpointManager\n",
    "from src.recommenders import CollaborativeFilteringRecommenderBuilder\n",
    "from src.backends import Backend\n",
    "\n",
    "from src.settings import settings"
   ],
   "outputs": [],
   "execution_count": 5
  },
  {
   "cell_type": "code",
   "id": "f514cb70517008ef",
   "metadata": {
    "ExecuteTime": {
     "end_time": "2024-12-30T15:52:48.262910Z",
     "start_time": "2024-12-30T15:52:48.137441Z"
    }
   },
   "source": [
    "dataset_indexer = DatasetIndexer(\n",
    "    file_path=\"./ml-32m/ratings.csv\",\n",
    "    user_header=\"userId\",\n",
    "    item_header=\"movieId\",\n",
    "    rating_header=\"rating\",\n",
    "    limit=10000,\n",
    ")\n",
    "\n",
    "indexed_data = dataset_indexer.index(approximate_train_ratio=0.8)"
   ],
   "outputs": [
    {
     "name": "stderr",
     "output_type": "stream",
     "text": [
      "The current implementation does not split the data into train and test sets exactly with the provided ratio. We use the provided ratio as a probability for a Bernoulli distribution to know whether the data point should be used as a training data or a test data.\n",
      "Limit of lines (.i.e 10000) to index has been reached. Exiting without loading the rest... \n"
     ]
    }
   ],
   "execution_count": 6
  },
  {
   "cell_type": "code",
   "id": "db7f06b057e86e5c",
   "metadata": {
    "ExecuteTime": {
     "end_time": "2024-12-30T15:52:48.278355Z",
     "start_time": "2024-12-30T15:52:48.273066Z"
    }
   },
   "source": [
    "als_instance = AlternatingLeastSquares(\n",
    "    hyper_lambda=settings.als.HYPER_LAMBDA,\n",
    "    hyper_gamma=settings.als.HYPER_GAMMA,\n",
    "    hyper_tau=settings.als.HYPER_TAU,\n",
    "    hyper_n_epochs=settings.als.HYPER_N_EPOCH,\n",
    "    hyper_n_factors=settings.als.HYPER_N_FACTOR,\n",
    ")\n",
    "\n",
    "als_backend = Backend(\n",
    "    # Define the algorithm\n",
    "    algorithm=als_instance,\n",
    "    checkpoint_manager=CheckpointManager(\n",
    "        checkpoint_folder=settings.als.CHECKPOINT_FOLDER,\n",
    "    ),\n",
    "    resume_enabled=True,\n",
    ")"
   ],
   "outputs": [],
   "execution_count": 7
  },
  {
   "cell_type": "code",
   "id": "a6088fcc1307ccc4",
   "metadata": {
    "ExecuteTime": {
     "end_time": "2024-12-30T15:52:49.860676Z",
     "start_time": "2024-12-30T15:52:48.326679Z"
    }
   },
   "source": [
    "recommender_builder = CollaborativeFilteringRecommenderBuilder(\n",
    "    backend=als_backend,\n",
    ")\n",
    "\n",
    "recommender = recommender_builder.build(data=indexed_data)\n",
    "\n",
    "recommender.recommend(None)"
   ],
   "outputs": [
    {
     "name": "stdout",
     "output_type": "stream",
     "text": [
      "Prediction made\n",
      "Recommending None\n"
     ]
    }
   ],
   "execution_count": 8
  },
  {
   "cell_type": "code",
   "id": "298347782d68fe2f",
   "metadata": {
    "ExecuteTime": {
     "end_time": "2024-12-30T15:52:49.977860Z",
     "start_time": "2024-12-30T15:52:49.972803Z"
    }
   },
   "source": [],
   "outputs": [],
   "execution_count": null
  }
 ],
 "metadata": {
  "kernelspec": {
   "display_name": "recommender-system-uSlwvUxw-py3.10",
   "language": "python",
   "name": "python3"
  },
  "language_info": {
   "codemirror_mode": {
    "name": "ipython",
    "version": 3
   },
   "file_extension": ".py",
   "mimetype": "text/x-python",
   "name": "python",
   "nbconvert_exporter": "python",
   "pygments_lexer": "ipython3",
   "version": "3.10.12"
  }
 },
 "nbformat": 4,
 "nbformat_minor": 5
}
