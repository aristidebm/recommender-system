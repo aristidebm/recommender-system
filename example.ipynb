{
 "cells": [
  {
   "cell_type": "code",
   "id": "initial_id",
   "metadata": {
    "collapsed": true,
    "ExecuteTime": {
     "end_time": "2024-12-31T00:21:47.999343Z",
     "start_time": "2024-12-31T00:21:47.763329Z"
    }
   },
   "source": [
    "from src.algorithms.alternating_least_squares import AlternatingLeastSquares\n",
    "from src.helpers.dataset_indexer import DatasetIndexer\n",
    "from src.helpers.checkpoint_manager import CheckpointManager\n",
    "from src.recommenders import CollaborativeFilteringRecommenderBuilder\n",
    "from src.backends import Backend\n",
    "\n",
    "from src.settings import settings, configure_logging\n",
    "\n",
    "# Configure the logging module for tracing purposes\n",
    "configure_logging(log_file=settings.general.LOG_FILE)"
   ],
   "outputs": [],
   "execution_count": 1
  },
  {
   "cell_type": "code",
   "id": "f514cb70517008ef",
   "metadata": {
    "ExecuteTime": {
     "end_time": "2024-12-31T00:22:10.009746Z",
     "start_time": "2024-12-31T00:22:07.913109Z"
    }
   },
   "source": [
    "dataset_indexer = DatasetIndexer(\n",
    "    file_path=\"./ml-32m/ratings.csv\",\n",
    "    user_header=\"userId\",\n",
    "    item_header=\"movieId\",\n",
    "    rating_header=\"rating\",\n",
    "    limit=settings.general.LINES_COUNT_TO_READ,\n",
    ")\n",
    "\n",
    "indexed_data = dataset_indexer.index(\n",
    "    approximate_train_ratio=settings.general.APPROXIMATE_TRAIN_RATIO\n",
    ")"
   ],
   "outputs": [
    {
     "name": "stderr",
     "output_type": "stream",
     "text": [
      "The current implementation does not split the data into train and test sets exactly with the provided ratio. We use the provided ratio as a probability for a Bernoulli distribution to know whether the data point should be used as a training data or a test data.\n"
     ]
    },
    {
     "ename": "KeyboardInterrupt",
     "evalue": "",
     "output_type": "error",
     "traceback": [
      "\u001B[0;31m---------------------------------------------------------------------------\u001B[0m",
      "\u001B[0;31mKeyboardInterrupt\u001B[0m                         Traceback (most recent call last)",
      "Cell \u001B[0;32mIn[3], line 9\u001B[0m\n\u001B[1;32m      1\u001B[0m dataset_indexer \u001B[38;5;241m=\u001B[39m DatasetIndexer(\n\u001B[1;32m      2\u001B[0m     file_path\u001B[38;5;241m=\u001B[39m\u001B[38;5;124m\"\u001B[39m\u001B[38;5;124m./ml-32m/ratings.csv\u001B[39m\u001B[38;5;124m\"\u001B[39m,\n\u001B[1;32m      3\u001B[0m     user_header\u001B[38;5;241m=\u001B[39m\u001B[38;5;124m\"\u001B[39m\u001B[38;5;124muserId\u001B[39m\u001B[38;5;124m\"\u001B[39m,\n\u001B[0;32m   (...)\u001B[0m\n\u001B[1;32m      6\u001B[0m     limit\u001B[38;5;241m=\u001B[39msettings\u001B[38;5;241m.\u001B[39mgeneral\u001B[38;5;241m.\u001B[39mLINES_COUNT_TO_READ,\n\u001B[1;32m      7\u001B[0m )\n\u001B[0;32m----> 9\u001B[0m indexed_data \u001B[38;5;241m=\u001B[39m \u001B[43mdataset_indexer\u001B[49m\u001B[38;5;241;43m.\u001B[39;49m\u001B[43mindex\u001B[49m\u001B[43m(\u001B[49m\u001B[43mapproximate_train_ratio\u001B[49m\u001B[38;5;241;43m=\u001B[39;49m\u001B[43msettings\u001B[49m\u001B[38;5;241;43m.\u001B[39;49m\u001B[43mgeneral\u001B[49m\u001B[38;5;241;43m.\u001B[39;49m\u001B[43mAPPROXIMATE_TRAIN_RATIO\u001B[49m\u001B[43m)\u001B[49m\n",
      "File \u001B[0;32m~/AI4Science/ml_at_scale/src/helpers/dataset_indexer.py:127\u001B[0m, in \u001B[0;36mDatasetIndexer.index\u001B[0;34m(self, approximate_train_ratio)\u001B[0m\n\u001B[1;32m    120\u001B[0m \u001B[38;5;66;03m# Whether the current entry should be pushed into the training set\u001B[39;00m\n\u001B[1;32m    121\u001B[0m \u001B[38;5;66;03m# or not. Set to `NOT_DEFINED` to express the fact that the user\u001B[39;00m\n\u001B[1;32m    122\u001B[0m \u001B[38;5;66;03m# has already been seeing once and then already belongs to the test\u001B[39;00m\n\u001B[1;32m    123\u001B[0m \u001B[38;5;66;03m# set or the training set, no need to sample from Bernoulli distro\u001B[39;00m\n\u001B[1;32m    124\u001B[0m \u001B[38;5;66;03m# in that case.\u001B[39;00m\n\u001B[1;32m    125\u001B[0m belongs_to_test_split \u001B[38;5;241m=\u001B[39m NOT_DEFINED\n\u001B[0;32m--> 127\u001B[0m \u001B[38;5;28;01mif\u001B[39;00m user_id \u001B[38;5;129;01mis\u001B[39;00m \u001B[38;5;28;01mNone\u001B[39;00m:\n\u001B[1;32m    128\u001B[0m     \u001B[38;5;66;03m# This user is new, so add it\u001B[39;00m\n\u001B[1;32m    129\u001B[0m     id_to_user_bmap\u001B[38;5;241m.\u001B[39madd(user)\n\u001B[1;32m    131\u001B[0m     \u001B[38;5;66;03m# If the user is new, run a Bernoulli experiment to\u001B[39;00m\n\u001B[1;32m    132\u001B[0m     \u001B[38;5;66;03m# decide whether that new user's data should be used as a\u001B[39;00m\n\u001B[1;32m    133\u001B[0m     \u001B[38;5;66;03m# training data of test data.\u001B[39;00m\n",
      "\u001B[0;31mKeyboardInterrupt\u001B[0m: "
     ]
    }
   ],
   "execution_count": 3
  },
  {
   "cell_type": "code",
   "id": "db7f06b057e86e5c",
   "metadata": {
    "ExecuteTime": {
     "end_time": "2024-12-31T00:22:07.761047409Z",
     "start_time": "2024-12-31T00:17:17.471236Z"
    }
   },
   "source": [
    "als_instance = AlternatingLeastSquares(\n",
    "    hyper_lambda=settings.als.HYPER_LAMBDA,\n",
    "    hyper_gamma=settings.als.HYPER_GAMMA,\n",
    "    hyper_tau=settings.als.HYPER_TAU,\n",
    "    hyper_n_epochs=settings.als.HYPER_N_EPOCH,\n",
    "    hyper_n_factors=settings.als.HYPER_N_FACTOR,\n",
    ")\n",
    "\n",
    "als_backend = Backend(\n",
    "    # Define the algorithm\n",
    "    algorithm=als_instance,\n",
    "    checkpoint_manager=CheckpointManager(\n",
    "        checkpoint_folder=settings.als.CHECKPOINT_FOLDER,\n",
    "        sub_folder=str(settings.general.LINES_COUNT_TO_READ),\n",
    "    ),\n",
    "    # Whether we should resume by using the last state of\n",
    "    # the algorithm the checkpoint manager folder or not.\n",
    "    resume=True,\n",
    ")"
   ],
   "outputs": [],
   "execution_count": 18
  },
  {
   "metadata": {
    "ExecuteTime": {
     "end_time": "2024-12-31T00:19:27.921605Z",
     "start_time": "2024-12-31T00:17:17.533236Z"
    }
   },
   "cell_type": "code",
   "source": [
    "recommender_builder = CollaborativeFilteringRecommenderBuilder(\n",
    "    backend=als_backend,\n",
    ")\n",
    "\n",
    "# This might take some moment before finishing\n",
    "recommender = recommender_builder.build(data=indexed_data)"
   ],
   "id": "a6088fcc1307ccc4",
   "outputs": [
    {
     "name": "stderr",
     "output_type": "stream",
     "text": [
      "Epochs: 100%|██████████| 4/4 [02:09<00:00, 32.42s/epoch]\n"
     ]
    }
   ],
   "execution_count": 19
  },
  {
   "metadata": {
    "ExecuteTime": {
     "end_time": "2024-12-31T00:19:27.973442Z",
     "start_time": "2024-12-31T00:19:27.942999Z"
    }
   },
   "cell_type": "code",
   "source": [
    "prediction_input = [{\"rating\": \"4\", \"movieId\": \"17\", \"userId\": \"1\"}]\n",
    "recommender.recommend(prediction_input)"
   ],
   "id": "cef422cfbcaa8b63",
   "outputs": [
    {
     "name": "stdout",
     "output_type": "stream",
     "text": [
      "predictions => [3.67311552 3.2774162  3.56581707 ... 3.94138817 3.48768609 3.94138784]\n",
      "items_ids => [17521 17512 17330 ... 17646 23931 13676]\n",
      "predictions => [3.67311552 3.2774162  3.56581707 ... 3.94138817 3.48768609 3.94138784]\n",
      "items_ids => [17521 17512 17330 ... 17646 23931 13676]\n",
      "Recommending [17521 17512 17330 ... 17646 23931 13676]\n"
     ]
    },
    {
     "data": {
      "text/plain": [
       "array([3.67311552, 3.2774162 , 3.56581707, ..., 3.94138817, 3.48768609,\n",
       "       3.94138784], shape=(26505,))"
      ]
     },
     "execution_count": 20,
     "metadata": {},
     "output_type": "execute_result"
    }
   ],
   "execution_count": 20
  },
  {
   "metadata": {
    "ExecuteTime": {
     "end_time": "2024-12-31T00:19:28.225513Z",
     "start_time": "2024-12-31T00:19:28.218603Z"
    }
   },
   "cell_type": "code",
   "source": "",
   "id": "298347782d68fe2f",
   "outputs": [],
   "execution_count": null
  }
 ],
 "metadata": {
  "kernelspec": {
   "display_name": "recommender-system-uSlwvUxw-py3.10",
   "language": "python",
   "name": "python3"
  },
  "language_info": {
   "codemirror_mode": {
    "name": "ipython",
    "version": 3
   },
   "file_extension": ".py",
   "mimetype": "text/x-python",
   "name": "python",
   "nbconvert_exporter": "python",
   "pygments_lexer": "ipython3",
   "version": "3.10.12"
  }
 },
 "nbformat": 4,
 "nbformat_minor": 5
}
