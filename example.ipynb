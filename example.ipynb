{
 "cells": [
  {
   "cell_type": "code",
   "id": "initial_id",
   "metadata": {
    "collapsed": true,
    "ExecuteTime": {
     "end_time": "2025-01-06T22:11:54.273916Z",
     "start_time": "2025-01-06T22:11:54.268632Z"
    }
   },
   "source": [
    "import pandas as pd\n",
    "\n",
    "from src.algorithms.alternating_least_squares import AlternatingLeastSquares\n",
    "from src.helpers.dataset_indexer import DatasetIndexer\n",
    "from src.helpers.checkpoint_manager import CheckpointManager\n",
    "from src.recommenders import CollaborativeFilteringRecommenderBuilder\n",
    "from src.backends import Backend\n",
    "from src.helpers._logging import logger  # noqa\n",
    "from src.settings import settings\n",
    "\n",
    "from src.helpers.graphing import (\n",
    "    plot_als_train_test_loss_evolution,\n",
    "    plot_als_train_test_rmse_evolution,\n",
    "    # plot_error_evolution,\n",
    "    plot_power_low_distribution,\n",
    "    plot_data_item_distribution_as_hist,\n",
    ")"
   ],
   "outputs": [],
   "execution_count": 31
  },
  {
   "cell_type": "code",
   "id": "f514cb70517008ef",
   "metadata": {
    "ExecuteTime": {
     "end_time": "2025-01-06T22:12:00.832833Z",
     "start_time": "2025-01-06T22:11:54.315911Z"
    }
   },
   "source": [
    "dataset_indexer = DatasetIndexer(\n",
    "    file_path=\"./ml-32m/ratings.csv\",\n",
    "    user_header=\"userId\",\n",
    "    item_header=\"movieId\",\n",
    "    rating_header=\"rating\",\n",
    "    limit=settings.general.LINES_COUNT_TO_READ,\n",
    ")\n",
    "\n",
    "indexed_data = dataset_indexer.index(\n",
    "    approximate_train_ratio=settings.general.APPROXIMATE_TRAIN_RATIO\n",
    ")"
   ],
   "outputs": [
    {
     "name": "stdout",
     "output_type": "stream",
     "text": [
      "2025-01-07 00:11:54,319 [WARNING] The current implementation does not split the data into train and test sets exactly with the provided ratio. We use the provided ratio as a probability for a Bernoulli distribution to know whether the data point should be used as a training data or a test data.\n",
      "2025-01-07 00:12:00,530 [WARNING] The limit of lines (.i.e 1000000) to index has been reached. Exiting without loading the rest... \n",
      "2025-01-07 00:12:00,531 [INFO] Successfully indexed 1000000 lines from ./ml-32m/ratings.csv\n"
     ]
    }
   ],
   "execution_count": 32
  },
  {
   "metadata": {
    "ExecuteTime": {
     "end_time": "2025-01-06T22:12:01.172423Z",
     "start_time": "2025-01-06T22:12:00.838731Z"
    }
   },
   "cell_type": "code",
   "source": [
    "# Import the movie csv file that will act as our movie database\n",
    "# And that database is needed by the backend to query the movies\n",
    "item_database = (\n",
    "    pd.read_csv(\"./ml-32m/movies.csv\", dtype={\"movieId\": str})\n",
    "    .set_index(\"movieId\")\n",
    "    .to_dict(orient=\"index\")\n",
    ")"
   ],
   "id": "225baff61515191c",
   "outputs": [],
   "execution_count": 33
  },
  {
   "metadata": {
    "ExecuteTime": {
     "end_time": "2025-01-06T22:12:01.197692Z",
     "start_time": "2025-01-06T22:12:01.194637Z"
    }
   },
   "cell_type": "code",
   "source": "# plot_data_item_distribution_as_hist(indexed_data)",
   "id": "92796e4ad51b755c",
   "outputs": [],
   "execution_count": 34
  },
  {
   "metadata": {
    "ExecuteTime": {
     "end_time": "2025-01-06T22:12:01.239210Z",
     "start_time": "2025-01-06T22:12:01.235916Z"
    }
   },
   "cell_type": "code",
   "source": "# plot_power_low_distribution(indexed_data,)",
   "id": "e1b298f3091f98cd",
   "outputs": [],
   "execution_count": 35
  },
  {
   "cell_type": "code",
   "id": "db7f06b057e86e5c",
   "metadata": {
    "ExecuteTime": {
     "end_time": "2025-01-06T22:12:01.287744Z",
     "start_time": "2025-01-06T22:12:01.283146Z"
    }
   },
   "source": [
    "als_instance = AlternatingLeastSquares(\n",
    "    hyper_lambda=settings.als.HYPER_LAMBDA,\n",
    "    hyper_gamma=settings.als.HYPER_GAMMA,\n",
    "    hyper_tau=settings.als.HYPER_TAU,\n",
    "    hyper_n_epochs=settings.als.HYPER_N_EPOCH,\n",
    "    hyper_n_factors=settings.als.HYPER_N_FACTOR,\n",
    ")\n",
    "\n",
    "als_backend = Backend(\n",
    "    # Define the algorithm\n",
    "    algorithm=als_instance,\n",
    "    checkpoint_manager=CheckpointManager(\n",
    "        checkpoint_folder=settings.als.CHECKPOINT_FOLDER,\n",
    "        sub_folder=str(settings.general.LINES_COUNT_TO_READ),\n",
    "    ),\n",
    "    # The predictor needs this to render the name of the items\n",
    "    item_database=item_database,\n",
    "    # Whether we should resume by using the last state of\n",
    "    # the algorithm the checkpoint manager folder or not.\n",
    "    resume=True,\n",
    ")"
   ],
   "outputs": [],
   "execution_count": 36
  },
  {
   "metadata": {
    "ExecuteTime": {
     "end_time": "2025-01-06T22:12:01.392690Z",
     "start_time": "2025-01-06T22:12:01.336173Z"
    }
   },
   "cell_type": "code",
   "source": [
    "recommender_builder = CollaborativeFilteringRecommenderBuilder(\n",
    "    backend=als_backend,\n",
    ")\n",
    "\n",
    "# This might take some moment before finishing\n",
    "recommender = recommender_builder.build(data=indexed_data)"
   ],
   "id": "a6088fcc1307ccc4",
   "outputs": [
    {
     "name": "stdout",
     "output_type": "stream",
     "text": [
      "2025-01-07 00:12:01,337 [INFO] Starting the build of the recommender using AlternatingLeastSquares...\n",
      "2025-01-07 00:12:01,340 [INFO] Starting a model fitting using the backend AlternatingLeastSquares...\n",
      "2025-01-07 00:12:01,345 [INFO] Checkpoint ./artifacts/checkpoints/als/1000000/20250107-001150_lambda0.1_gamma0.01_tau1_n_epochs2_n_factors10.pkl loaded with success\n",
      "2025-01-07 00:12:01,347 [INFO] All factors and biases are already provided, so no initialization is needed.\n",
      "2025-01-07 00:12:01,348 [ERROR] Cannot train the model more because hyperparameter 'hyper_n_epochs' (2) is already greater or equal to the final number of epochs wanted which is 2. Please check the value of 'hyper_n_epochs' and adjust accordingly. Exiting...\n",
      "2025-01-07 00:12:01,360 [INFO] Checkpoint successfully saved at 20250107-001201_lambda0.1_gamma0.01_tau1_n_epochs2_n_factors10\n",
      "2025-01-07 00:12:01,361 [INFO] Successfully built the recommender using AlternatingLeastSquares\n"
     ]
    }
   ],
   "execution_count": 37
  },
  {
   "metadata": {
    "ExecuteTime": {
     "end_time": "2025-01-06T22:12:01.427461Z",
     "start_time": "2025-01-06T22:12:01.423845Z"
    }
   },
   "cell_type": "code",
   "source": "",
   "id": "1c89e59926eb8c2c",
   "outputs": [],
   "execution_count": null
  },
  {
   "metadata": {
    "ExecuteTime": {
     "end_time": "2025-01-06T22:12:01.471109Z",
     "start_time": "2025-01-06T22:12:01.467520Z"
    }
   },
   "cell_type": "code",
   "source": "# plot_als_train_test_rmse_evolution(als_backend.algorithm)",
   "id": "5f7242dc80a5315d",
   "outputs": [],
   "execution_count": 38
  },
  {
   "metadata": {
    "ExecuteTime": {
     "end_time": "2025-01-06T22:12:01.521224Z",
     "start_time": "2025-01-06T22:12:01.517390Z"
    }
   },
   "cell_type": "code",
   "source": "# plot_als_train_test_loss_evolution(als_backend.algorithm)",
   "id": "fb7e870ef3561ce8",
   "outputs": [],
   "execution_count": 39
  },
  {
   "metadata": {
    "ExecuteTime": {
     "end_time": "2025-01-06T22:12:01.574759Z",
     "start_time": "2025-01-06T22:12:01.567044Z"
    }
   },
   "cell_type": "code",
   "source": [
    "prediction_input = [(\"17\", 4)]\n",
    "recommender.recommend(prediction_input)"
   ],
   "id": "cef422cfbcaa8b63",
   "outputs": [
    {
     "data": {
      "text/plain": [
       "[{'title': 'Jeffrey Dahmer Files, The (2012)', 'genres': 'Crime|Documentary'},\n",
       " {'title': 'The Last House on the Beach (1978)',\n",
       "  'genres': 'Crime|Drama|Horror|Thriller'},\n",
       " {'title': 'Afflicted, The (2010)', 'genres': 'Horror|Thriller'},\n",
       " {'title': 'Paradise (1982)', 'genres': 'Adventure|Romance'},\n",
       " {'title': 'In Old California (1942)', 'genres': 'Western'},\n",
       " {'title': 'Love in Bloom (1935)', 'genres': 'Romance'},\n",
       " {'title': 'Story of G.I. Joe (1945)', 'genres': 'War'},\n",
       " {'title': 'On Our Merry Way (1948)', 'genres': 'Comedy'},\n",
       " {'title': 'Cyrus: Mind of a Serial Killer (2010)',\n",
       "  'genres': 'Crime|Horror|Mystery|Thriller'},\n",
       " {'title': 'Town That Dreaded Sundown, The (1976)',\n",
       "  'genres': 'Crime|Drama|Horror|Mystery|Thriller'}]"
      ]
     },
     "execution_count": 40,
     "metadata": {},
     "output_type": "execute_result"
    }
   ],
   "execution_count": 40
  },
  {
   "metadata": {
    "ExecuteTime": {
     "end_time": "2025-01-06T22:12:01.702018Z",
     "start_time": "2025-01-06T22:12:01.698349Z"
    }
   },
   "cell_type": "code",
   "source": "",
   "id": "89c74969cec15464",
   "outputs": [],
   "execution_count": null
  },
  {
   "metadata": {
    "ExecuteTime": {
     "end_time": "2025-01-06T22:12:01.763722Z",
     "start_time": "2025-01-06T22:12:01.760863Z"
    }
   },
   "cell_type": "code",
   "source": "",
   "id": "298347782d68fe2f",
   "outputs": [],
   "execution_count": null
  }
 ],
 "metadata": {
  "kernelspec": {
   "display_name": "recommender-system-uSlwvUxw-py3.10",
   "language": "python",
   "name": "python3"
  },
  "language_info": {
   "codemirror_mode": {
    "name": "ipython",
    "version": 3
   },
   "file_extension": ".py",
   "mimetype": "text/x-python",
   "name": "python",
   "nbconvert_exporter": "python",
   "pygments_lexer": "ipython3",
   "version": "3.10.12"
  }
 },
 "nbformat": 4,
 "nbformat_minor": 5
}
