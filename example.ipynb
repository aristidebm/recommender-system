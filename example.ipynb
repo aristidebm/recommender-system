{
 "cells": [
  {
   "cell_type": "code",
   "id": "initial_id",
   "metadata": {
    "collapsed": true,
    "ExecuteTime": {
     "end_time": "2025-01-08T20:30:04.335813Z",
     "start_time": "2025-01-08T20:30:04.330700Z"
    }
   },
   "source": [
    "import pandas as pd\n",
    "\n",
    "from src.algorithms.alternating_least_squares import AlternatingLeastSquares\n",
    "from src.helpers.dataset_indexer import DatasetIndexer\n",
    "from src.helpers.checkpoint_manager import CheckpointManager\n",
    "from src.recommenders import CollaborativeFilteringRecommenderBuilder\n",
    "from src.backends import Backend\n",
    "from src.helpers._logging import logger  # noqa\n",
    "from src.settings import settings\n",
    "from src.utils import vocabulary_based_one_hot_encode\n",
    "\n",
    "from src.helpers.graphing import (\n",
    "    plot_als_train_test_loss_evolution,\n",
    "    plot_als_train_test_rmse_evolution,\n",
    "    # plot_error_evolution,\n",
    "    plot_power_low_distribution,\n",
    "    plot_data_item_distribution_as_hist,\n",
    ")"
   ],
   "outputs": [],
   "execution_count": 9
  },
  {
   "metadata": {
    "ExecuteTime": {
     "end_time": "2025-01-08T20:30:04.356576Z",
     "start_time": "2025-01-08T20:30:04.351618Z"
    }
   },
   "cell_type": "code",
   "source": [
    "USER_HEADER = \"userId\"\n",
    "ITEM_HEADER = \"movieId\"\n",
    "RATING_HEADER = \"rating\"\n",
    "FEATURE_TO_ENCODE = \"genres\"\n",
    "ITEM_FEATURE_LIST = [\n",
    "    \"Action\",\n",
    "    \"Adventure\",\n",
    "    \"Animation\",\n",
    "    \"Children\",\n",
    "    \"Comedy\",\n",
    "    \"Crime\",\n",
    "    \"Documentary\",\n",
    "    \"Drama\",\n",
    "    \"Fantasy\",\n",
    "    \"Film-Noir\",\n",
    "    \"Horror\",\n",
    "    \"IMAX\",\n",
    "    \"Musical\",\n",
    "    \"Mystery\",\n",
    "    \"Romance\",\n",
    "    \"Sci-Fi\",\n",
    "    \"Thriller\",\n",
    "    \"War\",\n",
    "    \"Western\",\n",
    "]"
   ],
   "id": "c73b36a57e26980e",
   "outputs": [],
   "execution_count": 10
  },
  {
   "cell_type": "code",
   "id": "f514cb70517008ef",
   "metadata": {
    "ExecuteTime": {
     "end_time": "2025-01-08T20:30:12.718920Z",
     "start_time": "2025-01-08T20:30:04.413809Z"
    }
   },
   "source": [
    "dataset_indexer = DatasetIndexer(\n",
    "    file_path=\"./ml-32m/ratings.csv\",\n",
    "    user_header=USER_HEADER,\n",
    "    item_header=ITEM_HEADER,\n",
    "    rating_header=RATING_HEADER,\n",
    "    limit=settings.general.LINES_COUNT_TO_READ,\n",
    ")\n",
    "\n",
    "indexed_data = dataset_indexer.index_simple(\n",
    "    approximate_train_ratio=settings.general.APPROXIMATE_TRAIN_RATIO\n",
    ")"
   ],
   "outputs": [
    {
     "name": "stdout",
     "output_type": "stream",
     "text": [
      "2025-01-08 22:30:04,416 [WARNING] The current implementation does not split the data into train and test sets exactly with the provided ratio. We use the provided ratio as a probability for a Bernoulli distribution to know whether a given data point should be used as a training data or a test data.\n",
      "2025-01-08 22:30:12,715 [WARNING] The limit of lines (.i.e 1000000) to index has been reached. Exiting without loading the rest... \n",
      "2025-01-08 22:30:12,716 [INFO] Successfully indexed 1000000 lines from ./ml-32m/ratings.csv\n"
     ]
    }
   ],
   "execution_count": 11
  },
  {
   "metadata": {
    "ExecuteTime": {
     "end_time": "2025-01-08T20:30:13.899144Z",
     "start_time": "2025-01-08T20:30:12.769915Z"
    }
   },
   "cell_type": "code",
   "source": [
    "# Import the movie csv file that will act as our movie database\n",
    "# And that database is needed by the backend to query the movies\n",
    "item_database = (\n",
    "    pd.read_csv(\"./ml-32m/movies.csv\", dtype={ITEM_HEADER: str})\n",
    "    .assign(\n",
    "        genres=lambda df: df[FEATURE_TO_ENCODE].apply(lambda genres: genres.split(\"|\")),\n",
    "        feature_vector=lambda df: df[FEATURE_TO_ENCODE].apply(\n",
    "            lambda g: vocabulary_based_one_hot_encode(\n",
    "                to_encode=g, vocabulary=ITEM_FEATURE_LIST\n",
    "            )\n",
    "        ),\n",
    "    )\n",
    "    .set_index(ITEM_HEADER)  # Set the movieId as the index\n",
    "    .to_dict(orient=\"index\")  # Convert the DataFrame to a dictionary\n",
    ")"
   ],
   "id": "225baff61515191c",
   "outputs": [],
   "execution_count": 12
  },
  {
   "metadata": {
    "ExecuteTime": {
     "end_time": "2025-01-08T20:30:13.923673Z",
     "start_time": "2025-01-08T20:30:13.921003Z"
    }
   },
   "cell_type": "code",
   "source": "# plot_data_item_distribution_as_hist(indexed_data)",
   "id": "92796e4ad51b755c",
   "outputs": [],
   "execution_count": 13
  },
  {
   "metadata": {
    "ExecuteTime": {
     "end_time": "2025-01-08T20:30:13.969085Z",
     "start_time": "2025-01-08T20:30:13.965139Z"
    }
   },
   "cell_type": "code",
   "source": "# plot_power_low_distribution(indexed_data,)",
   "id": "e1b298f3091f98cd",
   "outputs": [],
   "execution_count": 14
  },
  {
   "cell_type": "code",
   "id": "db7f06b057e86e5c",
   "metadata": {
    "ExecuteTime": {
     "end_time": "2025-01-08T20:30:14.027752Z",
     "start_time": "2025-01-08T20:30:14.021368Z"
    }
   },
   "source": [
    "als_instance = AlternatingLeastSquares(\n",
    "    hyper_lambda=settings.als.HYPER_LAMBDA,\n",
    "    hyper_gamma=settings.als.HYPER_GAMMA,\n",
    "    hyper_tau=settings.als.HYPER_TAU,\n",
    "    hyper_n_epochs=settings.als.HYPER_N_EPOCH,\n",
    "    hyper_n_factors=settings.als.HYPER_N_FACTOR,\n",
    ")\n",
    "\n",
    "als_backend = Backend(\n",
    "    # Define the algorithm\n",
    "    algorithm=als_instance,\n",
    "    checkpoint_manager=CheckpointManager(\n",
    "        checkpoint_folder=settings.als.CHECKPOINT_FOLDER,\n",
    "        sub_folder=str(settings.general.LINES_COUNT_TO_READ),\n",
    "    ),\n",
    "    # The predictor needs this to render the name of the items\n",
    "    item_database=item_database,\n",
    "    # Whether we should resume by using the last state of\n",
    "    # the algorithm the checkpoint manager folder or not.\n",
    "    resume=True,\n",
    "    save_checkpoint=False,\n",
    ")"
   ],
   "outputs": [],
   "execution_count": 15
  },
  {
   "metadata": {
    "ExecuteTime": {
     "end_time": "2025-01-08T20:30:14.122535Z",
     "start_time": "2025-01-08T20:30:14.093274Z"
    }
   },
   "cell_type": "code",
   "source": [
    "recommender_builder = CollaborativeFilteringRecommenderBuilder(\n",
    "    backend=als_backend,\n",
    ")\n",
    "\n",
    "# This might take some moment before finishing\n",
    "recommender = recommender_builder.build(data=indexed_data)"
   ],
   "id": "a6088fcc1307ccc4",
   "outputs": [
    {
     "name": "stdout",
     "output_type": "stream",
     "text": [
      "2025-01-08 22:30:14,094 [INFO] Starting the build of the recommender using AlternatingLeastSquares with the state {'hyper_lambda': 0.1, 'hyper_tau': 0.1, 'hyper_gamma': 0.01, 'hyper_n_epochs': 20, 'hyper_n_factors': 10, 'user_factors': None, 'item_factors': None, 'user_biases': None, 'item_biases': None, 'loss_train': [], 'loss_test': [], 'rmse_train': [], 'rmse_test': []}\n",
      "2025-01-08 22:30:14,096 [INFO] Starting a model fitting using the backend AlternatingLeastSquares...\n",
      "2025-01-08 22:30:14,116 [INFO] Checkpoint ./artifacts/checkpoints/als/1000000/20250107-223930_lambda5_gamma0.2_tau0.5_n_epochs10_n_factors10.pkl loaded with success\n",
      "2025-01-08 22:30:14,117 [INFO] All factors and biases are already provided, so no initialization is needed.\n",
      "2025-01-08 22:30:14,119 [ERROR] Cannot train the model more because hyperparameter 'hyper_n_epochs' (10) is already greater or equal to the final number of epochs wanted which is 10. Please check the value of 'hyper_n_epochs' and adjust accordingly. Exiting...\n",
      "2025-01-08 22:30:14,120 [INFO] Successfully built the recommender using AlternatingLeastSquares\n"
     ]
    }
   ],
   "execution_count": 16
  },
  {
   "metadata": {
    "ExecuteTime": {
     "end_time": "2025-01-08T20:30:14.158569Z",
     "start_time": "2025-01-08T20:30:14.155163Z"
    }
   },
   "cell_type": "code",
   "source": "",
   "id": "1c89e59926eb8c2c",
   "outputs": [],
   "execution_count": null
  },
  {
   "metadata": {
    "ExecuteTime": {
     "end_time": "2025-01-08T20:30:14.214591Z",
     "start_time": "2025-01-08T20:30:14.207867Z"
    }
   },
   "cell_type": "code",
   "source": "# plot_als_train_test_rmse_evolution(als_backend.algorithm)",
   "id": "5f7242dc80a5315d",
   "outputs": [],
   "execution_count": 17
  },
  {
   "metadata": {
    "ExecuteTime": {
     "end_time": "2025-01-08T20:30:14.270437Z",
     "start_time": "2025-01-08T20:30:14.267086Z"
    }
   },
   "cell_type": "code",
   "source": "# plot_als_train_test_loss_evolution(als_backend.algorithm)",
   "id": "fb7e870ef3561ce8",
   "outputs": [],
   "execution_count": 18
  },
  {
   "metadata": {
    "ExecuteTime": {
     "end_time": "2025-01-08T20:30:14.333705Z",
     "start_time": "2025-01-08T20:30:14.318298Z"
    }
   },
   "cell_type": "code",
   "source": [
    "#\n",
    "prediction_input = [(\"17\", 4)]\n",
    "recommender.recommend(prediction_input)"
   ],
   "id": "cef422cfbcaa8b63",
   "outputs": [
    {
     "data": {
      "text/plain": [
       "[{'title': 'Aziz Ansari: Live at Madison Square Garden (2015)',\n",
       "  'genres': ['Comedy'],\n",
       "  'feature_vector': array([0, 0, 0, 0, 1, 0, 0, 0, 0, 0, 0, 0, 0, 0, 0, 0, 0, 0, 0])},\n",
       " {'title': 'The Yakuza Papers, Vol. 4: Police Tactics (1974)',\n",
       "  'genres': ['Crime', 'Drama'],\n",
       "  'feature_vector': array([0, 0, 0, 0, 0, 1, 0, 1, 0, 0, 0, 0, 0, 0, 0, 0, 0, 0, 0])},\n",
       " {'title': 'The Last House on the Beach (1978)',\n",
       "  'genres': ['Crime', 'Drama', 'Horror', 'Thriller'],\n",
       "  'feature_vector': array([0, 0, 0, 0, 0, 1, 0, 1, 0, 0, 1, 0, 0, 0, 0, 0, 1, 0, 0])},\n",
       " {'title': 'Evilenko (2004)',\n",
       "  'genres': ['Crime', 'Horror', 'Thriller'],\n",
       "  'feature_vector': array([0, 0, 0, 0, 0, 1, 0, 0, 0, 0, 1, 0, 0, 0, 0, 0, 1, 0, 0])},\n",
       " {'title': 'Afflicted, The (2010)',\n",
       "  'genres': ['Horror', 'Thriller'],\n",
       "  'feature_vector': array([0, 0, 0, 0, 0, 0, 0, 0, 0, 0, 1, 0, 0, 0, 0, 0, 1, 0, 0])},\n",
       " {'title': 'Facing the Giants (2006)',\n",
       "  'genres': ['Action', 'Drama'],\n",
       "  'feature_vector': array([1, 0, 0, 0, 0, 0, 0, 1, 0, 0, 0, 0, 0, 0, 0, 0, 0, 0, 0])},\n",
       " {'title': 'Paradise (1982)',\n",
       "  'genres': ['Adventure', 'Romance'],\n",
       "  'feature_vector': array([0, 1, 0, 0, 0, 0, 0, 0, 0, 0, 0, 0, 0, 0, 1, 0, 0, 0, 0])},\n",
       " {'title': 'Geek Charming (2011)',\n",
       "  'genres': ['Comedy'],\n",
       "  'feature_vector': array([0, 0, 0, 0, 1, 0, 0, 0, 0, 0, 0, 0, 0, 0, 0, 0, 0, 0, 0])},\n",
       " {'title': 'Great Ecstasy of Woodcarver Steiner, The (Große Ekstase des Bildschnitzers Steiner, Die) (1974)',\n",
       "  'genres': ['Documentary'],\n",
       "  'feature_vector': array([0, 0, 0, 0, 0, 0, 1, 0, 0, 0, 0, 0, 0, 0, 0, 0, 0, 0, 0])},\n",
       " {'title': 'In Their Skin (2012)',\n",
       "  'genres': ['Horror', 'Thriller'],\n",
       "  'feature_vector': array([0, 0, 0, 0, 0, 0, 0, 0, 0, 0, 1, 0, 0, 0, 0, 0, 1, 0, 0])}]"
      ]
     },
     "execution_count": 19,
     "metadata": {},
     "output_type": "execute_result"
    }
   ],
   "execution_count": 19
  },
  {
   "metadata": {
    "ExecuteTime": {
     "end_time": "2025-01-08T20:30:14.507369Z",
     "start_time": "2025-01-08T20:30:14.474724Z"
    }
   },
   "cell_type": "code",
   "source": [
    "prediction_input = [(\"267654\", 4)]  # Harry Poter\n",
    "recommender.recommend(prediction_input)"
   ],
   "id": "89c74969cec15464",
   "outputs": [
    {
     "data": {
      "text/plain": [
       "[{'title': 'Aziz Ansari: Live at Madison Square Garden (2015)',\n",
       "  'genres': ['Comedy'],\n",
       "  'feature_vector': array([0, 0, 0, 0, 1, 0, 0, 0, 0, 0, 0, 0, 0, 0, 0, 0, 0, 0, 0])},\n",
       " {'title': 'The Last House on the Beach (1978)',\n",
       "  'genres': ['Crime', 'Drama', 'Horror', 'Thriller'],\n",
       "  'feature_vector': array([0, 0, 0, 0, 0, 1, 0, 1, 0, 0, 1, 0, 0, 0, 0, 0, 1, 0, 0])},\n",
       " {'title': 'The Yakuza Papers, Vol. 4: Police Tactics (1974)',\n",
       "  'genres': ['Crime', 'Drama'],\n",
       "  'feature_vector': array([0, 0, 0, 0, 0, 1, 0, 1, 0, 0, 0, 0, 0, 0, 0, 0, 0, 0, 0])},\n",
       " {'title': 'Facing the Giants (2006)',\n",
       "  'genres': ['Action', 'Drama'],\n",
       "  'feature_vector': array([1, 0, 0, 0, 0, 0, 0, 1, 0, 0, 0, 0, 0, 0, 0, 0, 0, 0, 0])},\n",
       " {'title': 'Evilenko (2004)',\n",
       "  'genres': ['Crime', 'Horror', 'Thriller'],\n",
       "  'feature_vector': array([0, 0, 0, 0, 0, 1, 0, 0, 0, 0, 1, 0, 0, 0, 0, 0, 1, 0, 0])},\n",
       " {'title': 'Afflicted, The (2010)',\n",
       "  'genres': ['Horror', 'Thriller'],\n",
       "  'feature_vector': array([0, 0, 0, 0, 0, 0, 0, 0, 0, 0, 1, 0, 0, 0, 0, 0, 1, 0, 0])},\n",
       " {'title': 'Paradise (1982)',\n",
       "  'genres': ['Adventure', 'Romance'],\n",
       "  'feature_vector': array([0, 1, 0, 0, 0, 0, 0, 0, 0, 0, 0, 0, 0, 0, 1, 0, 0, 0, 0])},\n",
       " {'title': 'Great Ecstasy of Woodcarver Steiner, The (Große Ekstase des Bildschnitzers Steiner, Die) (1974)',\n",
       "  'genres': ['Documentary'],\n",
       "  'feature_vector': array([0, 0, 0, 0, 0, 0, 1, 0, 0, 0, 0, 0, 0, 0, 0, 0, 0, 0, 0])},\n",
       " {'title': 'Geek Charming (2011)',\n",
       "  'genres': ['Comedy'],\n",
       "  'feature_vector': array([0, 0, 0, 0, 1, 0, 0, 0, 0, 0, 0, 0, 0, 0, 0, 0, 0, 0, 0])},\n",
       " {'title': 'In Their Skin (2012)',\n",
       "  'genres': ['Horror', 'Thriller'],\n",
       "  'feature_vector': array([0, 0, 0, 0, 0, 0, 0, 0, 0, 0, 1, 0, 0, 0, 0, 0, 1, 0, 0])}]"
      ]
     },
     "execution_count": 20,
     "metadata": {},
     "output_type": "execute_result"
    }
   ],
   "execution_count": 20
  },
  {
   "metadata": {
    "ExecuteTime": {
     "end_time": "2025-01-08T20:30:14.744095Z",
     "start_time": "2025-01-08T20:30:14.737472Z"
    }
   },
   "cell_type": "code",
   "source": "",
   "id": "298347782d68fe2f",
   "outputs": [],
   "execution_count": null
  }
 ],
 "metadata": {
  "kernelspec": {
   "display_name": "recommender-system-uSlwvUxw-py3.10",
   "language": "python",
   "name": "python3"
  },
  "language_info": {
   "codemirror_mode": {
    "name": "ipython",
    "version": 3
   },
   "file_extension": ".py",
   "mimetype": "text/x-python",
   "name": "python",
   "nbconvert_exporter": "python",
   "pygments_lexer": "ipython3",
   "version": "3.10.12"
  }
 },
 "nbformat": 4,
 "nbformat_minor": 5
}
