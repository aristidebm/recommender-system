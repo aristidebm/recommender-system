{
 "cells": [
  {
   "cell_type": "code",
   "id": "initial_id",
   "metadata": {
    "collapsed": true,
    "ExecuteTime": {
     "end_time": "2024-12-26T20:58:48.105261Z",
     "start_time": "2024-12-26T20:58:48.097109Z"
    }
   },
   "source": [
    "from src.algorithms.alternating_least_squares import AlternatingLeastSquares\n",
    "from src.utils.dataset_indexer import DatasetIndexer\n",
    "from src.utils.checkpoint_manager import CheckpointManager\n",
    "from src.recommender import CollaborativeFilteringRecommenderBuilder\n",
    "from src.backends import Backend\n",
    "\n",
    "from src.settings import settings"
   ],
   "outputs": [],
   "execution_count": 27
  },
  {
   "metadata": {
    "ExecuteTime": {
     "end_time": "2024-12-26T20:58:49.300433Z",
     "start_time": "2024-12-26T20:58:49.139743Z"
    }
   },
   "cell_type": "code",
   "source": [
    "dataset_indexer = DatasetIndexer(\n",
    "    file_path=\"./ml-32m/ratings.csv\",\n",
    "    user_header=\"userId\",\n",
    "    item_header=\"movieId\",\n",
    "    rating_header=\"rating\",\n",
    "    limit=10000,\n",
    ")\n",
    "\n",
    "indexed_data = dataset_indexer.index(approximate_train_ratio=0.8)"
   ],
   "id": "f514cb70517008ef",
   "outputs": [
    {
     "name": "stderr",
     "output_type": "stream",
     "text": [
      "The current implementation does not split the data into train and test sets exactly with the provided ratio. We use the provided ratio as a probability for a Bernoulli distribution to know whether the data point should be used as a training data or a test data.\n",
      "Limit of lines (.i.e 10000) to index has been reached. Exiting without loading the rest... \n"
     ]
    }
   ],
   "execution_count": 28
  },
  {
   "metadata": {
    "ExecuteTime": {
     "end_time": "2024-12-26T20:58:50.723392Z",
     "start_time": "2024-12-26T20:58:50.660403Z"
    }
   },
   "cell_type": "code",
   "source": [
    "alternating_least_squares = AlternatingLeastSquares(\n",
    "    hyper_lambda=settings.als.HYPER_LAMBDA,\n",
    "    hyper_gamma=settings.als.HYPER_GAMMA,\n",
    "    hyper_tau=settings.als.HYPER_TAU,\n",
    "    hyper_n_epochs=settings.als.HYPER_N_EPOCH,\n",
    "    hyper_n_factors=settings.als.HYPER_N_FACTOR,\n",
    ")\n",
    "\n",
    "als_backend = Backend(\n",
    "    # Define the algorithm\n",
    "    algo=alternating_least_squares,\n",
    "    checkpoint_manager=CheckpointManager(\n",
    "        checkpoint_folder=settings.als.CHECKPOINT_FOLDER,\n",
    "    ),\n",
    ")"
   ],
   "id": "db7f06b057e86e5c",
   "outputs": [
    {
     "ename": "AttributeError",
     "evalue": "can't set attribute '_state'",
     "output_type": "error",
     "traceback": [
      "\u001B[0;31m---------------------------------------------------------------------------\u001B[0m",
      "\u001B[0;31mAttributeError\u001B[0m                            Traceback (most recent call last)",
      "Cell \u001B[0;32mIn[29], line 1\u001B[0m\n\u001B[0;32m----> 1\u001B[0m alternating_least_squares \u001B[38;5;241m=\u001B[39m \u001B[43mAlternatingLeastSquares\u001B[49m\u001B[43m(\u001B[49m\n\u001B[1;32m      2\u001B[0m \u001B[43m    \u001B[49m\u001B[43mhyper_lambda\u001B[49m\u001B[38;5;241;43m=\u001B[39;49m\u001B[43msettings\u001B[49m\u001B[38;5;241;43m.\u001B[39;49m\u001B[43mals\u001B[49m\u001B[38;5;241;43m.\u001B[39;49m\u001B[43mHYPER_LAMBDA\u001B[49m\u001B[43m,\u001B[49m\n\u001B[1;32m      3\u001B[0m \u001B[43m    \u001B[49m\u001B[43mhyper_gamma\u001B[49m\u001B[38;5;241;43m=\u001B[39;49m\u001B[43msettings\u001B[49m\u001B[38;5;241;43m.\u001B[39;49m\u001B[43mals\u001B[49m\u001B[38;5;241;43m.\u001B[39;49m\u001B[43mHYPER_GAMMA\u001B[49m\u001B[43m,\u001B[49m\n\u001B[1;32m      4\u001B[0m \u001B[43m    \u001B[49m\u001B[43mhyper_tau\u001B[49m\u001B[38;5;241;43m=\u001B[39;49m\u001B[43msettings\u001B[49m\u001B[38;5;241;43m.\u001B[39;49m\u001B[43mals\u001B[49m\u001B[38;5;241;43m.\u001B[39;49m\u001B[43mHYPER_TAU\u001B[49m\u001B[43m,\u001B[49m\n\u001B[1;32m      5\u001B[0m \u001B[43m    \u001B[49m\u001B[43mhyper_n_epochs\u001B[49m\u001B[38;5;241;43m=\u001B[39;49m\u001B[43msettings\u001B[49m\u001B[38;5;241;43m.\u001B[39;49m\u001B[43mals\u001B[49m\u001B[38;5;241;43m.\u001B[39;49m\u001B[43mHYPER_N_EPOCH\u001B[49m\u001B[43m,\u001B[49m\n\u001B[1;32m      6\u001B[0m \u001B[43m    \u001B[49m\u001B[43mhyper_n_factors\u001B[49m\u001B[38;5;241;43m=\u001B[39;49m\u001B[43msettings\u001B[49m\u001B[38;5;241;43m.\u001B[39;49m\u001B[43mals\u001B[49m\u001B[38;5;241;43m.\u001B[39;49m\u001B[43mHYPER_N_FACTOR\u001B[49m\u001B[43m,\u001B[49m\n\u001B[1;32m      7\u001B[0m \u001B[43m)\u001B[49m\n\u001B[1;32m      9\u001B[0m als_backend \u001B[38;5;241m=\u001B[39m Backend(\n\u001B[1;32m     10\u001B[0m     \u001B[38;5;66;03m# Define the algorithm\u001B[39;00m\n\u001B[1;32m     11\u001B[0m     algo\u001B[38;5;241m=\u001B[39malternating_least_squares,\n\u001B[0;32m   (...)\u001B[0m\n\u001B[1;32m     14\u001B[0m     ),\n\u001B[1;32m     15\u001B[0m )\n",
      "File \u001B[0;32m~/AI4Science/ml_at_scale/src/algorithms/alternating_least_squares.py:29\u001B[0m, in \u001B[0;36mAlternatingLeastSquares.__init__\u001B[0;34m(self, hyper_lambda, hyper_gamma, hyper_tau, hyper_n_epochs, hyper_n_factors, user_factors, item_factors, user_biases, item_biases)\u001B[0m\n\u001B[1;32m     17\u001B[0m \u001B[38;5;28;01mdef\u001B[39;00m \u001B[38;5;21m__init__\u001B[39m(\n\u001B[1;32m     18\u001B[0m         \u001B[38;5;28mself\u001B[39m,\n\u001B[1;32m     19\u001B[0m         hyper_lambda: \u001B[38;5;28mfloat\u001B[39m \u001B[38;5;241m=\u001B[39m \u001B[38;5;241m0.1\u001B[39m,\n\u001B[0;32m   (...)\u001B[0m\n\u001B[1;32m     27\u001B[0m         item_biases: Optional[Sequence] \u001B[38;5;241m=\u001B[39m \u001B[38;5;28;01mNone\u001B[39;00m,\n\u001B[1;32m     28\u001B[0m ):\n\u001B[0;32m---> 29\u001B[0m     \u001B[38;5;28;43mself\u001B[39;49m\u001B[38;5;241;43m.\u001B[39;49m\u001B[43m_state\u001B[49m \u001B[38;5;241m=\u001B[39m AlsState({\n\u001B[1;32m     30\u001B[0m         \u001B[38;5;124m\"\u001B[39m\u001B[38;5;124mhyper_lambda\u001B[39m\u001B[38;5;124m\"\u001B[39m: hyper_lambda,\n\u001B[1;32m     31\u001B[0m         \u001B[38;5;124m\"\u001B[39m\u001B[38;5;124mhyper_tau\u001B[39m\u001B[38;5;124m\"\u001B[39m: hyper_tau,\n\u001B[1;32m     32\u001B[0m         \u001B[38;5;124m\"\u001B[39m\u001B[38;5;124mhyper_gamma\u001B[39m\u001B[38;5;124m\"\u001B[39m: hyper_gamma,\n\u001B[1;32m     33\u001B[0m         \u001B[38;5;124m\"\u001B[39m\u001B[38;5;124mhyper_n_epochs\u001B[39m\u001B[38;5;124m\"\u001B[39m: hyper_n_epochs,\n\u001B[1;32m     34\u001B[0m         \u001B[38;5;124m\"\u001B[39m\u001B[38;5;124mhyper_n_factors\u001B[39m\u001B[38;5;124m\"\u001B[39m: hyper_n_factors,\n\u001B[1;32m     35\u001B[0m         \u001B[38;5;124m\"\u001B[39m\u001B[38;5;124muser_factors\u001B[39m\u001B[38;5;124m\"\u001B[39m: user_factors,\n\u001B[1;32m     36\u001B[0m         \u001B[38;5;124m\"\u001B[39m\u001B[38;5;124mitem_factors\u001B[39m\u001B[38;5;124m\"\u001B[39m: item_factors,\n\u001B[1;32m     37\u001B[0m         \u001B[38;5;124m\"\u001B[39m\u001B[38;5;124muser_biases\u001B[39m\u001B[38;5;124m\"\u001B[39m: user_biases,\n\u001B[1;32m     38\u001B[0m         \u001B[38;5;124m\"\u001B[39m\u001B[38;5;124mitem_biases\u001B[39m\u001B[38;5;124m\"\u001B[39m: item_biases,\n\u001B[1;32m     39\u001B[0m     })\n",
      "\u001B[0;31mAttributeError\u001B[0m: can't set attribute '_state'"
     ]
    }
   ],
   "execution_count": 29
  },
  {
   "metadata": {
    "ExecuteTime": {
     "end_time": "2024-12-26T19:00:35.880790342Z",
     "start_time": "2024-12-26T18:29:01.267855Z"
    }
   },
   "cell_type": "code",
   "source": [
    "recommender_builder = CollaborativeFilteringRecommenderBuilder(\n",
    "    backend=als_backend,\n",
    ")\n",
    "\n",
    "recommender = recommender_builder.build(data=indexed_data)\n",
    "\n",
    "recommender.recommend(None)"
   ],
   "id": "a6088fcc1307ccc4",
   "outputs": [
    {
     "ename": "NameError",
     "evalue": "name 'CollaborativeFilteringRecommenderBuilder' is not defined",
     "output_type": "error",
     "traceback": [
      "\u001B[0;31m---------------------------------------------------------------------------\u001B[0m",
      "\u001B[0;31mNameError\u001B[0m                                 Traceback (most recent call last)",
      "Cell \u001B[0;32mIn[28], line 1\u001B[0m\n\u001B[0;32m----> 1\u001B[0m recommender_builder \u001B[38;5;241m=\u001B[39m \u001B[43mCollaborativeFilteringRecommenderBuilder\u001B[49m(\n\u001B[1;32m      2\u001B[0m     backend\u001B[38;5;241m=\u001B[39mals_backend,\n\u001B[1;32m      3\u001B[0m )\n\u001B[1;32m      5\u001B[0m recommender \u001B[38;5;241m=\u001B[39m recommender_builder\u001B[38;5;241m.\u001B[39mbuild(data\u001B[38;5;241m=\u001B[39mindexed_data)\n\u001B[1;32m      7\u001B[0m recommender\u001B[38;5;241m.\u001B[39mrecommend(\u001B[38;5;28;01mNone\u001B[39;00m)\n",
      "\u001B[0;31mNameError\u001B[0m: name 'CollaborativeFilteringRecommenderBuilder' is not defined"
     ]
    }
   ],
   "execution_count": 28
  },
  {
   "metadata": {
    "ExecuteTime": {
     "end_time": "2024-12-26T19:00:35.881245276Z",
     "start_time": "2024-12-26T02:30:13.178608Z"
    }
   },
   "cell_type": "code",
   "source": "",
   "id": "298347782d68fe2f",
   "outputs": [
    {
     "name": "stdout",
     "output_type": "stream",
     "text": [
      "Method:  numpy\n"
     ]
    },
    {
     "ename": "KeyboardInterrupt",
     "evalue": "",
     "output_type": "error",
     "traceback": [
      "\u001B[0;31m---------------------------------------------------------------------------\u001B[0m",
      "\u001B[0;31mKeyboardInterrupt\u001B[0m                         Traceback (most recent call last)",
      "Cell \u001B[0;32mIn[23], line 65\u001B[0m\n\u001B[1;32m     63\u001B[0m \u001B[38;5;28mprint\u001B[39m(\u001B[38;5;124m\"\u001B[39m\u001B[38;5;124mMethod: \u001B[39m\u001B[38;5;124m\"\u001B[39m, method)\n\u001B[1;32m     64\u001B[0m start_time \u001B[38;5;241m=\u001B[39m time\u001B[38;5;241m.\u001B[39mtime()\n\u001B[0;32m---> 65\u001B[0m \u001B[43mfunc\u001B[49m\u001B[43m(\u001B[49m\u001B[43mfile_path\u001B[49m\u001B[43m,\u001B[49m\u001B[43m \u001B[49m\u001B[43mline_limit\u001B[49m\u001B[38;5;241;43m=\u001B[39;49m\u001B[43mline_limit\u001B[49m\u001B[43m)\u001B[49m\n\u001B[1;32m     66\u001B[0m elapsed_time \u001B[38;5;241m=\u001B[39m time\u001B[38;5;241m.\u001B[39mtime() \u001B[38;5;241m-\u001B[39m start_time\n\u001B[1;32m     67\u001B[0m results[method] \u001B[38;5;241m=\u001B[39m elapsed_time\n",
      "Cell \u001B[0;32mIn[23], line 22\u001B[0m, in \u001B[0;36mprocess_with_numpy\u001B[0;34m(file, line_limit)\u001B[0m\n\u001B[1;32m     20\u001B[0m \u001B[38;5;28;01mdef\u001B[39;00m \u001B[38;5;21mprocess_with_numpy\u001B[39m(file, line_limit\u001B[38;5;241m=\u001B[39m\u001B[38;5;28;01mNone\u001B[39;00m):\n\u001B[1;32m     21\u001B[0m     to_process \u001B[38;5;241m=\u001B[39m []\n\u001B[0;32m---> 22\u001B[0m     data \u001B[38;5;241m=\u001B[39m \u001B[43mnp\u001B[49m\u001B[38;5;241;43m.\u001B[39;49m\u001B[43mgenfromtxt\u001B[49m\u001B[43m(\u001B[49m\u001B[43mfile\u001B[49m\u001B[43m,\u001B[49m\u001B[43m \u001B[49m\u001B[43mdelimiter\u001B[49m\u001B[38;5;241;43m=\u001B[39;49m\u001B[38;5;124;43m'\u001B[39;49m\u001B[38;5;124;43m,\u001B[39;49m\u001B[38;5;124;43m'\u001B[39;49m\u001B[43m,\u001B[49m\u001B[43m \u001B[49m\u001B[43mdtype\u001B[49m\u001B[38;5;241;43m=\u001B[39;49m\u001B[38;5;28;43;01mNone\u001B[39;49;00m\u001B[43m,\u001B[49m\u001B[43m \u001B[49m\u001B[43mnames\u001B[49m\u001B[38;5;241;43m=\u001B[39;49m\u001B[38;5;28;43;01mTrue\u001B[39;49;00m\u001B[43m,\u001B[49m\u001B[43m \u001B[49m\u001B[43mencoding\u001B[49m\u001B[38;5;241;43m=\u001B[39;49m\u001B[38;5;124;43m'\u001B[39;49m\u001B[38;5;124;43mutf-8\u001B[39;49m\u001B[38;5;124;43m'\u001B[39;49m\u001B[43m)\u001B[49m\n\u001B[1;32m     23\u001B[0m     \u001B[38;5;28;01mfor\u001B[39;00m i, row \u001B[38;5;129;01min\u001B[39;00m \u001B[38;5;28menumerate\u001B[39m(data):\n\u001B[1;32m     24\u001B[0m         \u001B[38;5;28;01mif\u001B[39;00m line_limit \u001B[38;5;129;01mis\u001B[39;00m \u001B[38;5;129;01mnot\u001B[39;00m \u001B[38;5;28;01mNone\u001B[39;00m \u001B[38;5;129;01mand\u001B[39;00m i \u001B[38;5;241m>\u001B[39m\u001B[38;5;241m=\u001B[39m line_limit:\n",
      "File \u001B[0;32m~/.cache/pypoetry/virtualenvs/recommender-system-uSlwvUxw-py3.10/lib/python3.10/site-packages/numpy/lib/_npyio_impl.py:2269\u001B[0m, in \u001B[0;36mgenfromtxt\u001B[0;34m(fname, dtype, comments, delimiter, skip_header, skip_footer, converters, missing_values, filling_values, usecols, names, excludelist, deletechars, replace_space, autostrip, case_sensitive, defaultfmt, unpack, usemask, loose, invalid_raise, max_rows, encoding, ndmin, like)\u001B[0m\n\u001B[1;32m   2267\u001B[0m \u001B[38;5;66;03m# Parse each line\u001B[39;00m\n\u001B[1;32m   2268\u001B[0m \u001B[38;5;28;01mfor\u001B[39;00m (i, line) \u001B[38;5;129;01min\u001B[39;00m \u001B[38;5;28menumerate\u001B[39m(itertools\u001B[38;5;241m.\u001B[39mchain([first_line, ], fhd)):\n\u001B[0;32m-> 2269\u001B[0m     values \u001B[38;5;241m=\u001B[39m \u001B[43msplit_line\u001B[49m\u001B[43m(\u001B[49m\u001B[43mline\u001B[49m\u001B[43m)\u001B[49m\n\u001B[1;32m   2270\u001B[0m     nbvalues \u001B[38;5;241m=\u001B[39m \u001B[38;5;28mlen\u001B[39m(values)\n\u001B[1;32m   2271\u001B[0m     \u001B[38;5;66;03m# Skip an empty line\u001B[39;00m\n",
      "File \u001B[0;32m~/.cache/pypoetry/virtualenvs/recommender-system-uSlwvUxw-py3.10/lib/python3.10/site-packages/numpy/lib/_iotools.py:225\u001B[0m, in \u001B[0;36mLineSplitter.__call__\u001B[0;34m(self, line)\u001B[0m\n\u001B[1;32m    224\u001B[0m \u001B[38;5;28;01mdef\u001B[39;00m \u001B[38;5;21m__call__\u001B[39m(\u001B[38;5;28mself\u001B[39m, line):\n\u001B[0;32m--> 225\u001B[0m     \u001B[38;5;28;01mreturn\u001B[39;00m \u001B[38;5;28;43mself\u001B[39;49m\u001B[38;5;241;43m.\u001B[39;49m\u001B[43m_handyman\u001B[49m\u001B[43m(\u001B[49m\u001B[43m_decode_line\u001B[49m\u001B[43m(\u001B[49m\u001B[43mline\u001B[49m\u001B[43m,\u001B[49m\u001B[43m \u001B[49m\u001B[38;5;28;43mself\u001B[39;49m\u001B[38;5;241;43m.\u001B[39;49m\u001B[43mencoding\u001B[49m\u001B[43m)\u001B[49m\u001B[43m)\u001B[49m\n",
      "File \u001B[0;32m~/.cache/pypoetry/virtualenvs/recommender-system-uSlwvUxw-py3.10/lib/python3.10/site-packages/numpy/lib/_iotools.py:201\u001B[0m, in \u001B[0;36mLineSplitter._delimited_splitter\u001B[0;34m(self, line)\u001B[0m\n\u001B[1;32m    199\u001B[0m \u001B[38;5;28;01mif\u001B[39;00m \u001B[38;5;28mself\u001B[39m\u001B[38;5;241m.\u001B[39mcomments \u001B[38;5;129;01mis\u001B[39;00m \u001B[38;5;129;01mnot\u001B[39;00m \u001B[38;5;28;01mNone\u001B[39;00m:\n\u001B[1;32m    200\u001B[0m     line \u001B[38;5;241m=\u001B[39m line\u001B[38;5;241m.\u001B[39msplit(\u001B[38;5;28mself\u001B[39m\u001B[38;5;241m.\u001B[39mcomments)[\u001B[38;5;241m0\u001B[39m]\n\u001B[0;32m--> 201\u001B[0m line \u001B[38;5;241m=\u001B[39m \u001B[43mline\u001B[49m\u001B[38;5;241;43m.\u001B[39;49m\u001B[43mstrip\u001B[49m\u001B[43m(\u001B[49m\u001B[38;5;124;43m\"\u001B[39;49m\u001B[38;5;124;43m \u001B[39;49m\u001B[38;5;130;43;01m\\r\u001B[39;49;00m\u001B[38;5;130;43;01m\\n\u001B[39;49;00m\u001B[38;5;124;43m\"\u001B[39;49m\u001B[43m)\u001B[49m\n\u001B[1;32m    202\u001B[0m \u001B[38;5;28;01mif\u001B[39;00m \u001B[38;5;129;01mnot\u001B[39;00m line:\n\u001B[1;32m    203\u001B[0m     \u001B[38;5;28;01mreturn\u001B[39;00m []\n",
      "\u001B[0;31mKeyboardInterrupt\u001B[0m: "
     ]
    }
   ],
   "execution_count": 23
  }
 ],
 "metadata": {
  "kernelspec": {
   "display_name": "Python 3",
   "language": "python",
   "name": "python3"
  },
  "language_info": {
   "codemirror_mode": {
    "name": "ipython",
    "version": 2
   },
   "file_extension": ".py",
   "mimetype": "text/x-python",
   "name": "python",
   "nbconvert_exporter": "python",
   "pygments_lexer": "ipython2",
   "version": "2.7.6"
  }
 },
 "nbformat": 4,
 "nbformat_minor": 5
}
