{
 "cells": [
  {
   "cell_type": "code",
   "id": "initial_id",
   "metadata": {
    "collapsed": true,
    "ExecuteTime": {
     "end_time": "2025-01-05T13:46:24.777624Z",
     "start_time": "2025-01-05T13:46:24.168131Z"
    }
   },
   "source": [
    "from src.algorithms.alternating_least_squares import AlternatingLeastSquares\n",
    "from src.helpers.dataset_indexer import DatasetIndexer\n",
    "from src.helpers.checkpoint_manager import CheckpointManager\n",
    "from src.recommenders import CollaborativeFilteringRecommenderBuilder\n",
    "from src.backends import Backend\n",
    "from src.helpers._logging import logger  # noqa\n",
    "from src.settings import settings\n",
    "\n",
    "from src.helpers.graphing import (\n",
    "    plot_als_train_test_loss_evolution,\n",
    "    plot_als_train_test_rmse_evolution,\n",
    "    plot_error_evolution,\n",
    "    plot_power_low_distribution,\n",
    "    plot_data_item_distribution_as_hist,\n",
    ")"
   ],
   "outputs": [],
   "execution_count": 1
  },
  {
   "cell_type": "code",
   "id": "f514cb70517008ef",
   "metadata": {
    "ExecuteTime": {
     "end_time": "2025-01-05T13:46:32.250291Z",
     "start_time": "2025-01-05T13:46:24.788280Z"
    }
   },
   "source": [
    "dataset_indexer = DatasetIndexer(\n",
    "    file_path=\"./ml-32m/ratings.csv\",\n",
    "    user_header=\"userId\",\n",
    "    item_header=\"movieId\",\n",
    "    rating_header=\"rating\",\n",
    "    limit=settings.general.LINES_COUNT_TO_READ,\n",
    ")\n",
    "\n",
    "indexed_data = dataset_indexer.index(\n",
    "    approximate_train_ratio=settings.general.APPROXIMATE_TRAIN_RATIO\n",
    ")"
   ],
   "outputs": [
    {
     "name": "stdout",
     "output_type": "stream",
     "text": [
      "2025-01-05 15:46:24,790 [WARNING] The current implementation does not split the data into train and test sets exactly with the provided ratio. We use the provided ratio as a probability for a Bernoulli distribution to know whether the data point should be used as a training data or a test data.\n",
      "2025-01-05 15:46:32,245 [WARNING] The limit of lines (.i.e 1000000) to index has been reached. Exiting without loading the rest... \n",
      "2025-01-05 15:46:32,247 [INFO] Successfully indexed 1000000 lines from ./ml-32m/ratings.csv\n"
     ]
    }
   ],
   "execution_count": 2
  },
  {
   "metadata": {
    "ExecuteTime": {
     "end_time": "2025-01-05T13:46:34.334409Z",
     "start_time": "2025-01-05T13:46:32.472614Z"
    }
   },
   "cell_type": "code",
   "source": [
    "plot_power_low_distribution(\n",
    "    indexed_data,\n",
    ")"
   ],
   "id": "e1b298f3091f98cd",
   "outputs": [
    {
     "data": {
      "text/plain": [
       "<Figure size 600x400 with 1 Axes>"
      ],
      "image/png": "[encoded data removed]"
     },
     "metadata": {},
     "output_type": "display_data"
    }
   ],
   "execution_count": 3
  },
  {
   "cell_type": "code",
   "id": "db7f06b057e86e5c",
   "metadata": {
    "ExecuteTime": {
     "end_time": "2025-01-05T13:46:34.369915Z",
     "start_time": "2025-01-05T13:46:34.362827Z"
    }
   },
   "source": [
    "als_instance = AlternatingLeastSquares(\n",
    "    hyper_lambda=settings.als.HYPER_LAMBDA,\n",
    "    hyper_gamma=settings.als.HYPER_GAMMA,\n",
    "    hyper_tau=settings.als.HYPER_TAU,\n",
    "    hyper_n_epochs=settings.als.HYPER_N_EPOCH,\n",
    "    hyper_n_factors=settings.als.HYPER_N_FACTOR,\n",
    ")\n",
    "\n",
    "als_backend = Backend(\n",
    "    # Define the algorithm\n",
    "    algorithm=als_instance,\n",
    "    checkpoint_manager=CheckpointManager(\n",
    "        checkpoint_folder=settings.als.CHECKPOINT_FOLDER,\n",
    "        sub_folder=str(settings.general.LINES_COUNT_TO_READ),\n",
    "    ),\n",
    "    # Whether we should resume by using the last state of\n",
    "    # the algorithm the checkpoint manager folder or not.\n",
    "    resume=True,\n",
    ")"
   ],
   "outputs": [],
   "execution_count": 4
  },
  {
   "metadata": {
    "jupyter": {
     "is_executing": true
    },
    "ExecuteTime": {
     "start_time": "2025-01-05T13:46:34.425145Z"
    }
   },
   "cell_type": "code",
   "source": [
    "recommender_builder = CollaborativeFilteringRecommenderBuilder(\n",
    "    backend=als_backend,\n",
    ")\n",
    "\n",
    "# This might take some moment before finishing\n",
    "recommender = recommender_builder.build(data=indexed_data)"
   ],
   "id": "a6088fcc1307ccc4",
   "outputs": [
    {
     "name": "stdout",
     "output_type": "stream",
     "text": [
      "2025-01-05 15:46:34,427 [INFO] Starting the build of the recommender using AlternatingLeastSquares...\n",
      "2025-01-05 15:46:34,429 [INFO] Starting a model fitting using the backend AlternatingLeastSquares...\n",
      "2025-01-05 15:46:34,450 [INFO] Checkpoint ./artifacts/checkpoints/als/1000000/20250105-151912_lambda0.1_gamma0.01_tau1_n_epochs4_n_factors10.pkl loaded with success\n",
      "2025-01-05 15:46:34,451 [INFO] All factors and biases are already provided, so no initialization is needed.\n"
     ]
    },
    {
     "name": "stderr",
     "output_type": "stream",
     "text": [
      "Epochs:  25%|██▌       | 1/4 [00:17<00:52, 17.39s/epoch]"
     ]
    },
    {
     "name": "stdout",
     "output_type": "stream",
     "text": [
      "Epoch 1/4: Loss (Train/Test) = -25351.2137/-104511.5669, RMSE (Train/Test) = 0.7059/3.6860\n"
     ]
    },
    {
     "name": "stderr",
     "output_type": "stream",
     "text": [
      "Epochs:  50%|█████     | 2/4 [00:35<00:35, 17.66s/epoch]"
     ]
    },
    {
     "name": "stdout",
     "output_type": "stream",
     "text": [
      "Epoch 2/4: Loss (Train/Test) = -25246.9021/-104555.8435, RMSE (Train/Test) = 0.7033/3.6857\n"
     ]
    }
   ],
   "execution_count": null
  },
  {
   "metadata": {
    "ExecuteTime": {
     "end_time": "2025-01-05T13:41:13.426861101Z",
     "start_time": "2025-01-05T13:19:13.797047Z"
    }
   },
   "cell_type": "code",
   "source": [
    "prediction_input = [(\"17\", 4)]\n",
    "recommender.recommend(prediction_input)"
   ],
   "id": "cef422cfbcaa8b63",
   "outputs": [
    {
     "name": "stdout",
     "output_type": "stream",
     "text": [
      "predictions => [3.8537562  3.45972673 3.66501181 ... 4.18870544 3.73592827 4.18870544]\n",
      "items_ids => [17521 19437 17330 ... 20759 20761 13676]\n",
      "predictions => [3.8537562  3.45972673 3.66501181 ... 4.18870544 3.73592827 4.18870544]\n",
      "items_ids => [17521 19437 17330 ... 20759 20761 13676]\n",
      "Recommending [17521 19437 17330 ... 20759 20761 13676]\n"
     ]
    },
    {
     "data": {
      "text/plain": [
       "array([3.8537562 , 3.45972673, 3.66501181, ..., 4.18870544, 3.73592827,\n",
       "       4.18870544], shape=(26505,))"
      ]
     },
     "execution_count": 10,
     "metadata": {},
     "output_type": "execute_result"
    }
   ],
   "execution_count": 10
  },
  {
   "metadata": {
    "ExecuteTime": {
     "end_time": "2025-01-05T13:41:13.427236863Z",
     "start_time": "2025-01-05T13:19:13.948753Z"
    }
   },
   "cell_type": "code",
   "source": "",
   "id": "298347782d68fe2f",
   "outputs": [],
   "execution_count": null
  }
 ],
 "metadata": {
  "kernelspec": {
   "display_name": "recommender-system-uSlwvUxw-py3.10",
   "language": "python",
   "name": "python3"
  },
  "language_info": {
   "codemirror_mode": {
    "name": "ipython",
    "version": 3
   },
   "file_extension": ".py",
   "mimetype": "text/x-python",
   "name": "python",
   "nbconvert_exporter": "python",
   "pygments_lexer": "ipython3",
   "version": "3.10.12"
  }
 },
 "nbformat": 4,
 "nbformat_minor": 5
}
