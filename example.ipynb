{
 "cells": [
  {
   "cell_type": "code",
   "id": "initial_id",
   "metadata": {
    "collapsed": true,
    "ExecuteTime": {
     "end_time": "2025-01-11T00:49:39.624747Z",
     "start_time": "2025-01-11T00:49:39.617971Z"
    }
   },
   "source": [
    "import pandas as pd\n",
    "\n",
    "from src.algorithms.alternating_least_squares import AlternatingLeastSquares\n",
    "from src.helpers.dataset_indexer import DatasetIndexer\n",
    "from src.helpers.checkpoint_manager import CheckpointManager\n",
    "from src.recommenders import CollaborativeFilteringRecommenderBuilder\n",
    "from src.backends import Backend\n",
    "from src.helpers._logging import logger  # noqa\n",
    "from src.settings import settings\n",
    "from src.utils import vocabulary_based_one_hot_encode\n",
    "\n",
    "from src.helpers.graphing import (\n",
    "    plot_als_train_test_loss_evolution,\n",
    "    plot_als_train_test_rmse_evolution,\n",
    "    # plot_error_evolution,\n",
    "    plot_power_low_distribution,\n",
    "    plot_data_item_distribution_as_hist,\n",
    ")"
   ],
   "outputs": [],
   "execution_count": 12
  },
  {
   "metadata": {
    "ExecuteTime": {
     "end_time": "2025-01-10T23:00:15.122265Z",
     "start_time": "2025-01-10T23:00:15.108897Z"
    }
   },
   "cell_type": "code",
   "source": [
    "USER_HEADER = \"userId\"\n",
    "ITEM_HEADER = \"movieId\"\n",
    "RATING_HEADER = \"rating\"\n",
    "FEATURE_TO_ENCODE = \"genres\"\n",
    "ITEM_FEATURE_LIST = [\n",
    "    \"Action\",\n",
    "    \"Adventure\",\n",
    "    \"Animation\",\n",
    "    \"Children\",\n",
    "    \"Comedy\",\n",
    "    \"Crime\",\n",
    "    \"Documentary\",\n",
    "    \"Drama\",\n",
    "    \"Fantasy\",\n",
    "    \"Film-Noir\",\n",
    "    \"Horror\",\n",
    "    \"IMAX\",\n",
    "    \"Musical\",\n",
    "    \"Mystery\",\n",
    "    \"Romance\",\n",
    "    \"Sci-Fi\",\n",
    "    \"Thriller\",\n",
    "    \"War\",\n",
    "    \"Western\",\n",
    "]"
   ],
   "id": "c73b36a57e26980e",
   "outputs": [],
   "execution_count": 2
  },
  {
   "cell_type": "code",
   "id": "f514cb70517008ef",
   "metadata": {
    "ExecuteTime": {
     "end_time": "2025-01-10T22:34:37.167648Z",
     "start_time": "2025-01-10T22:34:27.525656Z"
    }
   },
   "source": [
    "dataset_indexer = DatasetIndexer(\n",
    "    file_path=\"./ml-32m/ratings.csv\",\n",
    "    user_header=USER_HEADER,\n",
    "    item_header=ITEM_HEADER,\n",
    "    rating_header=RATING_HEADER,\n",
    "    limit=settings.general.LINES_COUNT_TO_READ,\n",
    ")\n",
    "\n",
    "indexed_data = dataset_indexer.index_simple(\n",
    "    approximate_train_ratio=settings.general.APPROXIMATE_TRAIN_RATIO\n",
    ")"
   ],
   "outputs": [
    {
     "name": "stdout",
     "output_type": "stream",
     "text": [
      "2025-01-11 00:34:27,527 [WARNING] The current implementation does not split the data into train and test sets exactly with the provided ratio. We use the provided ratio as a probability for a Bernoulli distribution to know whether a given data point should be used as a training data or a test data.\n",
      "2025-01-11 00:34:37,164 [WARNING] The limit of lines (.i.e 1000000) to index has been reached. Exiting without loading the rest... \n",
      "2025-01-11 00:34:37,165 [INFO] Successfully indexed 1000000 lines from ./ml-32m/ratings.csv\n"
     ]
    }
   ],
   "execution_count": 3
  },
  {
   "metadata": {
    "ExecuteTime": {
     "end_time": "2025-01-11T00:49:12.620537Z",
     "start_time": "2025-01-11T00:49:11.177116Z"
    }
   },
   "cell_type": "code",
   "source": [
    "# Import the movie csv file that will act as our movie database\n",
    "# And that database is needed by the backend to query the movies\n",
    "item_database = (\n",
    "    pd.read_csv(\"./ml-32m/movies.csv\", dtype={ITEM_HEADER: str})\n",
    "    .assign(\n",
    "        genres=lambda df: df[FEATURE_TO_ENCODE].apply(lambda genres: genres.split(\"|\")),\n",
    "        features_hot_encoded=lambda df: df[FEATURE_TO_ENCODE].apply(\n",
    "            lambda g: vocabulary_based_one_hot_encode(\n",
    "                words=g, vocabulary=ITEM_FEATURE_LIST\n",
    "            )\n",
    "        ),\n",
    "        features_count=lambda df: df[\"features_hot_encoded\"].apply(lambda x: sum(x)),\n",
    "    )\n",
    "    .set_index(ITEM_HEADER)  # Set the movieId as the index\n",
    "    .to_dict(orient=\"index\")  # Convert the DataFrame to a dictionary\n",
    ")"
   ],
   "id": "225baff61515191c",
   "outputs": [],
   "execution_count": 6
  },
  {
   "metadata": {
    "ExecuteTime": {
     "end_time": "2025-01-10T22:30:23.875212Z",
     "start_time": "2025-01-10T22:30:23.871382Z"
    }
   },
   "cell_type": "code",
   "source": "# plot_data_item_distribution_as_hist(indexed_data)",
   "id": "92796e4ad51b755c",
   "outputs": [],
   "execution_count": 23
  },
  {
   "metadata": {
    "ExecuteTime": {
     "end_time": "2025-01-11T00:49:16.058328Z",
     "start_time": "2025-01-11T00:49:16.050764Z"
    }
   },
   "cell_type": "code",
   "source": "# plot_power_low_distribution(indexed_data,)",
   "id": "e1b298f3091f98cd",
   "outputs": [],
   "execution_count": 7
  },
  {
   "cell_type": "code",
   "id": "db7f06b057e86e5c",
   "metadata": {
    "ExecuteTime": {
     "end_time": "2025-01-11T00:49:29.356162Z",
     "start_time": "2025-01-11T00:49:29.346216Z"
    }
   },
   "source": [
    "als_instance = AlternatingLeastSquares(\n",
    "    hyper_lambda=settings.als.HYPER_LAMBDA,\n",
    "    hyper_gamma=settings.als.HYPER_GAMMA,\n",
    "    hyper_tau=settings.als.HYPER_TAU,\n",
    "    hyper_n_epochs=settings.als.HYPER_N_EPOCH,\n",
    "    hyper_n_factors=settings.als.HYPER_N_FACTOR,\n",
    ")\n",
    "\n",
    "als_backend = Backend(\n",
    "    # Define the algorithm\n",
    "    algorithm=als_instance,\n",
    "    checkpoint_manager=CheckpointManager(\n",
    "        checkpoint_folder=settings.als.CHECKPOINT_FOLDER,\n",
    "        sub_folder=str(settings.general.LINES_COUNT_TO_READ),\n",
    "    ),\n",
    "    # The predictor needs this to render the name of the items\n",
    "    item_database=item_database,\n",
    "    # Whether we should resume by using the last state of\n",
    "    # the algorithm the checkpoint manager folder or not.\n",
    "    resume=True,\n",
    "    save_checkpoint=False,\n",
    ")"
   ],
   "outputs": [],
   "execution_count": 8
  },
  {
   "metadata": {
    "ExecuteTime": {
     "end_time": "2025-01-11T00:49:33.059898Z",
     "start_time": "2025-01-11T00:49:32.933341Z"
    }
   },
   "cell_type": "code",
   "source": [
    "recommender_builder = CollaborativeFilteringRecommenderBuilder(\n",
    "    backend=als_backend,\n",
    ")\n",
    "\n",
    "# This might take some moment before finishing\n",
    "recommender = recommender_builder.build(\n",
    "    data=indexed_data, item_database=item_database, include_features=True\n",
    ")"
   ],
   "id": "a6088fcc1307ccc4",
   "outputs": [
    {
     "ename": "NameError",
     "evalue": "name 'indexed_data' is not defined",
     "output_type": "error",
     "traceback": [
      "\u001B[0;31m---------------------------------------------------------------------------\u001B[0m",
      "\u001B[0;31mNameError\u001B[0m                                 Traceback (most recent call last)",
      "Cell \u001B[0;32mIn[9], line 7\u001B[0m\n\u001B[1;32m      1\u001B[0m recommender_builder \u001B[38;5;241m=\u001B[39m CollaborativeFilteringRecommenderBuilder(\n\u001B[1;32m      2\u001B[0m     backend\u001B[38;5;241m=\u001B[39mals_backend,\n\u001B[1;32m      3\u001B[0m )\n\u001B[1;32m      5\u001B[0m \u001B[38;5;66;03m# This might take some moment before finishing\u001B[39;00m\n\u001B[1;32m      6\u001B[0m recommender \u001B[38;5;241m=\u001B[39m recommender_builder\u001B[38;5;241m.\u001B[39mbuild(\n\u001B[0;32m----> 7\u001B[0m     data\u001B[38;5;241m=\u001B[39m\u001B[43mindexed_data\u001B[49m, item_database\u001B[38;5;241m=\u001B[39mitem_database, include_features\u001B[38;5;241m=\u001B[39m\u001B[38;5;28;01mTrue\u001B[39;00m\n\u001B[1;32m      8\u001B[0m )\n",
      "\u001B[0;31mNameError\u001B[0m: name 'indexed_data' is not defined"
     ]
    }
   ],
   "execution_count": 9
  },
  {
   "metadata": {
    "ExecuteTime": {
     "end_time": "2025-01-09T00:52:46.221948Z",
     "start_time": "2025-01-09T00:52:46.219008Z"
    }
   },
   "cell_type": "code",
   "source": "",
   "id": "1c89e59926eb8c2c",
   "outputs": [],
   "execution_count": null
  },
  {
   "metadata": {
    "ExecuteTime": {
     "end_time": "2025-01-09T00:52:46.281624Z",
     "start_time": "2025-01-09T00:52:46.276632Z"
    }
   },
   "cell_type": "code",
   "source": "# plot_als_train_test_rmse_evolution(als_backend.algorithm)",
   "id": "5f7242dc80a5315d",
   "outputs": [],
   "execution_count": 10
  },
  {
   "metadata": {
    "ExecuteTime": {
     "end_time": "2025-01-09T00:52:46.331360Z",
     "start_time": "2025-01-09T00:52:46.327200Z"
    }
   },
   "cell_type": "code",
   "source": "# plot_als_train_test_loss_evolution(als_backend.algorithm)",
   "id": "fb7e870ef3561ce8",
   "outputs": [],
   "execution_count": 11
  },
  {
   "metadata": {
    "ExecuteTime": {
     "end_time": "2025-01-09T00:52:46.398028Z",
     "start_time": "2025-01-09T00:52:46.378091Z"
    }
   },
   "cell_type": "code",
   "source": [
    "#\n",
    "prediction_input = [(\"17\", 4)]\n",
    "recommender.recommend(prediction_input)"
   ],
   "id": "cef422cfbcaa8b63",
   "outputs": [
    {
     "name": "stdout",
     "output_type": "stream",
     "text": [
      "Hé predictio iter\n",
      "Hé predictio iter\n",
      "Hé predictio iter\n",
      "Hé predictio iter\n"
     ]
    },
    {
     "data": {
      "text/plain": [
       "[{'title': 'Aziz Ansari: Live at Madison Square Garden (2015)',\n",
       "  'genres': ['Comedy'],\n",
       "  'feature_vector': array([0, 0, 0, 0, 1, 0, 0, 0, 0, 0, 0, 0, 0, 0, 0, 0, 0, 0, 0])},\n",
       " {'title': 'Zeitgeist: Moving Forward (2011)',\n",
       "  'genres': ['Documentary'],\n",
       "  'feature_vector': array([0, 0, 0, 0, 0, 0, 1, 0, 0, 0, 0, 0, 0, 0, 0, 0, 0, 0, 0])},\n",
       " {'title': 'Legend, The (Legend of Fong Sai-Yuk, The) (Fong Sai Yuk) (1993)',\n",
       "  'genres': ['Action', 'Comedy'],\n",
       "  'feature_vector': array([1, 0, 0, 0, 1, 0, 0, 0, 0, 0, 0, 0, 0, 0, 0, 0, 0, 0, 0])},\n",
       " {'title': 'Woman of the Year (1942)',\n",
       "  'genres': ['Comedy', 'Romance'],\n",
       "  'feature_vector': array([0, 0, 0, 0, 1, 0, 0, 0, 0, 0, 0, 0, 0, 0, 1, 0, 0, 0, 0])},\n",
       " {'title': 'Zeitgeist: The Movie (2007)',\n",
       "  'genres': ['Documentary', 'War'],\n",
       "  'feature_vector': array([0, 0, 0, 0, 0, 0, 1, 0, 0, 0, 0, 0, 0, 0, 0, 0, 0, 1, 0])},\n",
       " {'title': 'Limbo (1999)',\n",
       "  'genres': ['Drama'],\n",
       "  'feature_vector': array([0, 0, 0, 0, 0, 0, 0, 1, 0, 0, 0, 0, 0, 0, 0, 0, 0, 0, 0])},\n",
       " {'title': 'The Yakuza Papers, Vol. 4: Police Tactics (1974)',\n",
       "  'genres': ['Crime', 'Drama'],\n",
       "  'feature_vector': array([0, 0, 0, 0, 0, 1, 0, 1, 0, 0, 0, 0, 0, 0, 0, 0, 0, 0, 0])},\n",
       " {'title': 'The Last House on the Beach (1978)',\n",
       "  'genres': ['Crime', 'Drama', 'Horror', 'Thriller'],\n",
       "  'feature_vector': array([0, 0, 0, 0, 0, 1, 0, 1, 0, 0, 1, 0, 0, 0, 0, 0, 1, 0, 0])},\n",
       " {'title': 'Cosmos: A Spacetime Odissey',\n",
       "  'genres': ['(no genres listed)'],\n",
       "  'feature_vector': array([0, 0, 0, 0, 0, 0, 0, 0, 0, 0, 0, 0, 0, 0, 0, 0, 0, 0, 0])},\n",
       " {'title': 'Zeitgeist: Addendum (2008)',\n",
       "  'genres': ['Documentary'],\n",
       "  'feature_vector': array([0, 0, 0, 0, 0, 0, 1, 0, 0, 0, 0, 0, 0, 0, 0, 0, 0, 0, 0])}]"
      ]
     },
     "execution_count": 12,
     "metadata": {},
     "output_type": "execute_result"
    }
   ],
   "execution_count": 12
  },
  {
   "metadata": {
    "ExecuteTime": {
     "end_time": "2025-01-09T00:52:46.449747Z",
     "start_time": "2025-01-09T00:52:46.435777Z"
    }
   },
   "cell_type": "code",
   "source": [
    "prediction_input = [(\"267654\", 4)]  # Harry Poter\n",
    "recommender.recommend(prediction_input)"
   ],
   "id": "89c74969cec15464",
   "outputs": [
    {
     "name": "stdout",
     "output_type": "stream",
     "text": [
      "Hé predictio iter\n",
      "Hé predictio iter\n",
      "Hé predictio iter\n",
      "Hé predictio iter\n"
     ]
    },
    {
     "data": {
      "text/plain": [
       "[{'title': 'Aziz Ansari: Live at Madison Square Garden (2015)',\n",
       "  'genres': ['Comedy'],\n",
       "  'feature_vector': array([0, 0, 0, 0, 1, 0, 0, 0, 0, 0, 0, 0, 0, 0, 0, 0, 0, 0, 0])},\n",
       " {'title': 'The Yakuza Papers, Vol. 4: Police Tactics (1974)',\n",
       "  'genres': ['Crime', 'Drama'],\n",
       "  'feature_vector': array([0, 0, 0, 0, 0, 1, 0, 1, 0, 0, 0, 0, 0, 0, 0, 0, 0, 0, 0])},\n",
       " {'title': 'The Last House on the Beach (1978)',\n",
       "  'genres': ['Crime', 'Drama', 'Horror', 'Thriller'],\n",
       "  'feature_vector': array([0, 0, 0, 0, 0, 1, 0, 1, 0, 0, 1, 0, 0, 0, 0, 0, 1, 0, 0])},\n",
       " {'title': 'Evilenko (2004)',\n",
       "  'genres': ['Crime', 'Horror', 'Thriller'],\n",
       "  'feature_vector': array([0, 0, 0, 0, 0, 1, 0, 0, 0, 0, 1, 0, 0, 0, 0, 0, 1, 0, 0])},\n",
       " {'title': 'Afflicted, The (2010)',\n",
       "  'genres': ['Horror', 'Thriller'],\n",
       "  'feature_vector': array([0, 0, 0, 0, 0, 0, 0, 0, 0, 0, 1, 0, 0, 0, 0, 0, 1, 0, 0])},\n",
       " {'title': 'Paradise (1982)',\n",
       "  'genres': ['Adventure', 'Romance'],\n",
       "  'feature_vector': array([0, 1, 0, 0, 0, 0, 0, 0, 0, 0, 0, 0, 0, 0, 1, 0, 0, 0, 0])},\n",
       " {'title': 'Great Ecstasy of Woodcarver Steiner, The (Große Ekstase des Bildschnitzers Steiner, Die) (1974)',\n",
       "  'genres': ['Documentary'],\n",
       "  'feature_vector': array([0, 0, 0, 0, 0, 0, 1, 0, 0, 0, 0, 0, 0, 0, 0, 0, 0, 0, 0])},\n",
       " {'title': 'Facing the Giants (2006)',\n",
       "  'genres': ['Action', 'Drama'],\n",
       "  'feature_vector': array([1, 0, 0, 0, 0, 0, 0, 1, 0, 0, 0, 0, 0, 0, 0, 0, 0, 0, 0])},\n",
       " {'title': 'Geek Charming (2011)',\n",
       "  'genres': ['Comedy'],\n",
       "  'feature_vector': array([0, 0, 0, 0, 1, 0, 0, 0, 0, 0, 0, 0, 0, 0, 0, 0, 0, 0, 0])},\n",
       " {'title': 'In Old California (1942)',\n",
       "  'genres': ['Western'],\n",
       "  'feature_vector': array([0, 0, 0, 0, 0, 0, 0, 0, 0, 0, 0, 0, 0, 0, 0, 0, 0, 0, 1])}]"
      ]
     },
     "execution_count": 13,
     "metadata": {},
     "output_type": "execute_result"
    }
   ],
   "execution_count": 13
  },
  {
   "metadata": {
    "ExecuteTime": {
     "end_time": "2025-01-09T00:52:56.141185Z",
     "start_time": "2025-01-09T00:52:46.495562Z"
    }
   },
   "cell_type": "code",
   "source": [
    "#\n",
    "recommender.recommend()"
   ],
   "id": "1678940bb14ffeb2",
   "outputs": [
    {
     "data": {
      "text/plain": [
       "[{'title': 'Aziz Ansari: Live at Madison Square Garden (2015)',\n",
       "  'genres': ['Comedy'],\n",
       "  'feature_vector': array([0, 0, 0, 0, 1, 0, 0, 0, 0, 0, 0, 0, 0, 0, 0, 0, 0, 0, 0])},\n",
       " {'title': 'Facing the Giants (2006)',\n",
       "  'genres': ['Action', 'Drama'],\n",
       "  'feature_vector': array([1, 0, 0, 0, 0, 0, 0, 1, 0, 0, 0, 0, 0, 0, 0, 0, 0, 0, 0])},\n",
       " {'title': 'The Last House on the Beach (1978)',\n",
       "  'genres': ['Crime', 'Drama', 'Horror', 'Thriller'],\n",
       "  'feature_vector': array([0, 0, 0, 0, 0, 1, 0, 1, 0, 0, 1, 0, 0, 0, 0, 0, 1, 0, 0])},\n",
       " {'title': 'The Yakuza Papers, Vol. 4: Police Tactics (1974)',\n",
       "  'genres': ['Crime', 'Drama'],\n",
       "  'feature_vector': array([0, 0, 0, 0, 0, 1, 0, 1, 0, 0, 0, 0, 0, 0, 0, 0, 0, 0, 0])},\n",
       " {'title': 'Evilenko (2004)',\n",
       "  'genres': ['Crime', 'Horror', 'Thriller'],\n",
       "  'feature_vector': array([0, 0, 0, 0, 0, 1, 0, 0, 0, 0, 1, 0, 0, 0, 0, 0, 1, 0, 0])},\n",
       " {'title': 'Afflicted, The (2010)',\n",
       "  'genres': ['Horror', 'Thriller'],\n",
       "  'feature_vector': array([0, 0, 0, 0, 0, 0, 0, 0, 0, 0, 1, 0, 0, 0, 0, 0, 1, 0, 0])},\n",
       " {'title': 'Paradise (1982)',\n",
       "  'genres': ['Adventure', 'Romance'],\n",
       "  'feature_vector': array([0, 1, 0, 0, 0, 0, 0, 0, 0, 0, 0, 0, 0, 0, 1, 0, 0, 0, 0])},\n",
       " {'title': 'Geek Charming (2011)',\n",
       "  'genres': ['Comedy'],\n",
       "  'feature_vector': array([0, 0, 0, 0, 1, 0, 0, 0, 0, 0, 0, 0, 0, 0, 0, 0, 0, 0, 0])},\n",
       " {'title': 'Great Ecstasy of Woodcarver Steiner, The (Große Ekstase des Bildschnitzers Steiner, Die) (1974)',\n",
       "  'genres': ['Documentary'],\n",
       "  'feature_vector': array([0, 0, 0, 0, 0, 0, 1, 0, 0, 0, 0, 0, 0, 0, 0, 0, 0, 0, 0])},\n",
       " {'title': 'In Their Skin (2012)',\n",
       "  'genres': ['Horror', 'Thriller'],\n",
       "  'feature_vector': array([0, 0, 0, 0, 0, 0, 0, 0, 0, 0, 1, 0, 0, 0, 0, 0, 1, 0, 0])}]"
      ]
     },
     "execution_count": 14,
     "metadata": {},
     "output_type": "execute_result"
    }
   ],
   "execution_count": 14
  },
  {
   "metadata": {
    "ExecuteTime": {
     "end_time": "2025-01-09T00:52:56.195804Z",
     "start_time": "2025-01-09T00:52:56.193025Z"
    }
   },
   "cell_type": "code",
   "source": "",
   "id": "298347782d68fe2f",
   "outputs": [],
   "execution_count": null
  }
 ],
 "metadata": {
  "kernelspec": {
   "display_name": "recommender-system-uSlwvUxw-py3.10",
   "language": "python",
   "name": "python3"
  },
  "language_info": {
   "codemirror_mode": {
    "name": "ipython",
    "version": 3
   },
   "file_extension": ".py",
   "mimetype": "text/x-python",
   "name": "python",
   "nbconvert_exporter": "python",
   "pygments_lexer": "ipython3",
   "version": "3.10.12"
  }
 },
 "nbformat": 4,
 "nbformat_minor": 5
}
