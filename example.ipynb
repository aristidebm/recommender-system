{
 "cells": [
  {
   "cell_type": "code",
   "id": "initial_id",
   "metadata": {
    "collapsed": true,
    "ExecuteTime": {
     "end_time": "2024-12-30T22:03:58.176711Z",
     "start_time": "2024-12-30T22:03:58.022936Z"
    }
   },
   "source": [
    "from src.algorithms.alternating_least_squares import AlternatingLeastSquares\n",
    "from src.helpers.dataset_indexer import DatasetIndexer\n",
    "from src.helpers.checkpoint_manager import CheckpointManager\n",
    "from src.recommenders import CollaborativeFilteringRecommenderBuilder\n",
    "from src.backends import Backend\n",
    "\n",
    "from src.settings import settings"
   ],
   "outputs": [],
   "execution_count": 1
  },
  {
   "cell_type": "code",
   "id": "f514cb70517008ef",
   "metadata": {
    "ExecuteTime": {
     "end_time": "2024-12-30T22:03:58.297935Z",
     "start_time": "2024-12-30T22:03:58.188650Z"
    }
   },
   "source": [
    "dataset_indexer = DatasetIndexer(\n",
    "    file_path=\"./ml-32m/ratings.csv\",\n",
    "    user_header=\"userId\",\n",
    "    item_header=\"movieId\",\n",
    "    rating_header=\"rating\",\n",
    "    limit=10_000,\n",
    ")\n",
    "\n",
    "indexed_data = dataset_indexer.index(approximate_train_ratio=0.8)"
   ],
   "outputs": [
    {
     "name": "stderr",
     "output_type": "stream",
     "text": [
      "The current implementation does not split the data into train and test sets exactly with the provided ratio. We use the provided ratio as a probability for a Bernoulli distribution to know whether the data point should be used as a training data or a test data.\n",
      "The limit of lines (.i.e 10000) to index has been reached. Exiting without loading the rest... \n"
     ]
    }
   ],
   "execution_count": 2
  },
  {
   "cell_type": "code",
   "id": "db7f06b057e86e5c",
   "metadata": {
    "ExecuteTime": {
     "end_time": "2024-12-30T22:03:58.447308Z",
     "start_time": "2024-12-30T22:03:58.442326Z"
    }
   },
   "source": [
    "als_instance = AlternatingLeastSquares(\n",
    "    hyper_lambda=settings.als.HYPER_LAMBDA,\n",
    "    hyper_gamma=settings.als.HYPER_GAMMA,\n",
    "    hyper_tau=settings.als.HYPER_TAU,\n",
    "    hyper_n_epochs=settings.als.HYPER_N_EPOCH,\n",
    "    hyper_n_factors=settings.als.HYPER_N_FACTOR,\n",
    ")\n",
    "\n",
    "als_backend = Backend(\n",
    "    # Define the algorithm\n",
    "    algorithm=als_instance,\n",
    "    checkpoint_manager=CheckpointManager(\n",
    "        checkpoint_folder=settings.als.CHECKPOINT_FOLDER,\n",
    "    ),\n",
    "    resume_enabled=True,\n",
    ")"
   ],
   "outputs": [],
   "execution_count": 3
  },
  {
   "metadata": {
    "ExecuteTime": {
     "end_time": "2024-12-30T22:03:59.886865Z",
     "start_time": "2024-12-30T22:03:58.509721Z"
    }
   },
   "cell_type": "code",
   "source": [
    "recommender_builder = CollaborativeFilteringRecommenderBuilder(\n",
    "    backend=als_backend,\n",
    ")\n",
    "\n",
    "# This might take some moment before finishing\n",
    "recommender = recommender_builder.build(data=indexed_data)\n"
   ],
   "id": "a6088fcc1307ccc4",
   "outputs": [
    {
     "name": "stderr",
     "output_type": "stream",
     "text": [
      "Epochs: 100%|██████████| 4/4 [00:01<00:00,  2.95epoch/s]\n"
     ]
    }
   ],
   "execution_count": 4
  },
  {
   "metadata": {
    "ExecuteTime": {
     "end_time": "2024-12-30T22:04:00.173750Z",
     "start_time": "2024-12-30T22:03:59.910856Z"
    }
   },
   "cell_type": "code",
   "source": [
    "prediction_input = [{\"rating\": 4}, \"movieId: 1\", \"userId: 1\"]\n",
    "recommender.recommend(prediction_input)\n"
   ],
   "id": "cef422cfbcaa8b63",
   "outputs": [
    {
     "ename": "IndexError",
     "evalue": "only integers, slices (`:`), ellipsis (`...`), numpy.newaxis (`None`) and integer or boolean arrays are valid indices",
     "output_type": "error",
     "traceback": [
      "\u001B[0;31m---------------------------------------------------------------------------\u001B[0m",
      "\u001B[0;31mIndexError\u001B[0m                                Traceback (most recent call last)",
      "Cell \u001B[0;32mIn[5], line 2\u001B[0m\n\u001B[1;32m      1\u001B[0m prediction_input \u001B[38;5;241m=\u001B[39m [{\u001B[38;5;124m\"\u001B[39m\u001B[38;5;124mrating\u001B[39m\u001B[38;5;124m\"\u001B[39m: \u001B[38;5;241m4\u001B[39m}, \u001B[38;5;124m\"\u001B[39m\u001B[38;5;124mmovieId: 1\u001B[39m\u001B[38;5;124m\"\u001B[39m, \u001B[38;5;124m\"\u001B[39m\u001B[38;5;124muserId: 1\u001B[39m\u001B[38;5;124m\"\u001B[39m]\n\u001B[0;32m----> 2\u001B[0m \u001B[43mrecommender\u001B[49m\u001B[38;5;241;43m.\u001B[39;49m\u001B[43mrecommend\u001B[49m\u001B[43m(\u001B[49m\u001B[43mprediction_input\u001B[49m\u001B[43m)\u001B[49m\n",
      "File \u001B[0;32m~/AI4Science/ml_at_scale/src/recommenders/__init__.py:15\u001B[0m, in \u001B[0;36mRecommender.recommend\u001B[0;34m(self, input)\u001B[0m\n\u001B[1;32m     14\u001B[0m \u001B[38;5;28;01mdef\u001B[39;00m \u001B[38;5;21mrecommend\u001B[39m(\u001B[38;5;28mself\u001B[39m, \u001B[38;5;28minput\u001B[39m):  \u001B[38;5;66;03m# noqa\u001B[39;00m\n\u001B[0;32m---> 15\u001B[0m     predictions \u001B[38;5;241m=\u001B[39m \u001B[38;5;28;43mself\u001B[39;49m\u001B[38;5;241;43m.\u001B[39;49m\u001B[43mpredictor\u001B[49m\u001B[38;5;241;43m.\u001B[39;49m\u001B[43mpredict\u001B[49m\u001B[43m(\u001B[49m\u001B[38;5;28;43minput\u001B[39;49m\u001B[43m)\u001B[49m\n\u001B[1;32m     16\u001B[0m     \u001B[38;5;28mself\u001B[39m\u001B[38;5;241m.\u001B[39mpredictor\u001B[38;5;241m.\u001B[39mrender(predictions)\n\u001B[1;32m     17\u001B[0m     \u001B[38;5;28mprint\u001B[39m(\u001B[38;5;124m\"\u001B[39m\u001B[38;5;124mRecommending\u001B[39m\u001B[38;5;124m\"\u001B[39m, \u001B[38;5;28mself\u001B[39m\u001B[38;5;241m.\u001B[39mpredictor\u001B[38;5;241m.\u001B[39mrender(predictions))\n",
      "File \u001B[0;32m~/AI4Science/ml_at_scale/src/helpers/predictor.py:8\u001B[0m, in \u001B[0;36mPredictor.predict\u001B[0;34m(self, data)\u001B[0m\n\u001B[1;32m      7\u001B[0m \u001B[38;5;28;01mdef\u001B[39;00m \u001B[38;5;21mpredict\u001B[39m(\u001B[38;5;28mself\u001B[39m, data):\n\u001B[0;32m----> 8\u001B[0m     \u001B[38;5;28;01mreturn\u001B[39;00m \u001B[38;5;28;43mself\u001B[39;49m\u001B[38;5;241;43m.\u001B[39;49m\u001B[43m_predict\u001B[49m\u001B[43m(\u001B[49m\u001B[43mdata\u001B[49m\u001B[43m)\u001B[49m\n",
      "File \u001B[0;32m~/AI4Science/ml_at_scale/src/algorithms/alternating_least_squares.py:61\u001B[0m, in \u001B[0;36mAlternatingLeastSquaresState.to_predictor.<locals>.predict\u001B[0;34m(user_ratings_data)\u001B[0m\n\u001B[1;32m     50\u001B[0m \u001B[38;5;28;01mdef\u001B[39;00m \u001B[38;5;21mpredict\u001B[39m(user_ratings_data: \u001B[38;5;28mlist\u001B[39m):\n\u001B[1;32m     51\u001B[0m \u001B[38;5;250m    \u001B[39m\u001B[38;5;124;03m\"\"\"\u001B[39;00m\n\u001B[1;32m     52\u001B[0m \u001B[38;5;124;03m    Predict ratings for a user based on user and item factors and biases.\u001B[39;00m\n\u001B[1;32m     53\u001B[0m \n\u001B[0;32m   (...)\u001B[0m\n\u001B[1;32m     58\u001B[0m \u001B[38;5;124;03m        np.ndarray: Predicted ratings for all items.\u001B[39;00m\n\u001B[1;32m     59\u001B[0m \u001B[38;5;124;03m    \"\"\"\u001B[39;00m\n\u001B[0;32m---> 61\u001B[0m     user_factor, user_bias \u001B[38;5;241m=\u001B[39m \u001B[43m_als\u001B[49m\u001B[38;5;241;43m.\u001B[39;49m\u001B[43mlearn_user_bias_and_factor\u001B[49m\u001B[43m(\u001B[49m\u001B[43muser_ratings_data\u001B[49m\u001B[43m)\u001B[49m\n\u001B[1;32m     63\u001B[0m     \u001B[38;5;66;03m# The order of the vectors in the matrix product matters\u001B[39;00m\n\u001B[1;32m     64\u001B[0m     \u001B[38;5;66;03m# as they have the following shape respectively:\u001B[39;00m\n\u001B[1;32m     65\u001B[0m     \u001B[38;5;66;03m# (`items_count`, hyper_n_factors) and (hyper_n_factors, 1)\u001B[39;00m\n\u001B[1;32m     66\u001B[0m     \u001B[38;5;66;03m# Broadcasting is used for the biases additions.\u001B[39;00m\n\u001B[1;32m     67\u001B[0m     \u001B[38;5;28;01mreturn\u001B[39;00m np\u001B[38;5;241m.\u001B[39mdot(_als\u001B[38;5;241m.\u001B[39mitem_factors, user_factor) \u001B[38;5;241m+\u001B[39m user_bias \u001B[38;5;241m+\u001B[39m _als\u001B[38;5;241m.\u001B[39mitem_biases\n",
      "File \u001B[0;32m~/AI4Science/ml_at_scale/src/algorithms/alternating_least_squares.py:342\u001B[0m, in \u001B[0;36mAlternatingLeastSquares.learn_user_bias_and_factor\u001B[0;34m(self, user_id, user_ratings_data)\u001B[0m\n\u001B[1;32m    334\u001B[0m \u001B[38;5;28;01mdef\u001B[39;00m \u001B[38;5;21mlearn_user_bias_and_factor\u001B[39m(\n\u001B[1;32m    335\u001B[0m     \u001B[38;5;28mself\u001B[39m, user_id: Optional[\u001B[38;5;28mint\u001B[39m] \u001B[38;5;241m=\u001B[39m \u001B[38;5;28;01mNone\u001B[39;00m, user_ratings_data: Optional[\u001B[38;5;28mlist\u001B[39m] \u001B[38;5;241m=\u001B[39m \u001B[38;5;28;01mNone\u001B[39;00m\n\u001B[1;32m    336\u001B[0m ):\n\u001B[1;32m    337\u001B[0m \u001B[38;5;250m    \u001B[39m\u001B[38;5;124;03m\"\"\"\u001B[39;00m\n\u001B[1;32m    338\u001B[0m \u001B[38;5;124;03m    Learn or compute the given user_id related bias and factor based on the\u001B[39;00m\n\u001B[1;32m    339\u001B[0m \u001B[38;5;124;03m    provided ratings data and the actual state of the item biases and factors.\u001B[39;00m\n\u001B[1;32m    340\u001B[0m \u001B[38;5;124;03m    \"\"\"\u001B[39;00m\n\u001B[0;32m--> 342\u001B[0m     \u001B[38;5;28;01mreturn\u001B[39;00m \u001B[38;5;28;43mself\u001B[39;49m\u001B[38;5;241;43m.\u001B[39;49m\u001B[43m_learn_bias_and_factor\u001B[49m\u001B[43m(\u001B[49m\n\u001B[1;32m    343\u001B[0m \u001B[43m        \u001B[49m\u001B[43mtarget\u001B[49m\u001B[38;5;241;43m=\u001B[39;49m\u001B[43mLearningTargetEnum\u001B[49m\u001B[38;5;241;43m.\u001B[39;49m\u001B[43mUSER\u001B[49m\u001B[43m,\u001B[49m\n\u001B[1;32m    344\u001B[0m \u001B[43m        \u001B[49m\u001B[43mtarget_id\u001B[49m\u001B[38;5;241;43m=\u001B[39;49m\u001B[43muser_id\u001B[49m\u001B[43m,\u001B[49m\n\u001B[1;32m    345\u001B[0m \u001B[43m        \u001B[49m\u001B[43mratings_data\u001B[49m\u001B[38;5;241;43m=\u001B[39;49m\u001B[43muser_ratings_data\u001B[49m\u001B[43m,\u001B[49m\n\u001B[1;32m    346\u001B[0m \u001B[43m    \u001B[49m\u001B[43m)\u001B[49m\n",
      "File \u001B[0;32m~/AI4Science/ml_at_scale/src/algorithms/alternating_least_squares.py:284\u001B[0m, in \u001B[0;36mAlternatingLeastSquares._learn_bias_and_factor\u001B[0;34m(self, target, target_id, ratings_data)\u001B[0m\n\u001B[1;32m    281\u001B[0m bias \u001B[38;5;241m=\u001B[39m \u001B[38;5;241m0\u001B[39m\n\u001B[1;32m    282\u001B[0m \u001B[38;5;66;03m# The old factor that we want to use in other to learn a new one\u001B[39;00m\n\u001B[1;32m    283\u001B[0m factor \u001B[38;5;241m=\u001B[39m (\n\u001B[0;32m--> 284\u001B[0m     \u001B[43mtarget_factors\u001B[49m\u001B[43m[\u001B[49m\u001B[43mtarget_id\u001B[49m\u001B[43m]\u001B[49m\n\u001B[1;32m    285\u001B[0m     \u001B[38;5;28;01mif\u001B[39;00m target_id\n\u001B[1;32m    286\u001B[0m     \u001B[38;5;28;01melse\u001B[39;00m \u001B[38;5;28mself\u001B[39m\u001B[38;5;241m.\u001B[39m_get_factor_sample(size\u001B[38;5;241m=\u001B[39m\u001B[38;5;28mself\u001B[39m\u001B[38;5;241m.\u001B[39mhyper_n_factors)\n\u001B[1;32m    287\u001B[0m )\n\u001B[1;32m    288\u001B[0m ratings_count \u001B[38;5;241m=\u001B[39m \u001B[38;5;241m0\u001B[39m\n\u001B[1;32m    289\u001B[0m _A \u001B[38;5;241m=\u001B[39m np\u001B[38;5;241m.\u001B[39mzeros((\u001B[38;5;28mself\u001B[39m\u001B[38;5;241m.\u001B[39mhyper_n_factors, \u001B[38;5;28mself\u001B[39m\u001B[38;5;241m.\u001B[39mhyper_n_factors))\n",
      "\u001B[0;31mIndexError\u001B[0m: only integers, slices (`:`), ellipsis (`...`), numpy.newaxis (`None`) and integer or boolean arrays are valid indices"
     ]
    }
   ],
   "execution_count": 5
  },
  {
   "metadata": {
    "ExecuteTime": {
     "end_time": "2024-12-30T22:04:00.257766143Z",
     "start_time": "2024-12-30T21:16:43.439977Z"
    }
   },
   "cell_type": "code",
   "source": "",
   "id": "298347782d68fe2f",
   "outputs": [],
   "execution_count": null
  }
 ],
 "metadata": {
  "kernelspec": {
   "display_name": "recommender-system-uSlwvUxw-py3.10",
   "language": "python",
   "name": "python3"
  },
  "language_info": {
   "codemirror_mode": {
    "name": "ipython",
    "version": 3
   },
   "file_extension": ".py",
   "mimetype": "text/x-python",
   "name": "python",
   "nbconvert_exporter": "python",
   "pygments_lexer": "ipython3",
   "version": "3.10.12"
  }
 },
 "nbformat": 4,
 "nbformat_minor": 5
}
