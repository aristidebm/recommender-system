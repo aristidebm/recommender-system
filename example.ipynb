{
 "cells": [
  {
   "cell_type": "code",
   "id": "initial_id",
   "metadata": {
    "collapsed": true,
    "ExecuteTime": {
     "end_time": "2025-01-04T22:37:39.987418Z",
     "start_time": "2025-01-04T22:37:39.567941Z"
    }
   },
   "source": [
    "from src.algorithms.alternating_least_squares import AlternatingLeastSquares\n",
    "from src.helpers.dataset_indexer import DatasetIndexer\n",
    "from src.helpers.checkpoint_manager import CheckpointManager\n",
    "from src.recommenders import CollaborativeFilteringRecommenderBuilder\n",
    "from src.backends import Backend\n",
    "from src.helpers._logging import logger  # noqa\n",
    "from src.settings import settings"
   ],
   "outputs": [],
   "execution_count": 1
  },
  {
   "cell_type": "code",
   "id": "f514cb70517008ef",
   "metadata": {
    "ExecuteTime": {
     "end_time": "2025-01-04T22:37:51.660992Z",
     "start_time": "2025-01-04T22:37:40.455525Z"
    }
   },
   "source": [
    "dataset_indexer = DatasetIndexer(\n",
    "    file_path=\"./ml-32m/ratings.csv\",\n",
    "    user_header=\"userId\",\n",
    "    item_header=\"movieId\",\n",
    "    rating_header=\"rating\",\n",
    "    limit=settings.general.LINES_COUNT_TO_READ,\n",
    ")\n",
    "\n",
    "indexed_data = dataset_indexer.index(\n",
    "    approximate_train_ratio=settings.general.APPROXIMATE_TRAIN_RATIO\n",
    ")"
   ],
   "outputs": [
    {
     "name": "stdout",
     "output_type": "stream",
     "text": [
      "2025-01-05 00:37:40,458 - WARNING - The current implementation does not split the data into train and test sets exactly with the provided ratio. We use the provided ratio as a probability for a Bernoulli distribution to know whether the data point should be used as a training data or a test data.\n",
      "2025-01-05 00:37:51,652 - WARNING - The limit of lines (.i.e 1000000) to index has been reached. Exiting without loading the rest... \n",
      "2025-01-05 00:37:51,656 - INFO - Successfully indexed 1000000 lines from ./ml-32m/ratings.csv\n"
     ]
    }
   ],
   "execution_count": 3
  },
  {
   "cell_type": "code",
   "id": "db7f06b057e86e5c",
   "metadata": {
    "ExecuteTime": {
     "end_time": "2025-01-04T22:37:51.720614Z",
     "start_time": "2025-01-04T22:37:51.696363Z"
    }
   },
   "source": [
    "als_instance = AlternatingLeastSquares(\n",
    "    hyper_lambda=settings.als.HYPER_LAMBDA,\n",
    "    hyper_gamma=settings.als.HYPER_GAMMA,\n",
    "    hyper_tau=settings.als.HYPER_TAU,\n",
    "    hyper_n_epochs=settings.als.HYPER_N_EPOCH,\n",
    "    hyper_n_factors=settings.als.HYPER_N_FACTOR,\n",
    ")\n",
    "\n",
    "als_backend = Backend(\n",
    "    # Define the algorithm\n",
    "    algorithm=als_instance,\n",
    "    checkpoint_manager=CheckpointManager(\n",
    "        checkpoint_folder=settings.als.CHECKPOINT_FOLDER,\n",
    "        sub_folder=str(settings.general.LINES_COUNT_TO_READ),\n",
    "    ),\n",
    "    # Whether we should resume by using the last state of\n",
    "    # the algorithm the checkpoint manager folder or not.\n",
    "    resume=True,\n",
    ")"
   ],
   "outputs": [],
   "execution_count": 4
  },
  {
   "metadata": {
    "ExecuteTime": {
     "end_time": "2025-01-04T22:40:03.494223Z",
     "start_time": "2025-01-04T22:37:51.838696Z"
    }
   },
   "cell_type": "code",
   "source": [
    "recommender_builder = CollaborativeFilteringRecommenderBuilder(\n",
    "    backend=als_backend,\n",
    ")\n",
    "\n",
    "# This might take some moment before finishing\n",
    "recommender = recommender_builder.build(data=indexed_data)"
   ],
   "id": "a6088fcc1307ccc4",
   "outputs": [
    {
     "name": "stdout",
     "output_type": "stream",
     "text": [
      "2025-01-05 00:37:51,840 - INFO - Starting the build of the recommender using AlternatingLeastSquares...\n",
      "2025-01-05 00:37:51,844 - INFO - Starting a model fitting using the backend AlternatingLeastSquares...\n",
      "2025-01-05 00:37:51,853 - INFO - Checkpoint ./artifacts/checkpoints/als/1000000/20250105-003032_lambda0.1_gamma0.01_tau1_n_epochs4_n_factors10.pkl loaded with success\n",
      "2025-01-05 00:37:51,856 - INFO - All factors and biases are already provided, so no initialization is needed.\n"
     ]
    },
    {
     "name": "stderr",
     "output_type": "stream",
     "text": [
      "Epochs:  25%|██▌       | 1/4 [00:38<01:54, 38.19s/epoch]"
     ]
    },
    {
     "name": "stdout",
     "output_type": "stream",
     "text": [
      "Epoch 1/4: Loss (Train/Test) = -25513.5652/-105038.5219, RMSE (Train/Test) = 0.7090/3.6938\n"
     ]
    },
    {
     "name": "stderr",
     "output_type": "stream",
     "text": [
      "Epochs:  50%|█████     | 2/4 [01:16<01:15, 37.98s/epoch]"
     ]
    },
    {
     "name": "stdout",
     "output_type": "stream",
     "text": [
      "Epoch 2/4: Loss (Train/Test) = -25379.1176/-105099.8658, RMSE (Train/Test) = 0.7055/3.6935\n"
     ]
    },
    {
     "name": "stderr",
     "output_type": "stream",
     "text": [
      "Epochs:  75%|███████▌  | 3/4 [01:46<00:34, 34.33s/epoch]"
     ]
    },
    {
     "name": "stdout",
     "output_type": "stream",
     "text": [
      "Epoch 3/4: Loss (Train/Test) = -25336.7063/-105064.5408, RMSE (Train/Test) = 0.7044/3.6924\n"
     ]
    },
    {
     "name": "stderr",
     "output_type": "stream",
     "text": [
      "Epochs: 100%|██████████| 4/4 [02:11<00:00, 32.90s/epoch]"
     ]
    },
    {
     "name": "stdout",
     "output_type": "stream",
     "text": [
      "Epoch 4/4: Loss (Train/Test) = -25319.1658/-104983.7697, RMSE (Train/Test) = 0.7040/3.6907\n",
      "2025-01-05 00:40:03,490 - INFO - Checkpoint successfully saved at 20250105-004003_lambda0.1_gamma0.01_tau1_n_epochs4_n_factors10\n",
      "2025-01-05 00:40:03,492 - INFO - Successfully built the recommender using AlternatingLeastSquares\n"
     ]
    },
    {
     "name": "stderr",
     "output_type": "stream",
     "text": [
      "\n"
     ]
    }
   ],
   "execution_count": 5
  },
  {
   "metadata": {
    "ExecuteTime": {
     "end_time": "2025-01-05T02:04:26.136280Z",
     "start_time": "2025-01-05T02:04:24.636334Z"
    }
   },
   "cell_type": "code",
   "source": [
    "prediction_input = [(\"17\", 4)]\n",
    "recommender.recommend(prediction_input)"
   ],
   "id": "cef422cfbcaa8b63",
   "outputs": [
    {
     "ename": "TypeError",
     "evalue": "tuple indices must be integers or slices, not str",
     "output_type": "error",
     "traceback": [
      "\u001B[0;31m---------------------------------------------------------------------------\u001B[0m",
      "\u001B[0;31mTypeError\u001B[0m                                 Traceback (most recent call last)",
      "Cell \u001B[0;32mIn[7], line 2\u001B[0m\n\u001B[1;32m      1\u001B[0m prediction_input \u001B[38;5;241m=\u001B[39m [(\u001B[38;5;124m\"\u001B[39m\u001B[38;5;124m17\u001B[39m\u001B[38;5;124m\"\u001B[39m, \u001B[38;5;241m4\u001B[39m)]\n\u001B[0;32m----> 2\u001B[0m \u001B[43mrecommender\u001B[49m\u001B[38;5;241;43m.\u001B[39;49m\u001B[43mrecommend\u001B[49m\u001B[43m(\u001B[49m\u001B[43mprediction_input\u001B[49m\u001B[43m)\u001B[49m\n",
      "File \u001B[0;32m~/AI4Science/ml_at_scale/src/recommenders/__init__.py:13\u001B[0m, in \u001B[0;36mRecommender.recommend\u001B[0;34m(self, input)\u001B[0m\n\u001B[1;32m     12\u001B[0m \u001B[38;5;28;01mdef\u001B[39;00m \u001B[38;5;21mrecommend\u001B[39m(\u001B[38;5;28mself\u001B[39m, \u001B[38;5;28minput\u001B[39m):  \u001B[38;5;66;03m# noqa\u001B[39;00m\n\u001B[0;32m---> 13\u001B[0m     predictions \u001B[38;5;241m=\u001B[39m \u001B[38;5;28;43mself\u001B[39;49m\u001B[38;5;241;43m.\u001B[39;49m\u001B[43mpredictor\u001B[49m\u001B[38;5;241;43m.\u001B[39;49m\u001B[43mpredict\u001B[49m\u001B[43m(\u001B[49m\u001B[38;5;28;43minput\u001B[39;49m\u001B[43m)\u001B[49m\n\u001B[1;32m     14\u001B[0m     \u001B[38;5;28mself\u001B[39m\u001B[38;5;241m.\u001B[39mpredictor\u001B[38;5;241m.\u001B[39mrender(predictions)\n\u001B[1;32m     15\u001B[0m     \u001B[38;5;28mprint\u001B[39m(\u001B[38;5;124m\"\u001B[39m\u001B[38;5;124mRecommending\u001B[39m\u001B[38;5;124m\"\u001B[39m, \u001B[38;5;28mself\u001B[39m\u001B[38;5;241m.\u001B[39mpredictor\u001B[38;5;241m.\u001B[39mrender(predictions))\n",
      "File \u001B[0;32m~/AI4Science/ml_at_scale/src/helpers/predictor.py:8\u001B[0m, in \u001B[0;36mPredictor.predict\u001B[0;34m(self, data)\u001B[0m\n\u001B[1;32m      7\u001B[0m \u001B[38;5;28;01mdef\u001B[39;00m \u001B[38;5;21mpredict\u001B[39m(\u001B[38;5;28mself\u001B[39m, data):\n\u001B[0;32m----> 8\u001B[0m     \u001B[38;5;28;01mreturn\u001B[39;00m \u001B[38;5;28;43mself\u001B[39;49m\u001B[38;5;241;43m.\u001B[39;49m\u001B[43m_predict\u001B[49m\u001B[43m(\u001B[49m\u001B[43mdata\u001B[49m\u001B[43m)\u001B[49m\n",
      "File \u001B[0;32m~/AI4Science/ml_at_scale/src/algorithms/alternating_least_squares.py:50\u001B[0m, in \u001B[0;36mAlternatingLeastSquaresState.to_predictor.<locals>.predict\u001B[0;34m(user_ratings_data)\u001B[0m\n\u001B[1;32m     38\u001B[0m \u001B[38;5;28;01mdef\u001B[39;00m \u001B[38;5;21mpredict\u001B[39m(user_ratings_data: \u001B[38;5;28mlist\u001B[39m):\n\u001B[1;32m     39\u001B[0m \u001B[38;5;250m    \u001B[39m\u001B[38;5;124;03m\"\"\"\u001B[39;00m\n\u001B[1;32m     40\u001B[0m \u001B[38;5;124;03m    Predict ratings for a user based on user and item factors and biases\u001B[39;00m\n\u001B[1;32m     41\u001B[0m \u001B[38;5;124;03m    and his historical ratings' data'.\u001B[39;00m\n\u001B[0;32m   (...)\u001B[0m\n\u001B[1;32m     47\u001B[0m \u001B[38;5;124;03m        np.ndarray: Predicted ratings for all items.\u001B[39;00m\n\u001B[1;32m     48\u001B[0m \u001B[38;5;124;03m    \"\"\"\u001B[39;00m\n\u001B[0;32m---> 50\u001B[0m     user_factor, user_bias \u001B[38;5;241m=\u001B[39m \u001B[43mals\u001B[49m\u001B[38;5;241;43m.\u001B[39;49m\u001B[43mlearn_user_bias_and_factor\u001B[49m\u001B[43m(\u001B[49m\n\u001B[1;32m     51\u001B[0m \u001B[43m        \u001B[49m\u001B[43muser_id\u001B[49m\u001B[38;5;241;43m=\u001B[39;49m\u001B[38;5;28;43;01mNone\u001B[39;49;00m\u001B[43m,\u001B[49m\u001B[43m \u001B[49m\u001B[43muser_ratings_data\u001B[49m\u001B[38;5;241;43m=\u001B[39;49m\u001B[43muser_ratings_data\u001B[49m\n\u001B[1;32m     52\u001B[0m \u001B[43m    \u001B[49m\u001B[43m)\u001B[49m\n\u001B[1;32m     54\u001B[0m     \u001B[38;5;66;03m# The order of the vectors in the matrix product matters as they have\u001B[39;00m\n\u001B[1;32m     55\u001B[0m     \u001B[38;5;66;03m# the following shape respectively: (`items_count`, hyper_n_factors)\u001B[39;00m\n\u001B[1;32m     56\u001B[0m     \u001B[38;5;66;03m# and (hyper_n_factors, 1). Broadcasting is used for the biases' additions\u001B[39;00m\n\u001B[1;32m     57\u001B[0m     \u001B[38;5;28;01mreturn\u001B[39;00m np\u001B[38;5;241m.\u001B[39mdot(als\u001B[38;5;241m.\u001B[39mitem_factors, user_factor) \u001B[38;5;241m+\u001B[39m user_bias \u001B[38;5;241m+\u001B[39m als\u001B[38;5;241m.\u001B[39mitem_biases\n",
      "File \u001B[0;32m~/AI4Science/ml_at_scale/src/algorithms/alternating_least_squares.py:448\u001B[0m, in \u001B[0;36mlearn_user_bias_and_factor\u001B[0;34m(self, user_id, user_ratings_data)\u001B[0m\n\u001B[1;32m    438\u001B[0m \u001B[38;5;28;01mdef\u001B[39;00m \u001B[38;5;21mlearn_user_bias_and_factor\u001B[39m(\n\u001B[1;32m    439\u001B[0m     \u001B[38;5;28mself\u001B[39m, user_id: Optional[\u001B[38;5;28mint\u001B[39m] \u001B[38;5;241m=\u001B[39m \u001B[38;5;28;01mNone\u001B[39;00m, user_ratings_data: Optional[\u001B[38;5;28mlist\u001B[39m] \u001B[38;5;241m=\u001B[39m \u001B[38;5;28;01mNone\u001B[39;00m\n\u001B[1;32m    440\u001B[0m ):\n\u001B[1;32m    441\u001B[0m \u001B[38;5;250m    \u001B[39m\u001B[38;5;124;03m\"\"\"\u001B[39;00m\n\u001B[1;32m    442\u001B[0m \u001B[38;5;124;03m    Learn or compute the given user_id related bias and factor based on the\u001B[39;00m\n\u001B[1;32m    443\u001B[0m \u001B[38;5;124;03m    provided ratings data and the actual state of the item biases and factors.\u001B[39;00m\n\u001B[1;32m    444\u001B[0m \u001B[38;5;124;03m    \"\"\"\u001B[39;00m\n\u001B[1;32m    446\u001B[0m     \u001B[38;5;28;01mreturn\u001B[39;00m \u001B[38;5;28mself\u001B[39m\u001B[38;5;241m.\u001B[39m_learn_bias_and_factor(\n\u001B[1;32m    447\u001B[0m         target\u001B[38;5;241m=\u001B[39mLearningTargetEnum\u001B[38;5;241m.\u001B[39mUSER,\n\u001B[0;32m--> 448\u001B[0m         target_id\u001B[38;5;241m=\u001B[39muser_id,\n\u001B[1;32m    449\u001B[0m         ratings_data\u001B[38;5;241m=\u001B[39muser_ratings_data,\n\u001B[1;32m    450\u001B[0m     )\n",
      "File \u001B[0;32m~/AI4Science/ml_at_scale/src/algorithms/alternating_least_squares.py:400\u001B[0m, in \u001B[0;36m_learn_bias_and_factor\u001B[0;34m(self, target, target_id, ratings_data)\u001B[0m\n\u001B[1;32m    394\u001B[0m _B \u001B[38;5;241m=\u001B[39m np\u001B[38;5;241m.\u001B[39mzeros(\u001B[38;5;28mself\u001B[39m\u001B[38;5;241m.\u001B[39mhyper_n_factors)\n\u001B[1;32m    396\u001B[0m \u001B[38;5;28;01mfor\u001B[39;00m data \u001B[38;5;129;01min\u001B[39;00m ratings_data:\n\u001B[1;32m    397\u001B[0m     other_target, rating \u001B[38;5;241m=\u001B[39m (\n\u001B[1;32m    398\u001B[0m         \u001B[38;5;66;03m# Access the other target\u001B[39;00m\n\u001B[1;32m    399\u001B[0m         data[\u001B[38;5;241m0\u001B[39m],\n\u001B[0;32m--> 400\u001B[0m         \u001B[38;5;66;03m# Access the rating\u001B[39;00m\n\u001B[1;32m    401\u001B[0m         data[\u001B[38;5;241m1\u001B[39m],\n\u001B[1;32m    402\u001B[0m     )\n\u001B[1;32m    403\u001B[0m     other_target_id \u001B[38;5;241m=\u001B[39m _get_other_target_id(other_target)\n\u001B[1;32m    405\u001B[0m     bias \u001B[38;5;241m+\u001B[39m\u001B[38;5;241m=\u001B[39m (\n\u001B[1;32m    406\u001B[0m         rating\n\u001B[1;32m    407\u001B[0m         \u001B[38;5;241m-\u001B[39m other_target_biases[other_target_id]\n\u001B[1;32m    408\u001B[0m         \u001B[38;5;241m-\u001B[39m np\u001B[38;5;241m.\u001B[39mdot(factor, other_target_factors[other_target_id])\n\u001B[1;32m    409\u001B[0m     )\n",
      "\u001B[0;31mTypeError\u001B[0m: tuple indices must be integers or slices, not str"
     ]
    }
   ],
   "execution_count": 7
  },
  {
   "metadata": {
    "ExecuteTime": {
     "end_time": "2025-01-04T22:40:03.608899Z",
     "start_time": "2025-01-04T22:40:03.600137Z"
    }
   },
   "cell_type": "code",
   "source": "",
   "id": "298347782d68fe2f",
   "outputs": [],
   "execution_count": null
  }
 ],
 "metadata": {
  "kernelspec": {
   "display_name": "recommender-system-uSlwvUxw-py3.10",
   "language": "python",
   "name": "python3"
  },
  "language_info": {
   "codemirror_mode": {
    "name": "ipython",
    "version": 3
   },
   "file_extension": ".py",
   "mimetype": "text/x-python",
   "name": "python",
   "nbconvert_exporter": "python",
   "pygments_lexer": "ipython3",
   "version": "3.10.12"
  }
 },
 "nbformat": 4,
 "nbformat_minor": 5
}
