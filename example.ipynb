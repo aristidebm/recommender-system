{
 "cells": [
  {
   "cell_type": "code",
   "id": "initial_id",
   "metadata": {
    "collapsed": true,
    "ExecuteTime": {
     "end_time": "2024-12-29T21:01:49.281275Z",
     "start_time": "2024-12-29T21:01:49.096826Z"
    }
   },
   "source": [
    "from src.algorithms.alternating_least_squares import AlternatingLeastSquares\n",
    "from src.helpers.dataset_indexer import DatasetIndexer\n",
    "from src.helpers.checkpoint_manager import CheckpointManager\n",
    "from src.recommenders import CollaborativeFilteringRecommenderBuilder\n",
    "from src.backends import Backend\n",
    "\n",
    "from src.settings import settings"
   ],
   "outputs": [],
   "execution_count": 1
  },
  {
   "cell_type": "code",
   "id": "f514cb70517008ef",
   "metadata": {
    "ExecuteTime": {
     "end_time": "2024-12-29T21:01:49.398052Z",
     "start_time": "2024-12-29T21:01:49.289911Z"
    }
   },
   "source": [
    "dataset_indexer = DatasetIndexer(\n",
    "    file_path=\"./ml-32m/ratings.csv\",\n",
    "    user_header=\"userId\",\n",
    "    item_header=\"movieId\",\n",
    "    rating_header=\"rating\",\n",
    "    limit=10000,\n",
    ")\n",
    "\n",
    "indexed_data = dataset_indexer.index(approximate_train_ratio=0.8)"
   ],
   "outputs": [
    {
     "name": "stderr",
     "output_type": "stream",
     "text": [
      "The current implementation does not split the data into train and test sets exactly with the provided ratio. We use the provided ratio as a probability for a Bernoulli distribution to know whether the data point should be used as a training data or a test data.\n",
      "Limit of lines (.i.e 10000) to index has been reached. Exiting without loading the rest... \n"
     ]
    }
   ],
   "execution_count": 2
  },
  {
   "cell_type": "code",
   "id": "db7f06b057e86e5c",
   "metadata": {
    "ExecuteTime": {
     "end_time": "2024-12-29T21:01:49.552808Z",
     "start_time": "2024-12-29T21:01:49.548623Z"
    }
   },
   "source": [
    "alternating_least_squares = AlternatingLeastSquares(\n",
    "    hyper_lambda=settings.als.HYPER_LAMBDA,\n",
    "    hyper_gamma=settings.als.HYPER_GAMMA,\n",
    "    hyper_tau=settings.als.HYPER_TAU,\n",
    "    hyper_n_epochs=settings.als.HYPER_N_EPOCH,\n",
    "    hyper_n_factors=settings.als.HYPER_N_FACTOR,\n",
    ")\n",
    "\n",
    "als_backend = Backend(\n",
    "    # Define the algorithm\n",
    "    algorithm=alternating_least_squares,\n",
    "    checkpoint_manager=CheckpointManager(\n",
    "        checkpoint_folder=settings.als.CHECKPOINT_FOLDER,\n",
    "    ),\n",
    ")"
   ],
   "outputs": [],
   "execution_count": 3
  },
  {
   "cell_type": "code",
   "id": "a6088fcc1307ccc4",
   "metadata": {
    "ExecuteTime": {
     "end_time": "2024-12-29T21:01:50.978100Z",
     "start_time": "2024-12-29T21:01:49.622093Z"
    }
   },
   "source": [
    "recommender_builder = CollaborativeFilteringRecommenderBuilder(\n",
    "    backend=als_backend,\n",
    ")\n",
    "\n",
    "recommender = recommender_builder.build(data=indexed_data)\n",
    "\n",
    "recommender.recommend(None)"
   ],
   "outputs": [
    {
     "name": "stdout",
     "output_type": "stream",
     "text": [
      "Prediction made\n",
      "Recommending None\n"
     ]
    }
   ],
   "execution_count": 4
  },
  {
   "cell_type": "code",
   "id": "298347782d68fe2f",
   "metadata": {
    "ExecuteTime": {
     "end_time": "2024-12-29T21:01:51.060300Z",
     "start_time": "2024-12-29T21:01:51.054593Z"
    }
   },
   "source": [],
   "outputs": [],
   "execution_count": null
  }
 ],
 "metadata": {
  "kernelspec": {
   "display_name": "recommender-system-uSlwvUxw-py3.10",
   "language": "python",
   "name": "python3"
  },
  "language_info": {
   "codemirror_mode": {
    "name": "ipython",
    "version": 3
   },
   "file_extension": ".py",
   "mimetype": "text/x-python",
   "name": "python",
   "nbconvert_exporter": "python",
   "pygments_lexer": "ipython3",
   "version": "3.10.12"
  }
 },
 "nbformat": 4,
 "nbformat_minor": 5
}
