{
 "cells": [
  {
   "cell_type": "code",
   "id": "initial_id",
   "metadata": {
    "collapsed": true,
    "ExecuteTime": {
     "end_time": "2025-01-05T02:11:02.426868Z",
     "start_time": "2025-01-05T02:11:02.246817Z"
    }
   },
   "source": [
    "from src.algorithms.alternating_least_squares import AlternatingLeastSquares\n",
    "from src.helpers.dataset_indexer import DatasetIndexer\n",
    "from src.helpers.checkpoint_manager import CheckpointManager\n",
    "from src.recommenders import CollaborativeFilteringRecommenderBuilder\n",
    "from src.backends import Backend\n",
    "from src.helpers._logging import logger  # noqa\n",
    "from src.settings import settings"
   ],
   "outputs": [],
   "execution_count": 1
  },
  {
   "cell_type": "code",
   "id": "f514cb70517008ef",
   "metadata": {
    "ExecuteTime": {
     "end_time": "2025-01-05T02:11:09.421460Z",
     "start_time": "2025-01-05T02:11:02.435737Z"
    }
   },
   "source": [
    "dataset_indexer = DatasetIndexer(\n",
    "    file_path=\"./ml-32m/ratings.csv\",\n",
    "    user_header=\"userId\",\n",
    "    item_header=\"movieId\",\n",
    "    rating_header=\"rating\",\n",
    "    limit=settings.general.LINES_COUNT_TO_READ,\n",
    ")\n",
    "\n",
    "indexed_data = dataset_indexer.index(\n",
    "    approximate_train_ratio=settings.general.APPROXIMATE_TRAIN_RATIO\n",
    ")"
   ],
   "outputs": [
    {
     "name": "stdout",
     "output_type": "stream",
     "text": [
      "2025-01-05 04:11:02,437 - WARNING - The current implementation does not split the data into train and test sets exactly with the provided ratio. We use the provided ratio as a probability for a Bernoulli distribution to know whether the data point should be used as a training data or a test data.\n",
      "2025-01-05 04:11:09,418 - WARNING - The limit of lines (.i.e 1000000) to index has been reached. Exiting without loading the rest... \n",
      "2025-01-05 04:11:09,419 - INFO - Successfully indexed 1000000 lines from ./ml-32m/ratings.csv\n"
     ]
    }
   ],
   "execution_count": 2
  },
  {
   "cell_type": "code",
   "id": "db7f06b057e86e5c",
   "metadata": {
    "ExecuteTime": {
     "end_time": "2025-01-05T02:11:09.668142Z",
     "start_time": "2025-01-05T02:11:09.663343Z"
    }
   },
   "source": [
    "als_instance = AlternatingLeastSquares(\n",
    "    hyper_lambda=settings.als.HYPER_LAMBDA,\n",
    "    hyper_gamma=settings.als.HYPER_GAMMA,\n",
    "    hyper_tau=settings.als.HYPER_TAU,\n",
    "    hyper_n_epochs=settings.als.HYPER_N_EPOCH,\n",
    "    hyper_n_factors=settings.als.HYPER_N_FACTOR,\n",
    ")\n",
    "\n",
    "als_backend = Backend(\n",
    "    # Define the algorithm\n",
    "    algorithm=als_instance,\n",
    "    checkpoint_manager=CheckpointManager(\n",
    "        checkpoint_folder=settings.als.CHECKPOINT_FOLDER,\n",
    "        sub_folder=str(settings.general.LINES_COUNT_TO_READ),\n",
    "    ),\n",
    "    # Whether we should resume by using the last state of\n",
    "    # the algorithm the checkpoint manager folder or not.\n",
    "    resume=True,\n",
    ")"
   ],
   "outputs": [],
   "execution_count": 3
  },
  {
   "metadata": {
    "ExecuteTime": {
     "end_time": "2025-01-05T02:12:11.283917Z",
     "start_time": "2025-01-05T02:11:09.687445Z"
    }
   },
   "cell_type": "code",
   "source": [
    "recommender_builder = CollaborativeFilteringRecommenderBuilder(\n",
    "    backend=als_backend,\n",
    ")\n",
    "\n",
    "# This might take some moment before finishing\n",
    "recommender = recommender_builder.build(data=indexed_data)"
   ],
   "id": "a6088fcc1307ccc4",
   "outputs": [
    {
     "name": "stdout",
     "output_type": "stream",
     "text": [
      "2025-01-05 04:11:09,689 - INFO - Starting the build of the recommender using AlternatingLeastSquares...\n",
      "2025-01-05 04:11:09,691 - INFO - Starting a model fitting using the backend AlternatingLeastSquares...\n",
      "2025-01-05 04:11:09,696 - INFO - Checkpoint ./artifacts/checkpoints/als/1000000/20250105-040230_lambda0.1_gamma0.01_tau1_n_epochs4_n_factors10.pkl loaded with success\n",
      "2025-01-05 04:11:09,697 - INFO - All factors and biases are already provided, so no initialization is needed.\n"
     ]
    },
    {
     "name": "stderr",
     "output_type": "stream",
     "text": [
      "Epochs:  25%|██▌       | 1/4 [00:16<00:49, 16.44s/epoch]"
     ]
    },
    {
     "name": "stdout",
     "output_type": "stream",
     "text": [
      "Epoch 1/4: Loss (Train/Test) = -25420.5533/-106068.9212, RMSE (Train/Test) = 0.7086/3.6755\n"
     ]
    },
    {
     "name": "stderr",
     "output_type": "stream",
     "text": [
      "Epochs:  50%|█████     | 2/4 [00:31<00:31, 15.69s/epoch]"
     ]
    },
    {
     "name": "stdout",
     "output_type": "stream",
     "text": [
      "Epoch 2/4: Loss (Train/Test) = -25317.7613/-106117.6600, RMSE (Train/Test) = 0.7059/3.6753\n"
     ]
    },
    {
     "name": "stderr",
     "output_type": "stream",
     "text": [
      "Epochs:  75%|███████▌  | 3/4 [00:46<00:15, 15.53s/epoch]"
     ]
    },
    {
     "name": "stdout",
     "output_type": "stream",
     "text": [
      "Epoch 3/4: Loss (Train/Test) = -25291.1418/-106067.9397, RMSE (Train/Test) = 0.7052/3.6741\n"
     ]
    },
    {
     "name": "stderr",
     "output_type": "stream",
     "text": [
      "Epochs: 100%|██████████| 4/4 [01:01<00:00, 15.39s/epoch]"
     ]
    },
    {
     "name": "stdout",
     "output_type": "stream",
     "text": [
      "Epoch 4/4: Loss (Train/Test) = -25280.0733/-105981.7293, RMSE (Train/Test) = 0.7048/3.6724\n",
      "2025-01-05 04:12:11,279 - INFO - Checkpoint successfully saved at 20250105-041211_lambda0.1_gamma0.01_tau1_n_epochs4_n_factors10\n",
      "2025-01-05 04:12:11,280 - INFO - Successfully built the recommender using AlternatingLeastSquares\n"
     ]
    },
    {
     "name": "stderr",
     "output_type": "stream",
     "text": [
      "\n"
     ]
    }
   ],
   "execution_count": 4
  },
  {
   "metadata": {
    "ExecuteTime": {
     "end_time": "2025-01-05T02:12:11.360442Z",
     "start_time": "2025-01-05T02:12:11.335405Z"
    }
   },
   "cell_type": "code",
   "source": [
    "prediction_input = [(\"17\", 4)]\n",
    "recommender.recommend(prediction_input)"
   ],
   "id": "cef422cfbcaa8b63",
   "outputs": [
    {
     "name": "stdout",
     "output_type": "stream",
     "text": [
      "predictions => [3.86701541 3.44239732 3.68528639 ... 4.19107632 3.7385815  4.19107632]\n",
      "items_ids => [17512 17521 19437 ... 21607 23931 13676]\n",
      "predictions => [3.86701541 3.44239732 3.68528639 ... 4.19107632 3.7385815  4.19107632]\n",
      "items_ids => [17512 17521 19437 ... 21607 23931 13676]\n",
      "Recommending [17512 17521 19437 ... 21607 23931 13676]\n"
     ]
    },
    {
     "data": {
      "text/plain": [
       "array([3.86701541, 3.44239732, 3.68528639, ..., 4.19107632, 3.7385815 ,\n",
       "       4.19107632], shape=(26505,))"
      ]
     },
     "execution_count": 5,
     "metadata": {},
     "output_type": "execute_result"
    }
   ],
   "execution_count": 5
  },
  {
   "metadata": {
    "ExecuteTime": {
     "end_time": "2025-01-05T02:12:11.472635Z",
     "start_time": "2025-01-05T02:12:11.467788Z"
    }
   },
   "cell_type": "code",
   "source": "",
   "id": "298347782d68fe2f",
   "outputs": [],
   "execution_count": null
  }
 ],
 "metadata": {
  "kernelspec": {
   "display_name": "recommender-system-uSlwvUxw-py3.10",
   "language": "python",
   "name": "python3"
  },
  "language_info": {
   "codemirror_mode": {
    "name": "ipython",
    "version": 3
   },
   "file_extension": ".py",
   "mimetype": "text/x-python",
   "name": "python",
   "nbconvert_exporter": "python",
   "pygments_lexer": "ipython3",
   "version": "3.10.12"
  }
 },
 "nbformat": 4,
 "nbformat_minor": 5
}
