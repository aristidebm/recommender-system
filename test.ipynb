{
 "cells": [
  {
   "metadata": {
    "ExecuteTime": {
     "end_time": "2025-01-06T14:30:25.096013Z",
     "start_time": "2025-01-06T14:30:25.086883Z"
    }
   },
   "cell_type": "code",
   "source": [
    "import random\n",
    "import numba\n",
    "import numpy as np"
   ],
   "id": "8db879ee0efb6876",
   "outputs": [],
   "execution_count": 14
  },
  {
   "metadata": {
    "collapsed": true,
    "ExecuteTime": {
     "end_time": "2025-01-06T14:29:30.919888Z",
     "start_time": "2025-01-06T14:29:27.838465Z"
    }
   },
   "cell_type": "code",
   "source": [
    "\n",
    "def monte_carlo_pi(nsamples=100):\n",
    "    acc = 0\n",
    "    for i in range(nsamples):\n",
    "        x = random.random()\n",
    "        y = random.random()\n",
    "        if (x ** 2 + y ** 2) < 1.0:\n",
    "            acc += 1\n",
    "    return 4 * acc / nsamples\n",
    "\n",
    "%timeit monte_carlo_pi(1_000_000)"
   ],
   "id": "initial_id",
   "outputs": [
    {
     "name": "stdout",
     "output_type": "stream",
     "text": [
      "375 ms ± 26.6 ms per loop (mean ± std. dev. of 7 runs, 1 loop each)\n"
     ]
    }
   ],
   "execution_count": 11
  },
  {
   "metadata": {
    "ExecuteTime": {
     "end_time": "2025-01-06T14:29:39.690776Z",
     "start_time": "2025-01-06T14:29:31.854380Z"
    }
   },
   "cell_type": "code",
   "source": [
    "@numba.njit\n",
    "def jitted_monte_carlo_pi(nsamples=100):\n",
    "    acc = 0\n",
    "    for i in range(nsamples):\n",
    "        x = random.random()\n",
    "        y = random.random()\n",
    "        if (x**2 + y**2) < 1.0:\n",
    "            acc += 1\n",
    "    return 4 * acc / nsamples\n",
    "\n",
    "\n",
    "%timeit jitted_monte_carlo_pi(1_000_000)"
   ],
   "id": "2618d23e3883ab1d",
   "outputs": [
    {
     "name": "stdout",
     "output_type": "stream",
     "text": [
      "9.35 ms ± 261 μs per loop (mean ± std. dev. of 7 runs, 100 loops each)\n"
     ]
    }
   ],
   "execution_count": 12
  },
  {
   "metadata": {
    "ExecuteTime": {
     "end_time": "2025-01-06T14:30:27.467525Z",
     "start_time": "2025-01-06T14:30:27.428500Z"
    }
   },
   "cell_type": "code",
   "source": [
    "x = np.random.random(1_000_000)\n",
    "y = np.random.random(1_000_000)"
   ],
   "id": "bb8f82e6a705497e",
   "outputs": [],
   "execution_count": 15
  },
  {
   "metadata": {
    "ExecuteTime": {
     "end_time": "2025-01-06T14:32:56.816165Z",
     "start_time": "2025-01-06T14:32:48.173798Z"
    }
   },
   "cell_type": "code",
   "source": [
    "def monte_carlo_pi_np(x, y):\n",
    "    acc = np.sum(x**2 + y**2 < 1)\n",
    "\n",
    "    return 4 * acc / len(x)\n",
    "\n",
    "\n",
    "%timeit monte_carlo_pi_np(x, y)"
   ],
   "id": "1b65b5e8a92978a0",
   "outputs": [
    {
     "name": "stdout",
     "output_type": "stream",
     "text": [
      "10.8 ms ± 5.26 ms per loop (mean ± std. dev. of 7 runs, 100 loops each)\n"
     ]
    }
   ],
   "execution_count": 17
  },
  {
   "metadata": {
    "ExecuteTime": {
     "end_time": "2025-01-06T14:34:01.662808Z",
     "start_time": "2025-01-06T14:34:00.950795Z"
    }
   },
   "cell_type": "code",
   "source": [
    "@numba.njit\n",
    "def monte_carlo_pi_np_jitted(x, y):\n",
    "    acc = np.sum(\n",
    "        x ** 2 + y ** 2 < 1\n",
    "    )\n",
    "\n",
    "    return 4 * acc / len(x)\n",
    "\n",
    "%timeit monte_carlo_pi_np_jitted(x, y)\n",
    "\n"
   ],
   "id": "355ecdd8d93e4a66",
   "outputs": [
    {
     "name": "stdout",
     "output_type": "stream",
     "text": [
      "2.8 ms ± 940 μs per loop (mean ± std. dev. of 7 runs, 1 loop each)\n"
     ]
    }
   ],
   "execution_count": 18
  },
  {
   "metadata": {
    "ExecuteTime": {
     "end_time": "2025-01-06T18:47:31.617083Z",
     "start_time": "2025-01-06T18:47:31.234325Z"
    }
   },
   "cell_type": "code",
   "source": [
    "import numba as nb\n",
    "from numba import types, typed\n",
    "from numba.experimental import jitclass\n",
    "from abc import ABC, abstractmethod\n",
    "\n",
    "# key and value types\n",
    "kv_ty = (types.int64, types.unicode_type)\n",
    "\n",
    "\n",
    "# A container class with:\n",
    "# * member 'd' holding a typed dictionary of int64 -> unicode string (kv_ty)\n",
    "# * member 'l' holding a typed list of float64\n",
    "@jitclass([(\"d\", types.DictType(*kv_ty)), (\"l\", types.ListType(types.float64))])\n",
    "class ContainerHolder(object):\n",
    "    def __init__(self):\n",
    "        # initialize the containers\n",
    "        self.d = typed.Dict.empty(*kv_ty)\n",
    "        self.l = typed.List.empty_list(types.float64)\n",
    "\n",
    "    def alli(self):\n",
    "        return self.d\n",
    "\n",
    "\n",
    "container = ContainerHolder()\n",
    "container.d[1] = \"apple\"\n",
    "container.d[2] = \"orange\"\n",
    "container.l.append(123.0)\n",
    "container.l.append(456.0)\n",
    "print(container.d)  # {1: apple, 2: orange}\n",
    "print(container.l)  # [123.0, 456.0]"
   ],
   "id": "f93f94fb22bfdab4",
   "outputs": [
    {
     "name": "stdout",
     "output_type": "stream",
     "text": [
      "{1: apple, 2: orange}\n",
      "[123.0, 456.0, ...]\n"
     ]
    }
   ],
   "execution_count": 27
  },
  {
   "metadata": {
    "ExecuteTime": {
     "end_time": "2025-01-06T18:47:36.822284Z",
     "start_time": "2025-01-06T18:47:36.691932Z"
    }
   },
   "cell_type": "code",
   "source": [
    "abstract_spec = [(\"_data\", types.ListType(types.Opaque(\"object\")))]\n",
    "\n",
    "\n",
    "@jitclass(abstract_spec)\n",
    "class AbstractSerialMapper(ABC):\n",
    "    def __init__(self):\n",
    "        self._data = []\n",
    "\n",
    "    def __len__(self):\n",
    "        return len(self._data)\n",
    "\n",
    "    def __getitem__(self, key):\n",
    "        return self._data[key]\n",
    "\n",
    "    def __iter__(self):\n",
    "        return iter(range(len(self._data)))"
   ],
   "id": "303f448877b8066e",
   "outputs": [
    {
     "ename": "TypeError",
     "evalue": "class members are not yet supported: __slots__, __abstractmethods__, _abc_impl",
     "output_type": "error",
     "traceback": [
      "\u001b[0;31m---------------------------------------------------------------------------\u001b[0m",
      "\u001b[0;31mTypeError\u001b[0m                                 Traceback (most recent call last)",
      "Cell \u001b[0;32mIn[28], line 6\u001b[0m\n\u001b[1;32m      1\u001b[0m abstract_spec \u001b[38;5;241m=\u001b[39m [\n\u001b[1;32m      2\u001b[0m     (\u001b[38;5;124m'\u001b[39m\u001b[38;5;124m_data\u001b[39m\u001b[38;5;124m'\u001b[39m, types\u001b[38;5;241m.\u001b[39mListType(types\u001b[38;5;241m.\u001b[39mOpaque(\u001b[38;5;124m'\u001b[39m\u001b[38;5;124mobject\u001b[39m\u001b[38;5;124m'\u001b[39m)))\n\u001b[1;32m      3\u001b[0m ]\n\u001b[1;32m      5\u001b[0m \u001b[38;5;129;43m@jitclass\u001b[39;49m\u001b[43m(\u001b[49m\u001b[43mabstract_spec\u001b[49m\u001b[43m)\u001b[49m\n\u001b[0;32m----> 6\u001b[0m \u001b[38;5;28;43;01mclass\u001b[39;49;00m\u001b[43m \u001b[49m\u001b[38;5;21;43;01mAbstractSerialMapper\u001b[39;49;00m\u001b[43m(\u001b[49m\u001b[43mABC\u001b[49m\u001b[43m)\u001b[49m\u001b[43m:\u001b[49m\n\u001b[1;32m      7\u001b[0m \u001b[43m    \u001b[49m\u001b[38;5;28;43;01mdef\u001b[39;49;00m\u001b[43m \u001b[49m\u001b[38;5;21;43m__init__\u001b[39;49m\u001b[43m(\u001b[49m\u001b[38;5;28;43mself\u001b[39;49m\u001b[43m)\u001b[49m\u001b[43m:\u001b[49m\n\u001b[1;32m      8\u001b[0m \u001b[43m        \u001b[49m\u001b[38;5;28;43mself\u001b[39;49m\u001b[38;5;241;43m.\u001b[39;49m\u001b[43m_data\u001b[49m\u001b[43m \u001b[49m\u001b[38;5;241;43m=\u001b[39;49m\u001b[43m \u001b[49m\u001b[43m[\u001b[49m\u001b[43m]\u001b[49m\n",
      "File \u001b[0;32m~/.cache/pypoetry/virtualenvs/recommender-system-uSlwvUxw-py3.10/lib/python3.10/site-packages/numba/experimental/jitclass/decorators.py:77\u001b[0m, in \u001b[0;36mjitclass.<locals>.wrap\u001b[0;34m(cls)\u001b[0m\n\u001b[1;32m     74\u001b[0m \u001b[38;5;28;01melse\u001b[39;00m:\n\u001b[1;32m     75\u001b[0m     \u001b[38;5;28;01mfrom\u001b[39;00m \u001b[38;5;21;01mnumba\u001b[39;00m\u001b[38;5;21;01m.\u001b[39;00m\u001b[38;5;21;01mexperimental\u001b[39;00m\u001b[38;5;21;01m.\u001b[39;00m\u001b[38;5;21;01mjitclass\u001b[39;00m\u001b[38;5;21;01m.\u001b[39;00m\u001b[38;5;21;01mbase\u001b[39;00m \u001b[38;5;28;01mimport\u001b[39;00m (register_class_type,\n\u001b[1;32m     76\u001b[0m                                                   ClassBuilder)\n\u001b[0;32m---> 77\u001b[0m     cls_jitted \u001b[38;5;241m=\u001b[39m \u001b[43mregister_class_type\u001b[49m\u001b[43m(\u001b[49m\u001b[38;5;28;43mcls\u001b[39;49m\u001b[43m,\u001b[49m\u001b[43m \u001b[49m\u001b[43mspec\u001b[49m\u001b[43m,\u001b[49m\u001b[43m \u001b[49m\u001b[43mtypes\u001b[49m\u001b[38;5;241;43m.\u001b[39;49m\u001b[43mClassType\u001b[49m\u001b[43m,\u001b[49m\n\u001b[1;32m     78\u001b[0m \u001b[43m                                     \u001b[49m\u001b[43mClassBuilder\u001b[49m\u001b[43m)\u001b[49m\n\u001b[1;32m     80\u001b[0m     \u001b[38;5;66;03m# Preserve the module name of the original class\u001b[39;00m\n\u001b[1;32m     81\u001b[0m     cls_jitted\u001b[38;5;241m.\u001b[39m\u001b[38;5;18m__module__\u001b[39m \u001b[38;5;241m=\u001b[39m \u001b[38;5;28mcls\u001b[39m\u001b[38;5;241m.\u001b[39m\u001b[38;5;18m__module__\u001b[39m\n",
      "File \u001b[0;32m~/.cache/pypoetry/virtualenvs/recommender-system-uSlwvUxw-py3.10/lib/python3.10/site-packages/numba/experimental/jitclass/base.py:213\u001b[0m, in \u001b[0;36mregister_class_type\u001b[0;34m(cls, spec, class_ctor, builder)\u001b[0m\n\u001b[1;32m    211\u001b[0m     msg \u001b[38;5;241m=\u001b[39m \u001b[38;5;124m\"\u001b[39m\u001b[38;5;124mclass members are not yet supported: \u001b[39m\u001b[38;5;132;01m{0}\u001b[39;00m\u001b[38;5;124m\"\u001b[39m\n\u001b[1;32m    212\u001b[0m     members \u001b[38;5;241m=\u001b[39m \u001b[38;5;124m'\u001b[39m\u001b[38;5;124m, \u001b[39m\u001b[38;5;124m'\u001b[39m\u001b[38;5;241m.\u001b[39mjoin(others\u001b[38;5;241m.\u001b[39mkeys())\n\u001b[0;32m--> 213\u001b[0m     \u001b[38;5;28;01mraise\u001b[39;00m \u001b[38;5;167;01mTypeError\u001b[39;00m(msg\u001b[38;5;241m.\u001b[39mformat(members))\n\u001b[1;32m    215\u001b[0m \u001b[38;5;28;01mfor\u001b[39;00m k, v \u001b[38;5;129;01min\u001b[39;00m props\u001b[38;5;241m.\u001b[39mitems():\n\u001b[1;32m    216\u001b[0m     \u001b[38;5;28;01mif\u001b[39;00m v\u001b[38;5;241m.\u001b[39mfdel \u001b[38;5;129;01mis\u001b[39;00m \u001b[38;5;129;01mnot\u001b[39;00m \u001b[38;5;28;01mNone\u001b[39;00m:\n",
      "\u001b[0;31mTypeError\u001b[0m: class members are not yet supported: __slots__, __abstractmethods__, _abc_impl"
     ]
    }
   ],
   "execution_count": 28
  },
  {
   "metadata": {
    "ExecuteTime": {
     "end_time": "2025-01-06T18:58:30.736817Z",
     "start_time": "2025-01-06T18:58:27.146213Z"
    }
   },
   "cell_type": "code",
   "source": [
    "import numba as nb\n",
    "from numba.experimental import jitclass\n",
    "\n",
    "\n",
    "# =============================================================================\n",
    "# Definition of Point\n",
    "# =============================================================================\n",
    "@jitclass([(\"x\", nb.f8), (\"y\", nb.f8)])\n",
    "class Point:\n",
    "    def __init__(self, x, y):\n",
    "        self.x = x\n",
    "        self.y = y\n",
    "\n",
    "    def __eq__(self, other):\n",
    "        return self.x == other.x and self.y == other.y\n",
    "\n",
    "\n",
    "typePoint = Point.class_type.instance_type\n",
    "\n",
    "# Example\n",
    "p = Point(0.0, 0.0)\n",
    "print(f\"Point => x:{p.x}, y:{p.y}\")\n",
    "print(Point(0.0, 0.0) == Point(0.0, 0.0))\n",
    "print(Point(0.0, 0.0) == Point(1.0, 0.0))\n",
    "# Point => x:0.0, y:0.0\n",
    "# True\n",
    "# False\n",
    "\n",
    "\n",
    "# =============================================================================\n",
    "# Definition of Edge\n",
    "# =============================================================================\n",
    "@jitclass(\n",
    "    [\n",
    "        (\"id\", nb.i8),\n",
    "        (\"p0\", typePoint),\n",
    "        (\"p1\", typePoint),\n",
    "        (\"next\", nb.i8),\n",
    "        (\"inv\", nb.i8),\n",
    "        (\"triangle\", nb.i8),\n",
    "    ]\n",
    ")\n",
    "class Edge:\n",
    "    def __init__(self, id: int, p0, p1):\n",
    "        self.id = id\n",
    "        self.p0 = p0\n",
    "        self.p1 = p1\n",
    "        self.next = -1\n",
    "        self.inv = -1\n",
    "        self.triangle = -1\n",
    "\n",
    "\n",
    "typeEdge = Edge.class_type.instance_type\n",
    "\n",
    "# Example\n",
    "edge = Edge(1, Point(1.0, 0.0), Point(0.0, 1.0))\n",
    "print(\n",
    "    f\"\\nEdge => id: {edge.id}, p0: ({edge.p0.x}, {edge.p0.y}), p1: ({edge.p1.x}, {edge.p1.y})\"\n",
    ")\n",
    "\n",
    "\n",
    "# =============================================================================\n",
    "# Definition of Triangle\n",
    "# =============================================================================\n",
    "@jitclass(\n",
    "    [\n",
    "        (\"e01\", typeEdge),\n",
    "        (\"e12\", typeEdge),\n",
    "        (\"e20\", typeEdge),\n",
    "        (\"id\", nb.u8),\n",
    "        (\"p0\", typePoint),\n",
    "        (\"p1\", typePoint),\n",
    "        (\"p2\", typePoint),\n",
    "        (\"vertices\", nb.types.ListType(typePoint)),\n",
    "    ]\n",
    ")\n",
    "class Triangle:\n",
    "    def __init__(self, id: int, e01, e12, e20):\n",
    "        self.id = id\n",
    "        self.e01 = e01\n",
    "        self.e12 = e12\n",
    "        self.e20 = e20\n",
    "        self.e01.next = e12.id\n",
    "        self.e12.next = e20.id\n",
    "        self.e20.next = e01.id\n",
    "        self.e01.triangle = id\n",
    "        self.e12.triangle = id\n",
    "        self.e20.triangle = id\n",
    "        self.p0 = e01.p0\n",
    "        self.p1 = e01.p1\n",
    "        self.p2 = e12.p1\n",
    "        self.vertices = nb.typed.List([self.p0, self.p1, self.p2])\n",
    "        if self.closed():\n",
    "            print(\"I am a triangle.\")\n",
    "        else:\n",
    "            print(\"I am not a triangle.\")\n",
    "\n",
    "    def closed(self) -> bool:\n",
    "        return (\n",
    "            (self.e01.p1 == self.e12.p0)\n",
    "            and (self.e12.p1 == self.e20.p0)\n",
    "            and (self.e20.p1 == self.e01.p0)\n",
    "        )\n",
    "\n",
    "\n",
    "typeTriangle = Triangle.class_type.instance_type\n",
    "\n",
    "# Example 1 (closed)\n",
    "p0 = Point(0, 0)\n",
    "p1 = Point(1, 0)\n",
    "p2 = Point(0, 1)\n",
    "print()\n",
    "t = Triangle(1, Edge(1, p0, p1), Edge(2, p1, p2), Edge(3, p2, p0))\n",
    "print(f\"Triangle => id: {t.id} (closed)\")\n",
    "for v in t.vertices:\n",
    "    print(f\"            x:{v.x}, y:{v.y}\")\n",
    "print(f\"    Is triangle closed? => {t.closed()}\")\n",
    "\n",
    "# Example 2 (not closed)\n",
    "p0 = Point(0, 0)\n",
    "p1 = Point(1, 0)\n",
    "p2 = Point(0, 1)\n",
    "print()\n",
    "t = Triangle(2, Edge(1, p0, p1), Edge(2, p1, p2), Edge(3, p0, p2))\n",
    "print(f\"Triangle => id: {t.id} (not closed)\")\n",
    "for v in t.vertices:\n",
    "    print(f\"            x:{v.x}, y:{v.y}\")\n",
    "print(f\"    Is triangle closed? => {t.closed()}\")\n",
    "# I am a triangle.\n",
    "# Triangle => id: 1 (closed)\n",
    "#             x:0.0, y:0.0\n",
    "#             x:1.0, y:0.0\n",
    "#             x:0.0, y:1.0\n",
    "#     Is triangle closed? => True\n",
    "\n",
    "# I am not a triangle.\n",
    "# Triangle => id: 2 (not closed)\n",
    "#             x:0.0, y:0.0\n",
    "#             x:1.0, y:0.0\n",
    "#             x:0.0, y:1.0\n",
    "#     Is triangle closed? => False"
   ],
   "id": "b60c8adb34cddbe6",
   "outputs": [
    {
     "name": "stdout",
     "output_type": "stream",
     "text": [
      "Point => x:0.0, y:0.0\n",
      "True\n",
      "False\n",
      "\n",
      "Edge => id: 1, p0: (1.0, 0.0), p1: (0.0, 1.0)\n",
      "\n",
      "I am a triangle.\n",
      "Triangle => id: 1 (closed)\n",
      "            x:0.0, y:0.0\n",
      "            x:1.0, y:0.0\n",
      "            x:0.0, y:1.0\n",
      "    Is triangle closed? => True\n",
      "\n",
      "I am not a triangle.\n",
      "Triangle => id: 2 (not closed)\n",
      "            x:0.0, y:0.0\n",
      "            x:1.0, y:0.0\n",
      "            x:0.0, y:1.0\n",
      "    Is triangle closed? => False\n"
     ]
    }
   ],
   "execution_count": 29
  }
 ],
 "metadata": {
  "kernelspec": {
   "display_name": "Python 3",
   "language": "python",
   "name": "python3"
  },
  "language_info": {
   "codemirror_mode": {
    "name": "ipython",
    "version": 2
   },
   "file_extension": ".py",
   "mimetype": "text/x-python",
   "name": "python",
   "nbconvert_exporter": "python",
   "pygments_lexer": "ipython2",
   "version": "2.7.6"
  }
 },
 "nbformat": 4,
 "nbformat_minor": 5
}
