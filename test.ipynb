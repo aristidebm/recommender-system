{
 "cells": [
  {
   "metadata": {
    "ExecuteTime": {
     "end_time": "2025-01-07T20:22:29.041339Z",
     "start_time": "2025-01-07T20:22:28.035565Z"
    }
   },
   "cell_type": "code",
   "source": [
    "import pandas as pd\n",
    "\n",
    "from src.algorithms.alternating_least_squares import AlternatingLeastSquares\n",
    "from src.helpers.dataset_indexer import DatasetIndexer\n",
    "from src.helpers.checkpoint_manager import CheckpointManager\n",
    "from src.recommenders import CollaborativeFilteringRecommenderBuilder\n",
    "from src.backends import Backend\n",
    "from src.helpers._logging import logger  # noqa\n",
    "from src.settings import settings\n",
    "\n",
    "from src.helpers.graphing import (\n",
    "    plot_als_train_test_loss_evolution,\n",
    "    plot_als_train_test_rmse_evolution,\n",
    "    # plot_error_evolution,\n",
    "    plot_power_low_distribution,\n",
    "    plot_data_item_distribution_as_hist,\n",
    ")"
   ],
   "id": "8db879ee0efb6876",
   "outputs": [],
   "execution_count": 1
  },
  {
   "metadata": {
    "ExecuteTime": {
     "end_time": "2025-01-07T20:22:29.756799Z",
     "start_time": "2025-01-07T20:22:29.058450Z"
    }
   },
   "cell_type": "code",
   "source": [
    "dataset_indexer = DatasetIndexer(\n",
    "    file_path=\"./ml-32m/ratings.csv\",\n",
    "    user_header=\"userId\",\n",
    "    item_header=\"movieId\",\n",
    "    rating_header=\"rating\",\n",
    "    limit=settings.general.LINES_COUNT_TO_READ,\n",
    ")\n",
    "\n",
    "indexed_data = dataset_indexer.index_simple(\n",
    "    approximate_train_ratio=settings.general.APPROXIMATE_TRAIN_RATIO\n",
    ")\n",
    "# Import the movie csv file that will act as our movie database\n",
    "# And that database is needed by the backend to query the movies\n",
    "item_database = (\n",
    "    pd.read_csv(\"./ml-32m/movies.csv\", dtype={\"movieId\": str})\n",
    "    .set_index(\"movieId\")\n",
    "    .to_dict(orient=\"index\")\n",
    ")"
   ],
   "id": "945ae18b8945a161",
   "outputs": [
    {
     "name": "stdout",
     "output_type": "stream",
     "text": [
      "2025-01-07 22:22:29,061 [WARNING] The current implementation does not split the data into train and test sets exactly with the provided ratio. We use the provided ratio as a probability for a Bernoulli distribution to know whether a given data point should be used as a training data or a test data.\n"
     ]
    },
    {
     "ename": "TypeError",
     "evalue": "list indices must be integers or slices, not NoneType",
     "output_type": "error",
     "traceback": [
      "\u001b[0;31m---------------------------------------------------------------------------\u001b[0m",
      "\u001b[0;31mTypeError\u001b[0m                                 Traceback (most recent call last)",
      "Cell \u001b[0;32mIn[2], line 9\u001b[0m\n\u001b[1;32m      1\u001b[0m dataset_indexer \u001b[38;5;241m=\u001b[39m DatasetIndexer(\n\u001b[1;32m      2\u001b[0m     file_path\u001b[38;5;241m=\u001b[39m\u001b[38;5;124m\"\u001b[39m\u001b[38;5;124m./ml-32m/ratings.csv\u001b[39m\u001b[38;5;124m\"\u001b[39m,\n\u001b[1;32m      3\u001b[0m     user_header\u001b[38;5;241m=\u001b[39m\u001b[38;5;124m\"\u001b[39m\u001b[38;5;124muserId\u001b[39m\u001b[38;5;124m\"\u001b[39m,\n\u001b[0;32m   (...)\u001b[0m\n\u001b[1;32m      6\u001b[0m     limit\u001b[38;5;241m=\u001b[39msettings\u001b[38;5;241m.\u001b[39mgeneral\u001b[38;5;241m.\u001b[39mLINES_COUNT_TO_READ,\n\u001b[1;32m      7\u001b[0m )\n\u001b[0;32m----> 9\u001b[0m indexed_data \u001b[38;5;241m=\u001b[39m \u001b[43mdataset_indexer\u001b[49m\u001b[38;5;241;43m.\u001b[39;49m\u001b[43mindex_simple\u001b[49m\u001b[43m(\u001b[49m\n\u001b[1;32m     10\u001b[0m \u001b[43m    \u001b[49m\u001b[43mapproximate_train_ratio\u001b[49m\u001b[38;5;241;43m=\u001b[39;49m\u001b[43msettings\u001b[49m\u001b[38;5;241;43m.\u001b[39;49m\u001b[43mgeneral\u001b[49m\u001b[38;5;241;43m.\u001b[39;49m\u001b[43mAPPROXIMATE_TRAIN_RATIO\u001b[49m\n\u001b[1;32m     11\u001b[0m \u001b[43m)\u001b[49m\n\u001b[1;32m     12\u001b[0m \u001b[38;5;66;03m# Import the movie csv file that will act as our movie database\u001b[39;00m\n\u001b[1;32m     13\u001b[0m \u001b[38;5;66;03m# And that database is needed by the backend to query the movies\u001b[39;00m\n\u001b[1;32m     14\u001b[0m item_database \u001b[38;5;241m=\u001b[39m (\n\u001b[1;32m     15\u001b[0m     pd\u001b[38;5;241m.\u001b[39mread_csv(\u001b[38;5;124m\"\u001b[39m\u001b[38;5;124m./ml-32m/movies.csv\u001b[39m\u001b[38;5;124m\"\u001b[39m, dtype\u001b[38;5;241m=\u001b[39m{\u001b[38;5;124m\"\u001b[39m\u001b[38;5;124mmovieId\u001b[39m\u001b[38;5;124m\"\u001b[39m: \u001b[38;5;28mstr\u001b[39m})\n\u001b[1;32m     16\u001b[0m     \u001b[38;5;241m.\u001b[39mset_index(\u001b[38;5;124m\"\u001b[39m\u001b[38;5;124mmovieId\u001b[39m\u001b[38;5;124m\"\u001b[39m)\n\u001b[1;32m     17\u001b[0m     \u001b[38;5;241m.\u001b[39mto_dict(orient\u001b[38;5;241m=\u001b[39m\u001b[38;5;124m\"\u001b[39m\u001b[38;5;124mindex\u001b[39m\u001b[38;5;124m\"\u001b[39m)\n\u001b[1;32m     18\u001b[0m )\n",
      "File \u001b[0;32m~/AI4Science/ml_at_scale/src/helpers/dataset_indexer.py:308\u001b[0m, in \u001b[0;36mDatasetIndexer.index_simple\u001b[0;34m(self, approximate_train_ratio)\u001b[0m\n\u001b[1;32m    305\u001b[0m data_by_user_id__train\u001b[38;5;241m.\u001b[39madd(data\u001b[38;5;241m=\u001b[39muser_data, key\u001b[38;5;241m=\u001b[39muser_id)\n\u001b[1;32m    306\u001b[0m data_by_item_id__train\u001b[38;5;241m.\u001b[39madd(data\u001b[38;5;241m=\u001b[39mitem_data, key\u001b[38;5;241m=\u001b[39mitem_id)\n\u001b[0;32m--> 308\u001b[0m \u001b[38;5;28;01mif\u001b[39;00m \u001b[43mdata_by_user_id__test\u001b[49m\u001b[43m[\u001b[49m\u001b[43muser_id\u001b[49m\u001b[43m]\u001b[49m \u001b[38;5;129;01mis\u001b[39;00m \u001b[38;5;28;01mNone\u001b[39;00m:\n\u001b[1;32m    309\u001b[0m     \u001b[38;5;66;03m# The user is not yet in the train set, so add it\u001b[39;00m\n\u001b[1;32m    310\u001b[0m     data_by_user_id__train\u001b[38;5;241m.\u001b[39madd(SerialUnidirectionalMapper\u001b[38;5;241m.\u001b[39mEMPTY)\n\u001b[1;32m    312\u001b[0m \u001b[38;5;28;01mif\u001b[39;00m data_by_item_id__test[item_id] \u001b[38;5;129;01mis\u001b[39;00m \u001b[38;5;28;01mNone\u001b[39;00m:\n\u001b[1;32m    313\u001b[0m     \u001b[38;5;66;03m# The item is not yet in the train set, so add it\u001b[39;00m\n",
      "File \u001b[0;32m~/AI4Science/ml_at_scale/src/helpers/serial_mapper.py:22\u001b[0m, in \u001b[0;36mAbstractSerialMapper.__getitem__\u001b[0;34m(self, key)\u001b[0m\n\u001b[1;32m     20\u001b[0m \u001b[38;5;28;01mdef\u001b[39;00m \u001b[38;5;21m__getitem__\u001b[39m(\u001b[38;5;28mself\u001b[39m, key):\n\u001b[1;32m     21\u001b[0m     \u001b[38;5;28;01mwith\u001b[39;00m contextlib\u001b[38;5;241m.\u001b[39msuppress(\u001b[38;5;167;01mIndexError\u001b[39;00m):\n\u001b[0;32m---> 22\u001b[0m         \u001b[38;5;28;01mreturn\u001b[39;00m \u001b[38;5;28;43mself\u001b[39;49m\u001b[38;5;241;43m.\u001b[39;49m\u001b[43m_data\u001b[49m\u001b[43m[\u001b[49m\u001b[43mkey\u001b[49m\u001b[43m]\u001b[49m\n",
      "\u001b[0;31mTypeError\u001b[0m: list indices must be integers or slices, not NoneType"
     ]
    }
   ],
   "execution_count": 2
  },
  {
   "metadata": {},
   "cell_type": "code",
   "outputs": [],
   "execution_count": null,
   "source": [
    "# plot_data_item_distribution_as_hist(indexed_data)"
   ],
   "id": "b289e470d3a327e9"
  },
  {
   "metadata": {},
   "cell_type": "code",
   "outputs": [],
   "execution_count": null,
   "source": [
    "# plot_power_low_distribution(indexed_data,)"
   ],
   "id": "349b1ec69f90bfc6"
  },
  {
   "metadata": {},
   "cell_type": "code",
   "outputs": [],
   "execution_count": null,
   "source": [
    "als_instance = AlternatingLeastSquares(\n",
    "    hyper_lambda=settings.als.HYPER_LAMBDA,\n",
    "    hyper_gamma=settings.als.HYPER_GAMMA,\n",
    "    hyper_tau=settings.als.HYPER_TAU,\n",
    "    hyper_n_epochs=settings.als.HYPER_N_EPOCH,\n",
    "    hyper_n_factors=settings.als.HYPER_N_FACTOR,\n",
    ")\n",
    "\n",
    "als_backend = Backend(\n",
    "    # Define the algorithm\n",
    "    algorithm=als_instance,\n",
    "    checkpoint_manager=CheckpointManager(\n",
    "        checkpoint_folder=settings.als.CHECKPOINT_FOLDER,\n",
    "        sub_folder=str(settings.general.LINES_COUNT_TO_READ),\n",
    "    ),\n",
    "    # The predictor needs this to render the name of the items\n",
    "    item_database=item_database,\n",
    "    # Whether we should resume by using the last state of\n",
    "    # the algorithm the checkpoint manager folder or not.\n",
    "    save_checkpoint=False,\n",
    "    resume=True,\n",
    "    checkpoint_to_resume=None,\n",
    ")"
   ],
   "id": "7eba3dd8eee8d8f"
  },
  {
   "metadata": {},
   "cell_type": "code",
   "outputs": [],
   "execution_count": null,
   "source": [
    "recommender_builder = CollaborativeFilteringRecommenderBuilder(\n",
    "    backend=als_backend,\n",
    ")\n",
    "\n",
    "recommender = recommender_builder.build(data=indexed_data)"
   ],
   "id": "25124e7791b3ac70"
  },
  {
   "metadata": {},
   "cell_type": "code",
   "outputs": [],
   "execution_count": null,
   "source": [
    "# plot_als_train_test_rmse_evolution(als_backend.algorithm)"
   ],
   "id": "7ddb1df86b70fbb7"
  },
  {
   "metadata": {},
   "cell_type": "code",
   "outputs": [],
   "execution_count": null,
   "source": [
    "# plot_als_train_test_loss_evolution(als_backend.algorithm)"
   ],
   "id": "6eaf9b92e0da9c8c"
  }
 ],
 "metadata": {
  "kernelspec": {
   "display_name": "Python 3",
   "language": "python",
   "name": "python3"
  },
  "language_info": {
   "codemirror_mode": {
    "name": "ipython",
    "version": 2
   },
   "file_extension": ".py",
   "mimetype": "text/x-python",
   "name": "python",
   "nbconvert_exporter": "python",
   "pygments_lexer": "ipython2",
   "version": "2.7.6"
  }
 },
 "nbformat": 4,
 "nbformat_minor": 5
}
